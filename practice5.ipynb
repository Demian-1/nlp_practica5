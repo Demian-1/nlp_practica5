{
 "cells": [
  {
   "cell_type": "code",
   "execution_count": 3,
   "id": "f27a1ea6-4cc1-4f5f-8d4c-0517ef83f9a8",
   "metadata": {},
   "outputs": [],
   "source": [
    "import csv\n",
    "import pandas as pd\n",
    "import pickle\n",
    "import re\n",
    "from sklearn.model_selection import train_test_split\n",
    "import spacy\n",
    "from sklearn.feature_extraction.text import TfidfVectorizer\n",
    "from sklearn.feature_extraction.text import CountVectorizer\n",
    "from sklearn.linear_model import LogisticRegression\n",
    "from sklearn.naive_bayes import MultinomialNB\n",
    "from sklearn.metrics import classification_report\n",
    "import numpy as np\n",
    "import os.path\n",
    "import nltk\n",
    "from nltk.corpus import stopwords\n",
    "from nltk.tokenize import word_tokenize\n",
    "from nltk.stem import WordNetLemmatizer\n",
    "from sklearn.model_selection import cross_validate"
   ]
  },
  {
   "cell_type": "code",
   "execution_count": 4,
   "id": "9e41db94-749d-4516-bb5b-1d69c8cd354d",
   "metadata": {},
   "outputs": [
    {
     "data": {
      "text/html": [
       "<div>\n",
       "<style scoped>\n",
       "    .dataframe tbody tr th:only-of-type {\n",
       "        vertical-align: middle;\n",
       "    }\n",
       "\n",
       "    .dataframe tbody tr th {\n",
       "        vertical-align: top;\n",
       "    }\n",
       "\n",
       "    .dataframe thead th {\n",
       "        text-align: right;\n",
       "    }\n",
       "</style>\n",
       "<table border=\"1\" class=\"dataframe\">\n",
       "  <thead>\n",
       "    <tr style=\"text-align: right;\">\n",
       "      <th></th>\n",
       "      <th>Title</th>\n",
       "      <th>Opinion</th>\n",
       "      <th>Polarity</th>\n",
       "      <th>Attraction</th>\n",
       "    </tr>\n",
       "  </thead>\n",
       "  <tbody>\n",
       "    <tr>\n",
       "      <th>0</th>\n",
       "      <td>Pésimo lugar</td>\n",
       "      <td>Piensen dos veces antes de ir a este hotel, te...</td>\n",
       "      <td>1</td>\n",
       "      <td>Hotel</td>\n",
       "    </tr>\n",
       "    <tr>\n",
       "      <th>1</th>\n",
       "      <td>No vayas a lugar de Eddie</td>\n",
       "      <td>Cuatro de nosotros fuimos recientemente a Eddi...</td>\n",
       "      <td>1</td>\n",
       "      <td>Restaurant</td>\n",
       "    </tr>\n",
       "    <tr>\n",
       "      <th>2</th>\n",
       "      <td>Mala relación calidad-precio</td>\n",
       "      <td>seguiré corta y simple: limpieza\\n- bad. Tengo...</td>\n",
       "      <td>1</td>\n",
       "      <td>Hotel</td>\n",
       "    </tr>\n",
       "    <tr>\n",
       "      <th>3</th>\n",
       "      <td>Minusválido? ¡No te alojes aquí!</td>\n",
       "      <td>Al reservar un hotel con multipropiedad Mayan ...</td>\n",
       "      <td>1</td>\n",
       "      <td>Hotel</td>\n",
       "    </tr>\n",
       "    <tr>\n",
       "      <th>4</th>\n",
       "      <td>Es una porqueria no pierdan su tiempo</td>\n",
       "      <td>No pierdan su tiempo ni dinero, venimos porque...</td>\n",
       "      <td>1</td>\n",
       "      <td>Hotel</td>\n",
       "    </tr>\n",
       "    <tr>\n",
       "      <th>5</th>\n",
       "      <td>El peor huevos Benedict jamás</td>\n",
       "      <td>Hoy teníamos el desayuno por segunda vez en po...</td>\n",
       "      <td>1</td>\n",
       "      <td>Restaurant</td>\n",
       "    </tr>\n",
       "    <tr>\n",
       "      <th>6</th>\n",
       "      <td>Definitivamente no volvería a hospedarme en Sa...</td>\n",
       "      <td>El hotel en si no es malo, pero mi experiencia...</td>\n",
       "      <td>1</td>\n",
       "      <td>Hotel</td>\n",
       "    </tr>\n",
       "    <tr>\n",
       "      <th>7</th>\n",
       "      <td>Terrible</td>\n",
       "      <td>No estoy seguro de por qué este restaurante ti...</td>\n",
       "      <td>1</td>\n",
       "      <td>Restaurant</td>\n",
       "    </tr>\n",
       "    <tr>\n",
       "      <th>8</th>\n",
       "      <td>Bebidas ADULTERADAS, FATAL mi experiencia!!!</td>\n",
       "      <td>Llegué a este hotel “por desgracia” mi reserva...</td>\n",
       "      <td>1</td>\n",
       "      <td>Hotel</td>\n",
       "    </tr>\n",
       "    <tr>\n",
       "      <th>9</th>\n",
       "      <td>Hotel ha ido cuesta abajo</td>\n",
       "      <td>Hemos estado viniendo a Villa la Estancia dura...</td>\n",
       "      <td>1</td>\n",
       "      <td>Hotel</td>\n",
       "    </tr>\n",
       "  </tbody>\n",
       "</table>\n",
       "</div>"
      ],
      "text/plain": [
       "                                               Title  \\\n",
       "0                                       Pésimo lugar   \n",
       "1                          No vayas a lugar de Eddie   \n",
       "2                       Mala relación calidad-precio   \n",
       "3                   Minusválido? ¡No te alojes aquí!   \n",
       "4              Es una porqueria no pierdan su tiempo   \n",
       "5                      El peor huevos Benedict jamás   \n",
       "6  Definitivamente no volvería a hospedarme en Sa...   \n",
       "7                                           Terrible   \n",
       "8       Bebidas ADULTERADAS, FATAL mi experiencia!!!   \n",
       "9                          Hotel ha ido cuesta abajo   \n",
       "\n",
       "                                             Opinion  Polarity  Attraction  \n",
       "0  Piensen dos veces antes de ir a este hotel, te...         1       Hotel  \n",
       "1  Cuatro de nosotros fuimos recientemente a Eddi...         1  Restaurant  \n",
       "2  seguiré corta y simple: limpieza\\n- bad. Tengo...         1       Hotel  \n",
       "3  Al reservar un hotel con multipropiedad Mayan ...         1       Hotel  \n",
       "4  No pierdan su tiempo ni dinero, venimos porque...         1       Hotel  \n",
       "5  Hoy teníamos el desayuno por segunda vez en po...         1  Restaurant  \n",
       "6  El hotel en si no es malo, pero mi experiencia...         1       Hotel  \n",
       "7  No estoy seguro de por qué este restaurante ti...         1  Restaurant  \n",
       "8  Llegué a este hotel “por desgracia” mi reserva...         1       Hotel  \n",
       "9  Hemos estado viniendo a Villa la Estancia dura...         1       Hotel  "
      ]
     },
     "execution_count": 4,
     "metadata": {},
     "output_type": "execute_result"
    }
   ],
   "source": [
    "data = pd.read_excel(\"Rest_Mex_2022.xlsx\")\n",
    "data.head(10)"
   ]
  },
  {
   "cell_type": "code",
   "execution_count": 5,
   "metadata": {},
   "outputs": [
    {
     "data": {
      "text/plain": [
       "'Aunque me parece algo hipócrita el arte de Rivera (todo lo ve desde fuera desde una zona segura), debo reconocer que tiene algunas obras que me agradan. Este museo es interesante por el simple hecho de conocer el primer hogar que fuera de Rivera. Bastante fancy. Está chido si te gusta ver cosas antiguas.'"
      ]
     },
     "execution_count": 5,
     "metadata": {},
     "output_type": "execute_result"
    }
   ],
   "source": [
    "data['Opinion'][7693]"
   ]
  },
  {
   "cell_type": "code",
   "execution_count": 27,
   "id": "454c3bb9-6cee-406c-93ad-d5bbf44016ee",
   "metadata": {},
   "outputs": [
    {
     "name": "stdout",
     "output_type": "stream",
     "text": [
      "                                      Title  \\\n",
      "0                              Pésimo lugar   \n",
      "1                 No vayas a lugar de Eddie   \n",
      "2              Mala relación calidad-precio   \n",
      "3          Minusválido? ¡No te alojes aquí!   \n",
      "4     Es una porqueria no pierdan su tiempo   \n",
      "...                                     ...   \n",
      "9995                               Vacacion   \n",
      "9996                 Excelente y muy barato   \n",
      "9997                      Mi lugar favorito   \n",
      "9998                     Joysquad excelente   \n",
      "9999               El hotel y sus empleados   \n",
      "\n",
      "                                                Opinion  Polarity  Attraction  \n",
      "0     Piensen dos veces antes de ir a este hotel, te...         1       Hotel  \n",
      "1     Cuatro de nosotros fuimos recientemente a Eddi...         1  Restaurant  \n",
      "2     seguiré corta y simple: limpieza\\n- bad. Tengo...         1       Hotel  \n",
      "3     Al reservar un hotel con multipropiedad Mayan ...         1       Hotel  \n",
      "4     No pierdan su tiempo ni dinero, venimos porque...         1       Hotel  \n",
      "...                                                 ...       ...         ...  \n",
      "9995  Un excelente lugar para vacacionar, servicio d...         5       Hotel  \n",
      "9996  Buena carne, tortillas recién hechas, queso fu...         5  Restaurant  \n",
      "9997  Siempre que vamos, y vamos muy seguido, comemo...         5  Restaurant  \n",
      "9998  Lisbhet de Torre Punta excelente servicio muy ...         5       Hotel  \n",
      "9999  El hotel samba es el mejor en su clase podrá v...         5       Hotel  \n",
      "\n",
      "[10000 rows x 4 columns]\n"
     ]
    }
   ],
   "source": [
    "myTest = data.head(10000)\n",
    "print(myTest)"
   ]
  },
  {
   "cell_type": "markdown",
   "metadata": {},
   "source": [
    "# Normalizacion"
   ]
  },
  {
   "cell_type": "code",
   "execution_count": 24,
   "metadata": {},
   "outputs": [],
   "source": [
    "nlp = spacy.load(\"es_core_news_sm\")"
   ]
  },
  {
   "cell_type": "code",
   "execution_count": 25,
   "metadata": {},
   "outputs": [
    {
     "name": "stderr",
     "output_type": "stream",
     "text": [
      "[nltk_data] Downloading package stopwords to\n",
      "[nltk_data]     C:\\Users\\sergi\\AppData\\Roaming\\nltk_data...\n",
      "[nltk_data]   Package stopwords is already up-to-date!\n",
      "[nltk_data] Downloading package punkt to\n",
      "[nltk_data]     C:\\Users\\sergi\\AppData\\Roaming\\nltk_data...\n",
      "[nltk_data]   Package punkt is already up-to-date!\n",
      "[nltk_data] Downloading package wordnet to\n",
      "[nltk_data]     C:\\Users\\sergi\\AppData\\Roaming\\nltk_data...\n",
      "[nltk_data]   Package wordnet is already up-to-date!\n"
     ]
    }
   ],
   "source": [
    "nltk.download('stopwords')\n",
    "nltk.download('punkt')\n",
    "nltk.download('wordnet')\n",
    "\n",
    "def lemmatize_token(token):\n",
    "    lemmatizer = WordNetLemmatizer()\n",
    "    return lemmatizer.lemmatize(token)\n",
    "\n",
    "# nltk:\n",
    "def tokenizarNLTK(doc):\n",
    "    if type(doc) != type(\"\"):\n",
    "        print(doc)\n",
    "        return \"\"\n",
    "\n",
    "    # Tokenize the document\n",
    "    tokens = word_tokenize(doc, language='spanish')\n",
    "\n",
    "    # Remove stop words and lemmatize\n",
    "    stop_words = set(stopwords.words('spanish'))\n",
    "    filtered_tokens = [lemmatize_token(token) for token in tokens if token.lower() not in stop_words]\n",
    "\n",
    "    # Join the filtered tokens into a string\n",
    "    res = \" \".join(filtered_tokens)\n",
    "\n",
    "    return res\n",
    "\n",
    "# spacy: \n",
    "def tokenizarSpacy(doc): \n",
    "    if(type(doc) != type(\"\")):\n",
    "         print(doc)\n",
    "         return \"\"\n",
    "    # nlp = spacy.load(\"es_core_news_sm\") # español\n",
    "    \n",
    "    tkDoc = nlp(doc)\n",
    "    res = \"\"\n",
    "    for token in tkDoc:\n",
    "        if(not(token.is_stop)): # quitando stop words\n",
    "                res+=token.lemma_\n",
    "                res+=\" \"\n",
    "\n",
    "    return res"
   ]
  },
  {
   "cell_type": "code",
   "execution_count": 26,
   "metadata": {},
   "outputs": [
    {
     "ename": "KeyboardInterrupt",
     "evalue": "",
     "output_type": "error",
     "traceback": [
      "\u001b[1;31m---------------------------------------------------------------------------\u001b[0m",
      "\u001b[1;31mKeyboardInterrupt\u001b[0m                         Traceback (most recent call last)",
      "\u001b[1;32mc:\\Users\\sergi\\Desktop\\escom\\septimo\\practica5\\practice5.ipynb Cell 8\u001b[0m line \u001b[0;36m1\n\u001b[1;32m----> <a href='vscode-notebook-cell:/c%3A/Users/sergi/Desktop/escom/septimo/practica5/practice5.ipynb#X10sZmlsZQ%3D%3D?line=0'>1</a>\u001b[0m myTest[\u001b[39m'\u001b[39m\u001b[39mOpinion\u001b[39m\u001b[39m'\u001b[39m] \u001b[39m=\u001b[39m myTest[\u001b[39m'\u001b[39;49m\u001b[39mOpinion\u001b[39;49m\u001b[39m'\u001b[39;49m]\u001b[39m.\u001b[39;49mapply(tokenizarSpacy)\n",
      "File \u001b[1;32mc:\\Users\\sergi\\miniconda3\\envs\\cursoNLP\\Lib\\site-packages\\pandas\\core\\series.py:4760\u001b[0m, in \u001b[0;36mSeries.apply\u001b[1;34m(self, func, convert_dtype, args, by_row, **kwargs)\u001b[0m\n\u001b[0;32m   4625\u001b[0m \u001b[39mdef\u001b[39;00m \u001b[39mapply\u001b[39m(\n\u001b[0;32m   4626\u001b[0m     \u001b[39mself\u001b[39m,\n\u001b[0;32m   4627\u001b[0m     func: AggFuncType,\n\u001b[1;32m   (...)\u001b[0m\n\u001b[0;32m   4632\u001b[0m     \u001b[39m*\u001b[39m\u001b[39m*\u001b[39mkwargs,\n\u001b[0;32m   4633\u001b[0m ) \u001b[39m-\u001b[39m\u001b[39m>\u001b[39m DataFrame \u001b[39m|\u001b[39m Series:\n\u001b[0;32m   4634\u001b[0m \u001b[39m    \u001b[39m\u001b[39m\"\"\"\u001b[39;00m\n\u001b[0;32m   4635\u001b[0m \u001b[39m    Invoke function on values of Series.\u001b[39;00m\n\u001b[0;32m   4636\u001b[0m \n\u001b[1;32m   (...)\u001b[0m\n\u001b[0;32m   4751\u001b[0m \u001b[39m    dtype: float64\u001b[39;00m\n\u001b[0;32m   4752\u001b[0m \u001b[39m    \"\"\"\u001b[39;00m\n\u001b[0;32m   4753\u001b[0m     \u001b[39mreturn\u001b[39;00m SeriesApply(\n\u001b[0;32m   4754\u001b[0m         \u001b[39mself\u001b[39;49m,\n\u001b[0;32m   4755\u001b[0m         func,\n\u001b[0;32m   4756\u001b[0m         convert_dtype\u001b[39m=\u001b[39;49mconvert_dtype,\n\u001b[0;32m   4757\u001b[0m         by_row\u001b[39m=\u001b[39;49mby_row,\n\u001b[0;32m   4758\u001b[0m         args\u001b[39m=\u001b[39;49margs,\n\u001b[0;32m   4759\u001b[0m         kwargs\u001b[39m=\u001b[39;49mkwargs,\n\u001b[1;32m-> 4760\u001b[0m     )\u001b[39m.\u001b[39;49mapply()\n",
      "File \u001b[1;32mc:\\Users\\sergi\\miniconda3\\envs\\cursoNLP\\Lib\\site-packages\\pandas\\core\\apply.py:1207\u001b[0m, in \u001b[0;36mSeriesApply.apply\u001b[1;34m(self)\u001b[0m\n\u001b[0;32m   1204\u001b[0m     \u001b[39mreturn\u001b[39;00m \u001b[39mself\u001b[39m\u001b[39m.\u001b[39mapply_compat()\n\u001b[0;32m   1206\u001b[0m \u001b[39m# self.func is Callable\u001b[39;00m\n\u001b[1;32m-> 1207\u001b[0m \u001b[39mreturn\u001b[39;00m \u001b[39mself\u001b[39;49m\u001b[39m.\u001b[39;49mapply_standard()\n",
      "File \u001b[1;32mc:\\Users\\sergi\\miniconda3\\envs\\cursoNLP\\Lib\\site-packages\\pandas\\core\\apply.py:1287\u001b[0m, in \u001b[0;36mSeriesApply.apply_standard\u001b[1;34m(self)\u001b[0m\n\u001b[0;32m   1281\u001b[0m \u001b[39m# row-wise access\u001b[39;00m\n\u001b[0;32m   1282\u001b[0m \u001b[39m# apply doesn't have a `na_action` keyword and for backward compat reasons\u001b[39;00m\n\u001b[0;32m   1283\u001b[0m \u001b[39m# we need to give `na_action=\"ignore\"` for categorical data.\u001b[39;00m\n\u001b[0;32m   1284\u001b[0m \u001b[39m# TODO: remove the `na_action=\"ignore\"` when that default has been changed in\u001b[39;00m\n\u001b[0;32m   1285\u001b[0m \u001b[39m#  Categorical (GH51645).\u001b[39;00m\n\u001b[0;32m   1286\u001b[0m action \u001b[39m=\u001b[39m \u001b[39m\"\u001b[39m\u001b[39mignore\u001b[39m\u001b[39m\"\u001b[39m \u001b[39mif\u001b[39;00m \u001b[39misinstance\u001b[39m(obj\u001b[39m.\u001b[39mdtype, CategoricalDtype) \u001b[39melse\u001b[39;00m \u001b[39mNone\u001b[39;00m\n\u001b[1;32m-> 1287\u001b[0m mapped \u001b[39m=\u001b[39m obj\u001b[39m.\u001b[39;49m_map_values(\n\u001b[0;32m   1288\u001b[0m     mapper\u001b[39m=\u001b[39;49mcurried, na_action\u001b[39m=\u001b[39;49maction, convert\u001b[39m=\u001b[39;49m\u001b[39mself\u001b[39;49m\u001b[39m.\u001b[39;49mconvert_dtype\n\u001b[0;32m   1289\u001b[0m )\n\u001b[0;32m   1291\u001b[0m \u001b[39mif\u001b[39;00m \u001b[39mlen\u001b[39m(mapped) \u001b[39mand\u001b[39;00m \u001b[39misinstance\u001b[39m(mapped[\u001b[39m0\u001b[39m], ABCSeries):\n\u001b[0;32m   1292\u001b[0m     \u001b[39m# GH#43986 Need to do list(mapped) in order to get treated as nested\u001b[39;00m\n\u001b[0;32m   1293\u001b[0m     \u001b[39m#  See also GH#25959 regarding EA support\u001b[39;00m\n\u001b[0;32m   1294\u001b[0m     \u001b[39mreturn\u001b[39;00m obj\u001b[39m.\u001b[39m_constructor_expanddim(\u001b[39mlist\u001b[39m(mapped), index\u001b[39m=\u001b[39mobj\u001b[39m.\u001b[39mindex)\n",
      "File \u001b[1;32mc:\\Users\\sergi\\miniconda3\\envs\\cursoNLP\\Lib\\site-packages\\pandas\\core\\base.py:921\u001b[0m, in \u001b[0;36mIndexOpsMixin._map_values\u001b[1;34m(self, mapper, na_action, convert)\u001b[0m\n\u001b[0;32m    918\u001b[0m \u001b[39mif\u001b[39;00m \u001b[39misinstance\u001b[39m(arr, ExtensionArray):\n\u001b[0;32m    919\u001b[0m     \u001b[39mreturn\u001b[39;00m arr\u001b[39m.\u001b[39mmap(mapper, na_action\u001b[39m=\u001b[39mna_action)\n\u001b[1;32m--> 921\u001b[0m \u001b[39mreturn\u001b[39;00m algorithms\u001b[39m.\u001b[39;49mmap_array(arr, mapper, na_action\u001b[39m=\u001b[39;49mna_action, convert\u001b[39m=\u001b[39;49mconvert)\n",
      "File \u001b[1;32mc:\\Users\\sergi\\miniconda3\\envs\\cursoNLP\\Lib\\site-packages\\pandas\\core\\algorithms.py:1814\u001b[0m, in \u001b[0;36mmap_array\u001b[1;34m(arr, mapper, na_action, convert)\u001b[0m\n\u001b[0;32m   1812\u001b[0m values \u001b[39m=\u001b[39m arr\u001b[39m.\u001b[39mastype(\u001b[39mobject\u001b[39m, copy\u001b[39m=\u001b[39m\u001b[39mFalse\u001b[39;00m)\n\u001b[0;32m   1813\u001b[0m \u001b[39mif\u001b[39;00m na_action \u001b[39mis\u001b[39;00m \u001b[39mNone\u001b[39;00m:\n\u001b[1;32m-> 1814\u001b[0m     \u001b[39mreturn\u001b[39;00m lib\u001b[39m.\u001b[39;49mmap_infer(values, mapper, convert\u001b[39m=\u001b[39;49mconvert)\n\u001b[0;32m   1815\u001b[0m \u001b[39melse\u001b[39;00m:\n\u001b[0;32m   1816\u001b[0m     \u001b[39mreturn\u001b[39;00m lib\u001b[39m.\u001b[39mmap_infer_mask(\n\u001b[0;32m   1817\u001b[0m         values, mapper, mask\u001b[39m=\u001b[39misna(values)\u001b[39m.\u001b[39mview(np\u001b[39m.\u001b[39muint8), convert\u001b[39m=\u001b[39mconvert\n\u001b[0;32m   1818\u001b[0m     )\n",
      "File \u001b[1;32mlib.pyx:2917\u001b[0m, in \u001b[0;36mpandas._libs.lib.map_infer\u001b[1;34m()\u001b[0m\n",
      "\u001b[1;32mc:\\Users\\sergi\\Desktop\\escom\\septimo\\practica5\\practice5.ipynb Cell 8\u001b[0m line \u001b[0;36m3\n\u001b[0;32m     <a href='vscode-notebook-cell:/c%3A/Users/sergi/Desktop/escom/septimo/practica5/practice5.ipynb#X10sZmlsZQ%3D%3D?line=30'>31</a>\u001b[0m      \u001b[39mreturn\u001b[39;00m \u001b[39m\"\u001b[39m\u001b[39m\"\u001b[39m\n\u001b[0;32m     <a href='vscode-notebook-cell:/c%3A/Users/sergi/Desktop/escom/septimo/practica5/practice5.ipynb#X10sZmlsZQ%3D%3D?line=31'>32</a>\u001b[0m \u001b[39m# nlp = spacy.load(\"es_core_news_sm\") # español\u001b[39;00m\n\u001b[1;32m---> <a href='vscode-notebook-cell:/c%3A/Users/sergi/Desktop/escom/septimo/practica5/practice5.ipynb#X10sZmlsZQ%3D%3D?line=33'>34</a>\u001b[0m tkDoc \u001b[39m=\u001b[39m nlp(doc)\n\u001b[0;32m     <a href='vscode-notebook-cell:/c%3A/Users/sergi/Desktop/escom/septimo/practica5/practice5.ipynb#X10sZmlsZQ%3D%3D?line=34'>35</a>\u001b[0m res \u001b[39m=\u001b[39m \u001b[39m\"\u001b[39m\u001b[39m\"\u001b[39m\n\u001b[0;32m     <a href='vscode-notebook-cell:/c%3A/Users/sergi/Desktop/escom/septimo/practica5/practice5.ipynb#X10sZmlsZQ%3D%3D?line=35'>36</a>\u001b[0m \u001b[39mfor\u001b[39;00m token \u001b[39min\u001b[39;00m tkDoc:\n",
      "File \u001b[1;32mc:\\Users\\sergi\\miniconda3\\envs\\cursoNLP\\Lib\\site-packages\\spacy\\language.py:1011\u001b[0m, in \u001b[0;36mLanguage.__call__\u001b[1;34m(self, text, disable, component_cfg)\u001b[0m\n\u001b[0;32m   1009\u001b[0m     error_handler \u001b[39m=\u001b[39m proc\u001b[39m.\u001b[39mget_error_handler()\n\u001b[0;32m   1010\u001b[0m \u001b[39mtry\u001b[39;00m:\n\u001b[1;32m-> 1011\u001b[0m     doc \u001b[39m=\u001b[39m proc(doc, \u001b[39m*\u001b[39;49m\u001b[39m*\u001b[39;49mcomponent_cfg\u001b[39m.\u001b[39;49mget(name, {}))  \u001b[39m# type: ignore[call-arg]\u001b[39;00m\n\u001b[0;32m   1012\u001b[0m \u001b[39mexcept\u001b[39;00m \u001b[39mKeyError\u001b[39;00m \u001b[39mas\u001b[39;00m e:\n\u001b[0;32m   1013\u001b[0m     \u001b[39m# This typically happens if a component is not initialized\u001b[39;00m\n\u001b[0;32m   1014\u001b[0m     \u001b[39mraise\u001b[39;00m \u001b[39mValueError\u001b[39;00m(Errors\u001b[39m.\u001b[39mE109\u001b[39m.\u001b[39mformat(name\u001b[39m=\u001b[39mname)) \u001b[39mfrom\u001b[39;00m \u001b[39me\u001b[39;00m\n",
      "File \u001b[1;32mc:\\Users\\sergi\\miniconda3\\envs\\cursoNLP\\Lib\\site-packages\\spacy\\pipeline\\trainable_pipe.pyx:52\u001b[0m, in \u001b[0;36mspacy.pipeline.trainable_pipe.TrainablePipe.__call__\u001b[1;34m()\u001b[0m\n",
      "File \u001b[1;32mc:\\Users\\sergi\\miniconda3\\envs\\cursoNLP\\Lib\\site-packages\\spacy\\pipeline\\transition_parser.pyx:253\u001b[0m, in \u001b[0;36mspacy.pipeline.transition_parser.Parser.predict\u001b[1;34m()\u001b[0m\n",
      "File \u001b[1;32mc:\\Users\\sergi\\miniconda3\\envs\\cursoNLP\\Lib\\site-packages\\spacy\\pipeline\\transition_parser.pyx:274\u001b[0m, in \u001b[0;36mspacy.pipeline.transition_parser.Parser.greedy_parse\u001b[1;34m()\u001b[0m\n",
      "File \u001b[1;32mc:\\Users\\sergi\\miniconda3\\envs\\cursoNLP\\Lib\\site-packages\\thinc\\model.py:315\u001b[0m, in \u001b[0;36mModel.predict\u001b[1;34m(self, X)\u001b[0m\n\u001b[0;32m    311\u001b[0m \u001b[39mdef\u001b[39;00m \u001b[39mpredict\u001b[39m(\u001b[39mself\u001b[39m, X: InT) \u001b[39m-\u001b[39m\u001b[39m>\u001b[39m OutT:\n\u001b[0;32m    312\u001b[0m \u001b[39m    \u001b[39m\u001b[39m\"\"\"Call the model's `forward` function with `is_train=False`, and return\u001b[39;00m\n\u001b[0;32m    313\u001b[0m \u001b[39m    only the output, instead of the `(output, callback)` tuple.\u001b[39;00m\n\u001b[0;32m    314\u001b[0m \u001b[39m    \"\"\"\u001b[39;00m\n\u001b[1;32m--> 315\u001b[0m     \u001b[39mreturn\u001b[39;00m \u001b[39mself\u001b[39;49m\u001b[39m.\u001b[39;49m_func(\u001b[39mself\u001b[39;49m, X, is_train\u001b[39m=\u001b[39;49m\u001b[39mFalse\u001b[39;49;00m)[\u001b[39m0\u001b[39m]\n",
      "File \u001b[1;32mc:\\Users\\sergi\\miniconda3\\envs\\cursoNLP\\Lib\\site-packages\\spacy\\ml\\tb_framework.py:33\u001b[0m, in \u001b[0;36mforward\u001b[1;34m(model, X, is_train)\u001b[0m\n\u001b[0;32m     32\u001b[0m \u001b[39mdef\u001b[39;00m \u001b[39mforward\u001b[39m(model, X, is_train):\n\u001b[1;32m---> 33\u001b[0m     step_model \u001b[39m=\u001b[39m ParserStepModel(\n\u001b[0;32m     34\u001b[0m         X,\n\u001b[0;32m     35\u001b[0m         model\u001b[39m.\u001b[39;49mlayers,\n\u001b[0;32m     36\u001b[0m         unseen_classes\u001b[39m=\u001b[39;49mmodel\u001b[39m.\u001b[39;49mattrs[\u001b[39m\"\u001b[39;49m\u001b[39munseen_classes\u001b[39;49m\u001b[39m\"\u001b[39;49m],\n\u001b[0;32m     37\u001b[0m         train\u001b[39m=\u001b[39;49mis_train,\n\u001b[0;32m     38\u001b[0m         has_upper\u001b[39m=\u001b[39;49mmodel\u001b[39m.\u001b[39;49mattrs[\u001b[39m\"\u001b[39;49m\u001b[39mhas_upper\u001b[39;49m\u001b[39m\"\u001b[39;49m],\n\u001b[0;32m     39\u001b[0m     )\n\u001b[0;32m     41\u001b[0m     \u001b[39mreturn\u001b[39;00m step_model, step_model\u001b[39m.\u001b[39mfinish_steps\n",
      "File \u001b[1;32mc:\\Users\\sergi\\miniconda3\\envs\\cursoNLP\\Lib\\site-packages\\spacy\\ml\\parser_model.pyx:213\u001b[0m, in \u001b[0;36mspacy.ml.parser_model.ParserStepModel.__init__\u001b[1;34m()\u001b[0m\n",
      "File \u001b[1;32mc:\\Users\\sergi\\miniconda3\\envs\\cursoNLP\\Lib\\site-packages\\thinc\\model.py:291\u001b[0m, in \u001b[0;36mModel.__call__\u001b[1;34m(self, X, is_train)\u001b[0m\n\u001b[0;32m    288\u001b[0m \u001b[39mdef\u001b[39;00m \u001b[39m__call__\u001b[39m(\u001b[39mself\u001b[39m, X: InT, is_train: \u001b[39mbool\u001b[39m) \u001b[39m-\u001b[39m\u001b[39m>\u001b[39m Tuple[OutT, Callable]:\n\u001b[0;32m    289\u001b[0m \u001b[39m    \u001b[39m\u001b[39m\"\"\"Call the model's `forward` function, returning the output and a\u001b[39;00m\n\u001b[0;32m    290\u001b[0m \u001b[39m    callback to compute the gradients via backpropagation.\"\"\"\u001b[39;00m\n\u001b[1;32m--> 291\u001b[0m     \u001b[39mreturn\u001b[39;00m \u001b[39mself\u001b[39;49m\u001b[39m.\u001b[39;49m_func(\u001b[39mself\u001b[39;49m, X, is_train\u001b[39m=\u001b[39;49mis_train)\n",
      "File \u001b[1;32mc:\\Users\\sergi\\miniconda3\\envs\\cursoNLP\\Lib\\site-packages\\thinc\\layers\\chain.py:55\u001b[0m, in \u001b[0;36mforward\u001b[1;34m(model, X, is_train)\u001b[0m\n\u001b[0;32m     53\u001b[0m callbacks \u001b[39m=\u001b[39m []\n\u001b[0;32m     54\u001b[0m \u001b[39mfor\u001b[39;00m layer \u001b[39min\u001b[39;00m model\u001b[39m.\u001b[39mlayers:\n\u001b[1;32m---> 55\u001b[0m     Y, inc_layer_grad \u001b[39m=\u001b[39m layer(X, is_train\u001b[39m=\u001b[39;49mis_train)\n\u001b[0;32m     56\u001b[0m     callbacks\u001b[39m.\u001b[39mappend(inc_layer_grad)\n\u001b[0;32m     57\u001b[0m     X \u001b[39m=\u001b[39m Y\n",
      "File \u001b[1;32mc:\\Users\\sergi\\miniconda3\\envs\\cursoNLP\\Lib\\site-packages\\thinc\\model.py:291\u001b[0m, in \u001b[0;36mModel.__call__\u001b[1;34m(self, X, is_train)\u001b[0m\n\u001b[0;32m    288\u001b[0m \u001b[39mdef\u001b[39;00m \u001b[39m__call__\u001b[39m(\u001b[39mself\u001b[39m, X: InT, is_train: \u001b[39mbool\u001b[39m) \u001b[39m-\u001b[39m\u001b[39m>\u001b[39m Tuple[OutT, Callable]:\n\u001b[0;32m    289\u001b[0m \u001b[39m    \u001b[39m\u001b[39m\"\"\"Call the model's `forward` function, returning the output and a\u001b[39;00m\n\u001b[0;32m    290\u001b[0m \u001b[39m    callback to compute the gradients via backpropagation.\"\"\"\u001b[39;00m\n\u001b[1;32m--> 291\u001b[0m     \u001b[39mreturn\u001b[39;00m \u001b[39mself\u001b[39;49m\u001b[39m.\u001b[39;49m_func(\u001b[39mself\u001b[39;49m, X, is_train\u001b[39m=\u001b[39;49mis_train)\n",
      "File \u001b[1;32mc:\\Users\\sergi\\miniconda3\\envs\\cursoNLP\\Lib\\site-packages\\thinc\\layers\\chain.py:55\u001b[0m, in \u001b[0;36mforward\u001b[1;34m(model, X, is_train)\u001b[0m\n\u001b[0;32m     53\u001b[0m callbacks \u001b[39m=\u001b[39m []\n\u001b[0;32m     54\u001b[0m \u001b[39mfor\u001b[39;00m layer \u001b[39min\u001b[39;00m model\u001b[39m.\u001b[39mlayers:\n\u001b[1;32m---> 55\u001b[0m     Y, inc_layer_grad \u001b[39m=\u001b[39m layer(X, is_train\u001b[39m=\u001b[39;49mis_train)\n\u001b[0;32m     56\u001b[0m     callbacks\u001b[39m.\u001b[39mappend(inc_layer_grad)\n\u001b[0;32m     57\u001b[0m     X \u001b[39m=\u001b[39m Y\n",
      "    \u001b[1;31m[... skipping similar frames: Model.__call__ at line 291 (1 times)]\u001b[0m\n",
      "File \u001b[1;32mc:\\Users\\sergi\\miniconda3\\envs\\cursoNLP\\Lib\\site-packages\\thinc\\layers\\chain.py:55\u001b[0m, in \u001b[0;36mforward\u001b[1;34m(model, X, is_train)\u001b[0m\n\u001b[0;32m     53\u001b[0m callbacks \u001b[39m=\u001b[39m []\n\u001b[0;32m     54\u001b[0m \u001b[39mfor\u001b[39;00m layer \u001b[39min\u001b[39;00m model\u001b[39m.\u001b[39mlayers:\n\u001b[1;32m---> 55\u001b[0m     Y, inc_layer_grad \u001b[39m=\u001b[39m layer(X, is_train\u001b[39m=\u001b[39;49mis_train)\n\u001b[0;32m     56\u001b[0m     callbacks\u001b[39m.\u001b[39mappend(inc_layer_grad)\n\u001b[0;32m     57\u001b[0m     X \u001b[39m=\u001b[39m Y\n",
      "File \u001b[1;32mc:\\Users\\sergi\\miniconda3\\envs\\cursoNLP\\Lib\\site-packages\\thinc\\model.py:291\u001b[0m, in \u001b[0;36mModel.__call__\u001b[1;34m(self, X, is_train)\u001b[0m\n\u001b[0;32m    288\u001b[0m \u001b[39mdef\u001b[39;00m \u001b[39m__call__\u001b[39m(\u001b[39mself\u001b[39m, X: InT, is_train: \u001b[39mbool\u001b[39m) \u001b[39m-\u001b[39m\u001b[39m>\u001b[39m Tuple[OutT, Callable]:\n\u001b[0;32m    289\u001b[0m \u001b[39m    \u001b[39m\u001b[39m\"\"\"Call the model's `forward` function, returning the output and a\u001b[39;00m\n\u001b[0;32m    290\u001b[0m \u001b[39m    callback to compute the gradients via backpropagation.\"\"\"\u001b[39;00m\n\u001b[1;32m--> 291\u001b[0m     \u001b[39mreturn\u001b[39;00m \u001b[39mself\u001b[39;49m\u001b[39m.\u001b[39;49m_func(\u001b[39mself\u001b[39;49m, X, is_train\u001b[39m=\u001b[39;49mis_train)\n",
      "File \u001b[1;32mc:\\Users\\sergi\\miniconda3\\envs\\cursoNLP\\Lib\\site-packages\\thinc\\layers\\with_array.py:37\u001b[0m, in \u001b[0;36mforward\u001b[1;34m(model, Xseq, is_train)\u001b[0m\n\u001b[0;32m     33\u001b[0m \u001b[39mdef\u001b[39;00m \u001b[39mforward\u001b[39m(\n\u001b[0;32m     34\u001b[0m     model: Model[SeqT, SeqT], Xseq: SeqT, is_train: \u001b[39mbool\u001b[39m\n\u001b[0;32m     35\u001b[0m ) \u001b[39m-\u001b[39m\u001b[39m>\u001b[39m Tuple[SeqT, Callable]:\n\u001b[0;32m     36\u001b[0m     \u001b[39mif\u001b[39;00m \u001b[39misinstance\u001b[39m(Xseq, Ragged):\n\u001b[1;32m---> 37\u001b[0m         \u001b[39mreturn\u001b[39;00m cast(Tuple[SeqT, Callable], _ragged_forward(model, Xseq, is_train))\n\u001b[0;32m     38\u001b[0m     \u001b[39melif\u001b[39;00m \u001b[39misinstance\u001b[39m(Xseq, Padded):\n\u001b[0;32m     39\u001b[0m         \u001b[39mreturn\u001b[39;00m cast(Tuple[SeqT, Callable], _padded_forward(model, Xseq, is_train))\n",
      "File \u001b[1;32mc:\\Users\\sergi\\miniconda3\\envs\\cursoNLP\\Lib\\site-packages\\thinc\\layers\\with_array.py:92\u001b[0m, in \u001b[0;36m_ragged_forward\u001b[1;34m(model, Xr, is_train)\u001b[0m\n\u001b[0;32m     88\u001b[0m \u001b[39mdef\u001b[39;00m \u001b[39m_ragged_forward\u001b[39m(\n\u001b[0;32m     89\u001b[0m     model: Model[SeqT, SeqT], Xr: Ragged, is_train: \u001b[39mbool\u001b[39m\n\u001b[0;32m     90\u001b[0m ) \u001b[39m-\u001b[39m\u001b[39m>\u001b[39m Tuple[Ragged, Callable]:\n\u001b[0;32m     91\u001b[0m     layer: Model[ArrayXd, ArrayXd] \u001b[39m=\u001b[39m model\u001b[39m.\u001b[39mlayers[\u001b[39m0\u001b[39m]\n\u001b[1;32m---> 92\u001b[0m     Y, get_dX \u001b[39m=\u001b[39m layer(Xr\u001b[39m.\u001b[39;49mdataXd, is_train)\n\u001b[0;32m     94\u001b[0m     \u001b[39mdef\u001b[39;00m \u001b[39mbackprop\u001b[39m(dYr: Ragged) \u001b[39m-\u001b[39m\u001b[39m>\u001b[39m Ragged:\n\u001b[0;32m     95\u001b[0m         \u001b[39mreturn\u001b[39;00m Ragged(get_dX(dYr\u001b[39m.\u001b[39mdataXd), dYr\u001b[39m.\u001b[39mlengths)\n",
      "File \u001b[1;32mc:\\Users\\sergi\\miniconda3\\envs\\cursoNLP\\Lib\\site-packages\\thinc\\model.py:291\u001b[0m, in \u001b[0;36mModel.__call__\u001b[1;34m(self, X, is_train)\u001b[0m\n\u001b[0;32m    288\u001b[0m \u001b[39mdef\u001b[39;00m \u001b[39m__call__\u001b[39m(\u001b[39mself\u001b[39m, X: InT, is_train: \u001b[39mbool\u001b[39m) \u001b[39m-\u001b[39m\u001b[39m>\u001b[39m Tuple[OutT, Callable]:\n\u001b[0;32m    289\u001b[0m \u001b[39m    \u001b[39m\u001b[39m\"\"\"Call the model's `forward` function, returning the output and a\u001b[39;00m\n\u001b[0;32m    290\u001b[0m \u001b[39m    callback to compute the gradients via backpropagation.\"\"\"\u001b[39;00m\n\u001b[1;32m--> 291\u001b[0m     \u001b[39mreturn\u001b[39;00m \u001b[39mself\u001b[39;49m\u001b[39m.\u001b[39;49m_func(\u001b[39mself\u001b[39;49m, X, is_train\u001b[39m=\u001b[39;49mis_train)\n",
      "File \u001b[1;32mc:\\Users\\sergi\\miniconda3\\envs\\cursoNLP\\Lib\\site-packages\\thinc\\layers\\concatenate.py:49\u001b[0m, in \u001b[0;36mforward\u001b[1;34m(model, X, is_train)\u001b[0m\n\u001b[0;32m     48\u001b[0m \u001b[39mdef\u001b[39;00m \u001b[39mforward\u001b[39m(model: Model[InT, OutT], X: InT, is_train: \u001b[39mbool\u001b[39m) \u001b[39m-\u001b[39m\u001b[39m>\u001b[39m Tuple[OutT, Callable]:\n\u001b[1;32m---> 49\u001b[0m     Ys, callbacks \u001b[39m=\u001b[39m \u001b[39mzip\u001b[39m(\u001b[39m*\u001b[39m[layer(X, is_train\u001b[39m=\u001b[39;49mis_train) \u001b[39mfor\u001b[39;49;00m layer \u001b[39min\u001b[39;49;00m model\u001b[39m.\u001b[39;49mlayers])\n\u001b[0;32m     50\u001b[0m     \u001b[39mif\u001b[39;00m \u001b[39misinstance\u001b[39m(Ys[\u001b[39m0\u001b[39m], \u001b[39mlist\u001b[39m):\n\u001b[0;32m     51\u001b[0m         data_l, backprop \u001b[39m=\u001b[39m _list_forward(model, X, Ys, callbacks, is_train)\n",
      "File \u001b[1;32mc:\\Users\\sergi\\miniconda3\\envs\\cursoNLP\\Lib\\site-packages\\thinc\\layers\\concatenate.py:49\u001b[0m, in \u001b[0;36m<listcomp>\u001b[1;34m(.0)\u001b[0m\n\u001b[0;32m     48\u001b[0m \u001b[39mdef\u001b[39;00m \u001b[39mforward\u001b[39m(model: Model[InT, OutT], X: InT, is_train: \u001b[39mbool\u001b[39m) \u001b[39m-\u001b[39m\u001b[39m>\u001b[39m Tuple[OutT, Callable]:\n\u001b[1;32m---> 49\u001b[0m     Ys, callbacks \u001b[39m=\u001b[39m \u001b[39mzip\u001b[39m(\u001b[39m*\u001b[39m[layer(X, is_train\u001b[39m=\u001b[39;49mis_train) \u001b[39mfor\u001b[39;00m layer \u001b[39min\u001b[39;00m model\u001b[39m.\u001b[39mlayers])\n\u001b[0;32m     50\u001b[0m     \u001b[39mif\u001b[39;00m \u001b[39misinstance\u001b[39m(Ys[\u001b[39m0\u001b[39m], \u001b[39mlist\u001b[39m):\n\u001b[0;32m     51\u001b[0m         data_l, backprop \u001b[39m=\u001b[39m _list_forward(model, X, Ys, callbacks, is_train)\n",
      "File \u001b[1;32mc:\\Users\\sergi\\miniconda3\\envs\\cursoNLP\\Lib\\site-packages\\thinc\\model.py:291\u001b[0m, in \u001b[0;36mModel.__call__\u001b[1;34m(self, X, is_train)\u001b[0m\n\u001b[0;32m    288\u001b[0m \u001b[39mdef\u001b[39;00m \u001b[39m__call__\u001b[39m(\u001b[39mself\u001b[39m, X: InT, is_train: \u001b[39mbool\u001b[39m) \u001b[39m-\u001b[39m\u001b[39m>\u001b[39m Tuple[OutT, Callable]:\n\u001b[0;32m    289\u001b[0m \u001b[39m    \u001b[39m\u001b[39m\"\"\"Call the model's `forward` function, returning the output and a\u001b[39;00m\n\u001b[0;32m    290\u001b[0m \u001b[39m    callback to compute the gradients via backpropagation.\"\"\"\u001b[39;00m\n\u001b[1;32m--> 291\u001b[0m     \u001b[39mreturn\u001b[39;00m \u001b[39mself\u001b[39;49m\u001b[39m.\u001b[39;49m_func(\u001b[39mself\u001b[39;49m, X, is_train\u001b[39m=\u001b[39;49mis_train)\n",
      "File \u001b[1;32mc:\\Users\\sergi\\miniconda3\\envs\\cursoNLP\\Lib\\site-packages\\thinc\\layers\\chain.py:55\u001b[0m, in \u001b[0;36mforward\u001b[1;34m(model, X, is_train)\u001b[0m\n\u001b[0;32m     53\u001b[0m callbacks \u001b[39m=\u001b[39m []\n\u001b[0;32m     54\u001b[0m \u001b[39mfor\u001b[39;00m layer \u001b[39min\u001b[39;00m model\u001b[39m.\u001b[39mlayers:\n\u001b[1;32m---> 55\u001b[0m     Y, inc_layer_grad \u001b[39m=\u001b[39m layer(X, is_train\u001b[39m=\u001b[39;49mis_train)\n\u001b[0;32m     56\u001b[0m     callbacks\u001b[39m.\u001b[39mappend(inc_layer_grad)\n\u001b[0;32m     57\u001b[0m     X \u001b[39m=\u001b[39m Y\n",
      "File \u001b[1;32mc:\\Users\\sergi\\miniconda3\\envs\\cursoNLP\\Lib\\site-packages\\thinc\\model.py:291\u001b[0m, in \u001b[0;36mModel.__call__\u001b[1;34m(self, X, is_train)\u001b[0m\n\u001b[0;32m    288\u001b[0m \u001b[39mdef\u001b[39;00m \u001b[39m__call__\u001b[39m(\u001b[39mself\u001b[39m, X: InT, is_train: \u001b[39mbool\u001b[39m) \u001b[39m-\u001b[39m\u001b[39m>\u001b[39m Tuple[OutT, Callable]:\n\u001b[0;32m    289\u001b[0m \u001b[39m    \u001b[39m\u001b[39m\"\"\"Call the model's `forward` function, returning the output and a\u001b[39;00m\n\u001b[0;32m    290\u001b[0m \u001b[39m    callback to compute the gradients via backpropagation.\"\"\"\u001b[39;00m\n\u001b[1;32m--> 291\u001b[0m     \u001b[39mreturn\u001b[39;00m \u001b[39mself\u001b[39;49m\u001b[39m.\u001b[39;49m_func(\u001b[39mself\u001b[39;49m, X, is_train\u001b[39m=\u001b[39;49mis_train)\n",
      "File \u001b[1;32mc:\\Users\\sergi\\miniconda3\\envs\\cursoNLP\\Lib\\site-packages\\thinc\\layers\\hashembed.py:73\u001b[0m, in \u001b[0;36mforward\u001b[1;34m(model, ids, is_train)\u001b[0m\n\u001b[0;32m     71\u001b[0m seed: \u001b[39mint\u001b[39m \u001b[39m=\u001b[39m model\u001b[39m.\u001b[39mattrs[\u001b[39m\"\u001b[39m\u001b[39mseed\u001b[39m\u001b[39m\"\u001b[39m]\n\u001b[0;32m     72\u001b[0m keys \u001b[39m=\u001b[39m model\u001b[39m.\u001b[39mops\u001b[39m.\u001b[39mhash(ids, seed) \u001b[39m%\u001b[39m nV\n\u001b[1;32m---> 73\u001b[0m output \u001b[39m=\u001b[39m model\u001b[39m.\u001b[39;49mops\u001b[39m.\u001b[39;49mgather_add(vectors, keys)\n\u001b[0;32m     74\u001b[0m drop_mask \u001b[39m=\u001b[39m \u001b[39mNone\u001b[39;00m\n\u001b[0;32m     75\u001b[0m \u001b[39mif\u001b[39;00m is_train:\n",
      "\u001b[1;31mKeyboardInterrupt\u001b[0m: "
     ]
    }
   ],
   "source": [
    "myTest['Opinion'] = myTest['Opinion'].apply(tokenizarSpacy)"
   ]
  },
  {
   "cell_type": "code",
   "execution_count": 11,
   "metadata": {},
   "outputs": [
    {
     "data": {
      "text/html": [
       "<div>\n",
       "<style scoped>\n",
       "    .dataframe tbody tr th:only-of-type {\n",
       "        vertical-align: middle;\n",
       "    }\n",
       "\n",
       "    .dataframe tbody tr th {\n",
       "        vertical-align: top;\n",
       "    }\n",
       "\n",
       "    .dataframe thead th {\n",
       "        text-align: right;\n",
       "    }\n",
       "</style>\n",
       "<table border=\"1\" class=\"dataframe\">\n",
       "  <thead>\n",
       "    <tr style=\"text-align: right;\">\n",
       "      <th></th>\n",
       "      <th>Title</th>\n",
       "      <th>Opinion</th>\n",
       "      <th>Polarity</th>\n",
       "      <th>Attraction</th>\n",
       "    </tr>\n",
       "  </thead>\n",
       "  <tbody>\n",
       "    <tr>\n",
       "      <th>0</th>\n",
       "      <td>Pésimo lugar</td>\n",
       "      <td>Piensen do veces ir hotel , molestan , hijo se...</td>\n",
       "      <td>1</td>\n",
       "      <td>Hotel</td>\n",
       "    </tr>\n",
       "    <tr>\n",
       "      <th>1</th>\n",
       "      <td>No vayas a lugar de Eddie</td>\n",
       "      <td>Cuatro recientemente Eddie 's Place . servicio...</td>\n",
       "      <td>1</td>\n",
       "      <td>Restaurant</td>\n",
       "    </tr>\n",
       "    <tr>\n",
       "      <th>2</th>\n",
       "      <td>Mala relación calidad-precio</td>\n",
       "      <td>seguiré corta simple : limpieza - bad . insist...</td>\n",
       "      <td>1</td>\n",
       "      <td>Hotel</td>\n",
       "    </tr>\n",
       "    <tr>\n",
       "      <th>3</th>\n",
       "      <td>Minusválido? ¡No te alojes aquí!</td>\n",
       "      <td>reservar hotel multipropiedad Mayan grupo dije...</td>\n",
       "      <td>1</td>\n",
       "      <td>Hotel</td>\n",
       "    </tr>\n",
       "    <tr>\n",
       "      <th>4</th>\n",
       "      <td>Es una porqueria no pierdan su tiempo</td>\n",
       "      <td>pierdan tiempo dinero , venimos boda aquí mism...</td>\n",
       "      <td>1</td>\n",
       "      <td>Hotel</td>\n",
       "    </tr>\n",
       "    <tr>\n",
       "      <th>...</th>\n",
       "      <td>...</td>\n",
       "      <td>...</td>\n",
       "      <td>...</td>\n",
       "      <td>...</td>\n",
       "    </tr>\n",
       "    <tr>\n",
       "      <th>9995</th>\n",
       "      <td>Vacacion</td>\n",
       "      <td>excelente lugar vacacionar , servicio primera ...</td>\n",
       "      <td>5</td>\n",
       "      <td>Hotel</td>\n",
       "    </tr>\n",
       "    <tr>\n",
       "      <th>9996</th>\n",
       "      <td>Excelente y muy barato</td>\n",
       "      <td>Buena carne , tortilla recién hechas , queso f...</td>\n",
       "      <td>5</td>\n",
       "      <td>Restaurant</td>\n",
       "    </tr>\n",
       "    <tr>\n",
       "      <th>9997</th>\n",
       "      <td>Mi lugar favorito</td>\n",
       "      <td>Siempre vamos , vamos seguido , comemos delici...</td>\n",
       "      <td>5</td>\n",
       "      <td>Restaurant</td>\n",
       "    </tr>\n",
       "    <tr>\n",
       "      <th>9998</th>\n",
       "      <td>Joysquad excelente</td>\n",
       "      <td>Lisbhet Torre Punta excelente servicio amable ...</td>\n",
       "      <td>5</td>\n",
       "      <td>Hotel</td>\n",
       "    </tr>\n",
       "    <tr>\n",
       "      <th>9999</th>\n",
       "      <td>El hotel y sus empleados</td>\n",
       "      <td>hotel samba mejor clase podrá ver hoteles mejo...</td>\n",
       "      <td>5</td>\n",
       "      <td>Hotel</td>\n",
       "    </tr>\n",
       "  </tbody>\n",
       "</table>\n",
       "<p>10000 rows × 4 columns</p>\n",
       "</div>"
      ],
      "text/plain": [
       "                                      Title  \\\n",
       "0                              Pésimo lugar   \n",
       "1                 No vayas a lugar de Eddie   \n",
       "2              Mala relación calidad-precio   \n",
       "3          Minusválido? ¡No te alojes aquí!   \n",
       "4     Es una porqueria no pierdan su tiempo   \n",
       "...                                     ...   \n",
       "9995                               Vacacion   \n",
       "9996                 Excelente y muy barato   \n",
       "9997                      Mi lugar favorito   \n",
       "9998                     Joysquad excelente   \n",
       "9999               El hotel y sus empleados   \n",
       "\n",
       "                                                Opinion  Polarity  Attraction  \n",
       "0     Piensen do veces ir hotel , molestan , hijo se...         1       Hotel  \n",
       "1     Cuatro recientemente Eddie 's Place . servicio...         1  Restaurant  \n",
       "2     seguiré corta simple : limpieza - bad . insist...         1       Hotel  \n",
       "3     reservar hotel multipropiedad Mayan grupo dije...         1       Hotel  \n",
       "4     pierdan tiempo dinero , venimos boda aquí mism...         1       Hotel  \n",
       "...                                                 ...       ...         ...  \n",
       "9995  excelente lugar vacacionar , servicio primera ...         5       Hotel  \n",
       "9996  Buena carne , tortilla recién hechas , queso f...         5  Restaurant  \n",
       "9997  Siempre vamos , vamos seguido , comemos delici...         5  Restaurant  \n",
       "9998  Lisbhet Torre Punta excelente servicio amable ...         5       Hotel  \n",
       "9999  hotel samba mejor clase podrá ver hoteles mejo...         5       Hotel  \n",
       "\n",
       "[10000 rows x 4 columns]"
      ]
     },
     "execution_count": 11,
     "metadata": {},
     "output_type": "execute_result"
    }
   ],
   "source": [
    "myTest"
   ]
  },
  {
   "cell_type": "code",
   "execution_count": 12,
   "metadata": {},
   "outputs": [
    {
     "data": {
      "text/plain": [
       "Polarity\n",
       "4    5878\n",
       "3    2121\n",
       "2     730\n",
       "5     724\n",
       "1     547\n",
       "Name: count, dtype: int64"
      ]
     },
     "execution_count": 12,
     "metadata": {},
     "output_type": "execute_result"
    }
   ],
   "source": [
    "myTest['Polarity'].value_counts()"
   ]
  },
  {
   "cell_type": "code",
   "execution_count": null,
   "metadata": {},
   "outputs": [],
   "source": [
    "result = myTest[myTest['Opinion']==\"error\"]"
   ]
  },
  {
   "cell_type": "code",
   "execution_count": null,
   "metadata": {},
   "outputs": [
    {
     "data": {
      "text/html": [
       "<div>\n",
       "<style scoped>\n",
       "    .dataframe tbody tr th:only-of-type {\n",
       "        vertical-align: middle;\n",
       "    }\n",
       "\n",
       "    .dataframe tbody tr th {\n",
       "        vertical-align: top;\n",
       "    }\n",
       "\n",
       "    .dataframe thead th {\n",
       "        text-align: right;\n",
       "    }\n",
       "</style>\n",
       "<table border=\"1\" class=\"dataframe\">\n",
       "  <thead>\n",
       "    <tr style=\"text-align: right;\">\n",
       "      <th></th>\n",
       "      <th>Title</th>\n",
       "      <th>Opinion</th>\n",
       "      <th>Polarity</th>\n",
       "      <th>Attraction</th>\n",
       "    </tr>\n",
       "  </thead>\n",
       "  <tbody>\n",
       "  </tbody>\n",
       "</table>\n",
       "</div>"
      ],
      "text/plain": [
       "Empty DataFrame\n",
       "Columns: [Title, Opinion, Polarity, Attraction]\n",
       "Index: []"
      ]
     },
     "execution_count": 26,
     "metadata": {},
     "output_type": "execute_result"
    }
   ],
   "source": [
    "result"
   ]
  },
  {
   "cell_type": "code",
   "execution_count": null,
   "metadata": {},
   "outputs": [
    {
     "name": "stdout",
     "output_type": "stream",
     "text": [
      "2016-12-01 00:00:00\n",
      "2015-05-01 00:00:00\n"
     ]
    },
    {
     "name": "stderr",
     "output_type": "stream",
     "text": [
      "C:\\Users\\sergi\\AppData\\Local\\Temp\\ipykernel_21960\\745785095.py:1: SettingWithCopyWarning: \n",
      "A value is trying to be set on a copy of a slice from a DataFrame.\n",
      "Try using .loc[row_indexer,col_indexer] = value instead\n",
      "\n",
      "See the caveats in the documentation: https://pandas.pydata.org/pandas-docs/stable/user_guide/indexing.html#returning-a-view-versus-a-copy\n",
      "  myTest['Title'] = myTest['Title'].apply(tokenizar)\n"
     ]
    }
   ],
   "source": [
    "myTest['Title'] = myTest['Title'].apply(tokenizar)"
   ]
  },
  {
   "cell_type": "code",
   "execution_count": 13,
   "metadata": {},
   "outputs": [
    {
     "data": {
      "text/html": [
       "<div>\n",
       "<style scoped>\n",
       "    .dataframe tbody tr th:only-of-type {\n",
       "        vertical-align: middle;\n",
       "    }\n",
       "\n",
       "    .dataframe tbody tr th {\n",
       "        vertical-align: top;\n",
       "    }\n",
       "\n",
       "    .dataframe thead th {\n",
       "        text-align: right;\n",
       "    }\n",
       "</style>\n",
       "<table border=\"1\" class=\"dataframe\">\n",
       "  <thead>\n",
       "    <tr style=\"text-align: right;\">\n",
       "      <th></th>\n",
       "      <th>Title</th>\n",
       "      <th>Opinion</th>\n",
       "      <th>Polarity</th>\n",
       "      <th>Attraction</th>\n",
       "    </tr>\n",
       "  </thead>\n",
       "  <tbody>\n",
       "    <tr>\n",
       "      <th>0</th>\n",
       "      <td>Pésimo lugar</td>\n",
       "      <td>Piensen do veces ir hotel , molestan , hijo se...</td>\n",
       "      <td>1</td>\n",
       "      <td>Hotel</td>\n",
       "    </tr>\n",
       "    <tr>\n",
       "      <th>1</th>\n",
       "      <td>No vayas a lugar de Eddie</td>\n",
       "      <td>Cuatro recientemente Eddie 's Place . servicio...</td>\n",
       "      <td>1</td>\n",
       "      <td>Restaurant</td>\n",
       "    </tr>\n",
       "    <tr>\n",
       "      <th>2</th>\n",
       "      <td>Mala relación calidad-precio</td>\n",
       "      <td>seguiré corta simple : limpieza - bad . insist...</td>\n",
       "      <td>1</td>\n",
       "      <td>Hotel</td>\n",
       "    </tr>\n",
       "    <tr>\n",
       "      <th>3</th>\n",
       "      <td>Minusválido? ¡No te alojes aquí!</td>\n",
       "      <td>reservar hotel multipropiedad Mayan grupo dije...</td>\n",
       "      <td>1</td>\n",
       "      <td>Hotel</td>\n",
       "    </tr>\n",
       "    <tr>\n",
       "      <th>4</th>\n",
       "      <td>Es una porqueria no pierdan su tiempo</td>\n",
       "      <td>pierdan tiempo dinero , venimos boda aquí mism...</td>\n",
       "      <td>1</td>\n",
       "      <td>Hotel</td>\n",
       "    </tr>\n",
       "    <tr>\n",
       "      <th>...</th>\n",
       "      <td>...</td>\n",
       "      <td>...</td>\n",
       "      <td>...</td>\n",
       "      <td>...</td>\n",
       "    </tr>\n",
       "    <tr>\n",
       "      <th>9995</th>\n",
       "      <td>Vacacion</td>\n",
       "      <td>excelente lugar vacacionar , servicio primera ...</td>\n",
       "      <td>5</td>\n",
       "      <td>Hotel</td>\n",
       "    </tr>\n",
       "    <tr>\n",
       "      <th>9996</th>\n",
       "      <td>Excelente y muy barato</td>\n",
       "      <td>Buena carne , tortilla recién hechas , queso f...</td>\n",
       "      <td>5</td>\n",
       "      <td>Restaurant</td>\n",
       "    </tr>\n",
       "    <tr>\n",
       "      <th>9997</th>\n",
       "      <td>Mi lugar favorito</td>\n",
       "      <td>Siempre vamos , vamos seguido , comemos delici...</td>\n",
       "      <td>5</td>\n",
       "      <td>Restaurant</td>\n",
       "    </tr>\n",
       "    <tr>\n",
       "      <th>9998</th>\n",
       "      <td>Joysquad excelente</td>\n",
       "      <td>Lisbhet Torre Punta excelente servicio amable ...</td>\n",
       "      <td>5</td>\n",
       "      <td>Hotel</td>\n",
       "    </tr>\n",
       "    <tr>\n",
       "      <th>9999</th>\n",
       "      <td>El hotel y sus empleados</td>\n",
       "      <td>hotel samba mejor clase podrá ver hoteles mejo...</td>\n",
       "      <td>5</td>\n",
       "      <td>Hotel</td>\n",
       "    </tr>\n",
       "  </tbody>\n",
       "</table>\n",
       "<p>10000 rows × 4 columns</p>\n",
       "</div>"
      ],
      "text/plain": [
       "                                      Title  \\\n",
       "0                              Pésimo lugar   \n",
       "1                 No vayas a lugar de Eddie   \n",
       "2              Mala relación calidad-precio   \n",
       "3          Minusválido? ¡No te alojes aquí!   \n",
       "4     Es una porqueria no pierdan su tiempo   \n",
       "...                                     ...   \n",
       "9995                               Vacacion   \n",
       "9996                 Excelente y muy barato   \n",
       "9997                      Mi lugar favorito   \n",
       "9998                     Joysquad excelente   \n",
       "9999               El hotel y sus empleados   \n",
       "\n",
       "                                                Opinion  Polarity  Attraction  \n",
       "0     Piensen do veces ir hotel , molestan , hijo se...         1       Hotel  \n",
       "1     Cuatro recientemente Eddie 's Place . servicio...         1  Restaurant  \n",
       "2     seguiré corta simple : limpieza - bad . insist...         1       Hotel  \n",
       "3     reservar hotel multipropiedad Mayan grupo dije...         1       Hotel  \n",
       "4     pierdan tiempo dinero , venimos boda aquí mism...         1       Hotel  \n",
       "...                                                 ...       ...         ...  \n",
       "9995  excelente lugar vacacionar , servicio primera ...         5       Hotel  \n",
       "9996  Buena carne , tortilla recién hechas , queso f...         5  Restaurant  \n",
       "9997  Siempre vamos , vamos seguido , comemos delici...         5  Restaurant  \n",
       "9998  Lisbhet Torre Punta excelente servicio amable ...         5       Hotel  \n",
       "9999  hotel samba mejor clase podrá ver hoteles mejo...         5       Hotel  \n",
       "\n",
       "[10000 rows x 4 columns]"
      ]
     },
     "execution_count": 13,
     "metadata": {},
     "output_type": "execute_result"
    }
   ],
   "source": [
    "myTest"
   ]
  },
  {
   "cell_type": "markdown",
   "metadata": {},
   "source": [
    "# Splitting"
   ]
  },
  {
   "cell_type": "code",
   "execution_count": 14,
   "metadata": {},
   "outputs": [],
   "source": [
    "train, test = train_test_split(myTest, test_size=0.2)"
   ]
  },
  {
   "cell_type": "code",
   "execution_count": 15,
   "metadata": {},
   "outputs": [
    {
     "data": {
      "text/html": [
       "<div>\n",
       "<style scoped>\n",
       "    .dataframe tbody tr th:only-of-type {\n",
       "        vertical-align: middle;\n",
       "    }\n",
       "\n",
       "    .dataframe tbody tr th {\n",
       "        vertical-align: top;\n",
       "    }\n",
       "\n",
       "    .dataframe thead th {\n",
       "        text-align: right;\n",
       "    }\n",
       "</style>\n",
       "<table border=\"1\" class=\"dataframe\">\n",
       "  <thead>\n",
       "    <tr style=\"text-align: right;\">\n",
       "      <th></th>\n",
       "      <th>Title</th>\n",
       "      <th>Opinion</th>\n",
       "      <th>Polarity</th>\n",
       "      <th>Attraction</th>\n",
       "    </tr>\n",
       "  </thead>\n",
       "  <tbody>\n",
       "    <tr>\n",
       "      <th>5772</th>\n",
       "      <td>PRACTICO</td>\n",
       "      <td>mejor sabor , ma económico menos rápido , prác...</td>\n",
       "      <td>4</td>\n",
       "      <td>Restaurant</td>\n",
       "    </tr>\n",
       "    <tr>\n",
       "      <th>7818</th>\n",
       "      <td>Lugar histórico</td>\n",
       "      <td>Museografía interesante , información amplia h...</td>\n",
       "      <td>4</td>\n",
       "      <td>Attractive</td>\n",
       "    </tr>\n",
       "    <tr>\n",
       "      <th>7667</th>\n",
       "      <td>Muy buen hotel!!</td>\n",
       "      <td>personal atento amigable , hacen sentir casa ,...</td>\n",
       "      <td>4</td>\n",
       "      <td>Hotel</td>\n",
       "    </tr>\n",
       "    <tr>\n",
       "      <th>2675</th>\n",
       "      <td>Agradable hotel - pero no acepte los bonos</td>\n",
       "      <td>Pasamos fin semana largo ( familia 4 ) agradab...</td>\n",
       "      <td>3</td>\n",
       "      <td>Hotel</td>\n",
       "    </tr>\n",
       "    <tr>\n",
       "      <th>4957</th>\n",
       "      <td>Muy buen desayuno buffet</td>\n",
       "      <td>Buffet amplio mucha variedad , carnes , marisc...</td>\n",
       "      <td>4</td>\n",
       "      <td>Restaurant</td>\n",
       "    </tr>\n",
       "    <tr>\n",
       "      <th>...</th>\n",
       "      <td>...</td>\n",
       "      <td>...</td>\n",
       "      <td>...</td>\n",
       "      <td>...</td>\n",
       "    </tr>\n",
       "    <tr>\n",
       "      <th>2740</th>\n",
       "      <td>Pueden Mejorar</td>\n",
       "      <td>museo bien , entradas $ 85 propina guía . malo...</td>\n",
       "      <td>3</td>\n",
       "      <td>Attractive</td>\n",
       "    </tr>\n",
       "    <tr>\n",
       "      <th>930</th>\n",
       "      <td>Muy decepcionante. No es un 4 estrellas, apena...</td>\n",
       "      <td>Acabamos volver jueves semana Samba Vallarta ....</td>\n",
       "      <td>2</td>\n",
       "      <td>Hotel</td>\n",
       "    </tr>\n",
       "    <tr>\n",
       "      <th>2755</th>\n",
       "      <td>Más Leyenda</td>\n",
       "      <td>hacer filum eterna subir escalón indicado , ro...</td>\n",
       "      <td>3</td>\n",
       "      <td>Attractive</td>\n",
       "    </tr>\n",
       "    <tr>\n",
       "      <th>4908</th>\n",
       "      <td>Magníficas carnes y una excelente relación cal...</td>\n",
       "      <td>ir buena tienda carnicería , grill bistecs . a...</td>\n",
       "      <td>4</td>\n",
       "      <td>Restaurant</td>\n",
       "    </tr>\n",
       "    <tr>\n",
       "      <th>3601</th>\n",
       "      <td>Nos gustó mucho.</td>\n",
       "      <td>Samba Vallarta veinte veinticuatro diciembre d...</td>\n",
       "      <td>4</td>\n",
       "      <td>Hotel</td>\n",
       "    </tr>\n",
       "  </tbody>\n",
       "</table>\n",
       "<p>8000 rows × 4 columns</p>\n",
       "</div>"
      ],
      "text/plain": [
       "                                                  Title  \\\n",
       "5772                                           PRACTICO   \n",
       "7818                                    Lugar histórico   \n",
       "7667                                   Muy buen hotel!!   \n",
       "2675         Agradable hotel - pero no acepte los bonos   \n",
       "4957                           Muy buen desayuno buffet   \n",
       "...                                                 ...   \n",
       "2740                                     Pueden Mejorar   \n",
       "930   Muy decepcionante. No es un 4 estrellas, apena...   \n",
       "2755                                        Más Leyenda   \n",
       "4908  Magníficas carnes y una excelente relación cal...   \n",
       "3601                                   Nos gustó mucho.   \n",
       "\n",
       "                                                Opinion  Polarity  Attraction  \n",
       "5772  mejor sabor , ma económico menos rápido , prác...         4  Restaurant  \n",
       "7818  Museografía interesante , información amplia h...         4  Attractive  \n",
       "7667  personal atento amigable , hacen sentir casa ,...         4       Hotel  \n",
       "2675  Pasamos fin semana largo ( familia 4 ) agradab...         3       Hotel  \n",
       "4957  Buffet amplio mucha variedad , carnes , marisc...         4  Restaurant  \n",
       "...                                                 ...       ...         ...  \n",
       "2740  museo bien , entradas $ 85 propina guía . malo...         3  Attractive  \n",
       "930   Acabamos volver jueves semana Samba Vallarta ....         2       Hotel  \n",
       "2755  hacer filum eterna subir escalón indicado , ro...         3  Attractive  \n",
       "4908  ir buena tienda carnicería , grill bistecs . a...         4  Restaurant  \n",
       "3601  Samba Vallarta veinte veinticuatro diciembre d...         4       Hotel  \n",
       "\n",
       "[8000 rows x 4 columns]"
      ]
     },
     "execution_count": 15,
     "metadata": {},
     "output_type": "execute_result"
    }
   ],
   "source": [
    "train"
   ]
  },
  {
   "cell_type": "code",
   "execution_count": 17,
   "metadata": {},
   "outputs": [
    {
     "data": {
      "text/plain": [
       "pandas.core.series.Series"
      ]
     },
     "execution_count": 17,
     "metadata": {},
     "output_type": "execute_result"
    }
   ],
   "source": [
    "type(train['Opinion'])"
   ]
  },
  {
   "cell_type": "code",
   "execution_count": 16,
   "metadata": {},
   "outputs": [
    {
     "data": {
      "text/html": [
       "<div>\n",
       "<style scoped>\n",
       "    .dataframe tbody tr th:only-of-type {\n",
       "        vertical-align: middle;\n",
       "    }\n",
       "\n",
       "    .dataframe tbody tr th {\n",
       "        vertical-align: top;\n",
       "    }\n",
       "\n",
       "    .dataframe thead th {\n",
       "        text-align: right;\n",
       "    }\n",
       "</style>\n",
       "<table border=\"1\" class=\"dataframe\">\n",
       "  <thead>\n",
       "    <tr style=\"text-align: right;\">\n",
       "      <th></th>\n",
       "      <th>Title</th>\n",
       "      <th>Opinion</th>\n",
       "      <th>Polarity</th>\n",
       "      <th>Attraction</th>\n",
       "    </tr>\n",
       "  </thead>\n",
       "  <tbody>\n",
       "    <tr>\n",
       "      <th>2475</th>\n",
       "      <td>Bonito lugar pero no es justo para nosotros</td>\n",
       "      <td>Acabamos regresar estancia tres noches aquí . ...</td>\n",
       "      <td>3</td>\n",
       "      <td>Hotel</td>\n",
       "    </tr>\n",
       "    <tr>\n",
       "      <th>6520</th>\n",
       "      <td>buena opcion en familia</td>\n",
       "      <td>platillos cena fin año parecieron deliciosos ,...</td>\n",
       "      <td>4</td>\n",
       "      <td>Hotel</td>\n",
       "    </tr>\n",
       "    <tr>\n",
       "      <th>1196</th>\n",
       "      <td>Mala atención a clientes</td>\n",
       "      <td>punto turistico obligatorio , calidad comida b...</td>\n",
       "      <td>2</td>\n",
       "      <td>Attractive</td>\n",
       "    </tr>\n",
       "    <tr>\n",
       "      <th>3246</th>\n",
       "      <td>Un lugar a visitar</td>\n",
       "      <td>lugar histórico , debes conocer visitas Guanaj...</td>\n",
       "      <td>3</td>\n",
       "      <td>Attractive</td>\n",
       "    </tr>\n",
       "    <tr>\n",
       "      <th>5118</th>\n",
       "      <td>Deliciosa comida mexicana.</td>\n",
       "      <td>8 persona , lento servicio . guacamole viene e...</td>\n",
       "      <td>4</td>\n",
       "      <td>Restaurant</td>\n",
       "    </tr>\n",
       "    <tr>\n",
       "      <th>...</th>\n",
       "      <td>...</td>\n",
       "      <td>...</td>\n",
       "      <td>...</td>\n",
       "      <td>...</td>\n",
       "    </tr>\n",
       "    <tr>\n",
       "      <th>2100</th>\n",
       "      <td>Ambiente comida buena</td>\n",
       "      <td>buena experiencia musical vivo Sun Bar . Credi...</td>\n",
       "      <td>3</td>\n",
       "      <td>Hotel</td>\n",
       "    </tr>\n",
       "    <tr>\n",
       "      <th>7362</th>\n",
       "      <td>Bonito complejo... Personal amable</td>\n",
       "      <td>Pasamos noche Villa Palmar Flamingos después e...</td>\n",
       "      <td>4</td>\n",
       "      <td>Hotel</td>\n",
       "    </tr>\n",
       "    <tr>\n",
       "      <th>7811</th>\n",
       "      <td>Punto de interés en Guanajuato</td>\n",
       "      <td>lugar puedes dejar visitar Guanajuato , acceso...</td>\n",
       "      <td>4</td>\n",
       "      <td>Attractive</td>\n",
       "    </tr>\n",
       "    <tr>\n",
       "      <th>9320</th>\n",
       "      <td>Increíble estancia en el Grand Luxxe Residence...</td>\n",
       "      <td>Acabo volver estancia semana Grand Luxxe Resid...</td>\n",
       "      <td>5</td>\n",
       "      <td>Hotel</td>\n",
       "    </tr>\n",
       "    <tr>\n",
       "      <th>5538</th>\n",
       "      <td>Acogedor y sabroso</td>\n",
       "      <td>Sólo comimos comida ligera , sabrosa . Ambient...</td>\n",
       "      <td>4</td>\n",
       "      <td>Restaurant</td>\n",
       "    </tr>\n",
       "  </tbody>\n",
       "</table>\n",
       "<p>2000 rows × 4 columns</p>\n",
       "</div>"
      ],
      "text/plain": [
       "                                                  Title  \\\n",
       "2475        Bonito lugar pero no es justo para nosotros   \n",
       "6520                            buena opcion en familia   \n",
       "1196                           Mala atención a clientes   \n",
       "3246                                 Un lugar a visitar   \n",
       "5118                         Deliciosa comida mexicana.   \n",
       "...                                                 ...   \n",
       "2100                              Ambiente comida buena   \n",
       "7362                 Bonito complejo... Personal amable   \n",
       "7811                     Punto de interés en Guanajuato   \n",
       "9320  Increíble estancia en el Grand Luxxe Residence...   \n",
       "5538                                 Acogedor y sabroso   \n",
       "\n",
       "                                                Opinion  Polarity  Attraction  \n",
       "2475  Acabamos regresar estancia tres noches aquí . ...         3       Hotel  \n",
       "6520  platillos cena fin año parecieron deliciosos ,...         4       Hotel  \n",
       "1196  punto turistico obligatorio , calidad comida b...         2  Attractive  \n",
       "3246  lugar histórico , debes conocer visitas Guanaj...         3  Attractive  \n",
       "5118  8 persona , lento servicio . guacamole viene e...         4  Restaurant  \n",
       "...                                                 ...       ...         ...  \n",
       "2100  buena experiencia musical vivo Sun Bar . Credi...         3       Hotel  \n",
       "7362  Pasamos noche Villa Palmar Flamingos después e...         4       Hotel  \n",
       "7811  lugar puedes dejar visitar Guanajuato , acceso...         4  Attractive  \n",
       "9320  Acabo volver estancia semana Grand Luxxe Resid...         5       Hotel  \n",
       "5538  Sólo comimos comida ligera , sabrosa . Ambient...         4  Restaurant  \n",
       "\n",
       "[2000 rows x 4 columns]"
      ]
     },
     "execution_count": 16,
     "metadata": {},
     "output_type": "execute_result"
    }
   ],
   "source": [
    "test"
   ]
  },
  {
   "cell_type": "markdown",
   "metadata": {},
   "source": [
    "# Text Representations"
   ]
  },
  {
   "cell_type": "code",
   "execution_count": 43,
   "metadata": {},
   "outputs": [],
   "source": [
    "vectorizador_binario = CountVectorizer(binary=True, token_pattern= r'(?u)\\w\\w+|\\w\\w+\\n|\\.')\n",
    "vectorizador_frecuencia = CountVectorizer(token_pattern= r'(?u)\\w\\w+|\\w\\w+\\n|\\.')\n",
    "vectorizador_tfidf = TfidfVectorizer()"
   ]
  },
  {
   "cell_type": "code",
   "execution_count": 44,
   "metadata": {},
   "outputs": [],
   "source": [
    "train_vectorizado = vectorizador_tfidf.fit_transform(train['Opinion'])"
   ]
  },
  {
   "cell_type": "code",
   "execution_count": 45,
   "metadata": {},
   "outputs": [],
   "source": [
    "test_vectorizado = vectorizador_tfidf.transform(test['Opinion'])"
   ]
  },
  {
   "cell_type": "code",
   "execution_count": 46,
   "metadata": {},
   "outputs": [
    {
     "name": "stdout",
     "output_type": "stream",
     "text": [
      "['00' '000' '00am' ... 'útiles' 'útlimo' 'ĺlegaron']\n",
      "[[0. 0. 0. ... 0. 0. 0.]\n",
      " [0. 0. 0. ... 0. 0. 0.]\n",
      " [0. 0. 0. ... 0. 0. 0.]\n",
      " ...\n",
      " [0. 0. 0. ... 0. 0. 0.]\n",
      " [0. 0. 0. ... 0. 0. 0.]\n",
      " [0. 0. 0. ... 0. 0. 0.]]\n",
      "29552\n",
      "29552\n"
     ]
    }
   ],
   "source": [
    "print(vectorizador_tfidf.get_feature_names_out())\n",
    "print(train_vectorizado.toarray())\n",
    "print(len(train_vectorizado.toarray()[0]))\n",
    "print(len(vectorizador_tfidf.get_feature_names_out()))"
   ]
  },
  {
   "cell_type": "markdown",
   "metadata": {},
   "source": [
    "# Using Sentiment lexicons"
   ]
  },
  {
   "cell_type": "code",
   "execution_count": 18,
   "metadata": {},
   "outputs": [],
   "source": [
    "def load_sel():\n",
    "\t#~ global lexicon_sel\n",
    "\tlexicon_sel = {}\n",
    "\tinput_file = open('SEL_full.txt', 'r', encoding=\"utf-8\")\n",
    "\tfor line in input_file:\n",
    "\t\t#Las líneas del lexicon tienen el siguiente formato:\n",
    "\t\t#abundancia\t0\t0\t50\t50\t0.83\tAlegría\n",
    "\t\t\n",
    "\t\tpalabras = line.split(\"\\t\")\n",
    "\t\tpalabras[6]= re.sub('\\n', '', palabras[6])\n",
    "\t\tpair = (palabras[6], palabras[5])\n",
    "\t\tif lexicon_sel:\n",
    "\t\t\tif palabras[0] not in lexicon_sel:\n",
    "\t\t\t\tlista = [pair]\n",
    "\t\t\t\tlexicon_sel[palabras[0]] = lista\n",
    "\t\t\telse:\n",
    "\t\t\t\tlexicon_sel[palabras[0]].append (pair)\n",
    "\t\telse:\n",
    "\t\t\tlista = [pair]\n",
    "\t\t\tlexicon_sel[palabras[0]] = lista\n",
    "\tinput_file.close()\n",
    "\tdel lexicon_sel['Palabra']; #Esta llave se inserta porque es parte del encabezado del diccionario, por lo que se requiere eliminar\n",
    "\t#Estructura resultante\n",
    "\t\t#'hastiar': [('Enojo\\n', '0.629'), ('Repulsi\\xf3n\\n', '0.596')]\n",
    "\treturn lexicon_sel"
   ]
  },
  {
   "cell_type": "code",
   "execution_count": 19,
   "metadata": {},
   "outputs": [],
   "source": [
    "if (os.path.exists('lexicon_sel.pkl')):\n",
    "    lexicon_sel_file = open ('lexicon_sel.pkl','rb')\n",
    "    lexicon_sel = pickle.load(lexicon_sel_file)\n",
    "else:\n",
    "    lexicon_sel = load_sel()\n",
    "    lexicon_sel_file = open ('lexicon_sel.pkl','wb')\n",
    "    pickle.dump(lexicon_sel, lexicon_sel_file)\n",
    "    lexicon_sel_file.close()"
   ]
  },
  {
   "cell_type": "code",
   "execution_count": 20,
   "metadata": {},
   "outputs": [
    {
     "name": "stdout",
     "output_type": "stream",
     "text": [
      "[('Alegría', '0.596')]\n"
     ]
    }
   ],
   "source": [
    "print(lexicon_sel['gustar'])"
   ]
  },
  {
   "cell_type": "code",
   "execution_count": 21,
   "metadata": {},
   "outputs": [],
   "source": [
    "def getSELFeatures(cadenas, lexicon_sel):\n",
    "\t#'hastiar': [('Enojo\\n', '0.629'), ('Repulsi\\xf3n\\n', '0.596')]\n",
    "\tfeatures = []\n",
    "\tfor cadena in cadenas:\n",
    "\t\tvalor_alegria = 0.0\n",
    "\t\tvalor_enojo = 0.0\n",
    "\t\tvalor_miedo = 0.0\n",
    "\t\tvalor_repulsion = 0.0\n",
    "\t\tvalor_sorpresa = 0.0\n",
    "\t\tvalor_tristeza = 0.0\n",
    "\t\tcadena_palabras = re.split('\\s+', cadena)\n",
    "\t\tdic = {}\n",
    "\t\tfor palabra in cadena_palabras:\n",
    "\t\t\tif palabra in lexicon_sel:\n",
    "\t\t\t\tcaracteristicas = lexicon_sel[palabra]\n",
    "\t\t\t\tfor emocion, valor in caracteristicas:\n",
    "\t\t\t\t\tif emocion == 'Alegría':\n",
    "\t\t\t\t\t\tvalor_alegria = valor_alegria + float(valor)\n",
    "\t\t\t\t\telif emocion == 'Tristeza':\n",
    "\t\t\t\t\t\tvalor_tristeza = valor_tristeza + float(valor)\n",
    "\t\t\t\t\telif emocion == 'Enojo':\n",
    "\t\t\t\t\t\tvalor_enojo = valor_enojo + float(valor)\n",
    "\t\t\t\t\telif emocion == 'Repulsión':\n",
    "\t\t\t\t\t\tvalor_repulsion = valor_repulsion + float(valor)\n",
    "\t\t\t\t\telif emocion == 'Miedo':\n",
    "\t\t\t\t\t\tvalor_miedo = valor_miedo + float(valor)\n",
    "\t\t\t\t\telif emocion == 'Sorpresa':\n",
    "\t\t\t\t\t\tvalor_sorpresa = valor_sorpresa + float(valor)\n",
    "\t\tdic['__txt__'] = cadena_palabras\n",
    "\t\tdic['__alegria__'] = valor_alegria\n",
    "\t\tdic['__tristeza__'] = valor_tristeza\n",
    "\t\tdic['__enojo__'] = valor_enojo\n",
    "\t\tdic['__repulsion__'] = valor_repulsion\n",
    "\t\tdic['__miedo__'] = valor_miedo\n",
    "\t\tdic['__sorpresa__'] = valor_sorpresa\n",
    "\t\t\n",
    "\t\t#Esto es para los valores acumulados del mapeo a positivo (alegría + sorpresa) y negativo (enojo + miedo + repulsión + tristeza)\n",
    "\t\tdic['acumuladopositivo'] = dic['__alegria__'] + dic['__sorpresa__']\n",
    "\t\tdic['acumuladonegative'] = dic['__enojo__'] + dic['__miedo__'] + dic['__repulsion__'] + dic['__tristeza__']\n",
    "\t\t\n",
    "\t\tfeatures.append (dic)\n",
    "\t\n",
    "\t\n",
    "\treturn features"
   ]
  },
  {
   "cell_type": "code",
   "execution_count": 22,
   "metadata": {},
   "outputs": [
    {
     "data": {
      "text/plain": [
       "5772    mejor sabor , ma económico menos rápido , prác...\n",
       "7818    Museografía interesante , información amplia h...\n",
       "7667    personal atento amigable , hacen sentir casa ,...\n",
       "2675    Pasamos fin semana largo ( familia 4 ) agradab...\n",
       "4957    Buffet amplio mucha variedad , carnes , marisc...\n",
       "                              ...                        \n",
       "2740    museo bien , entradas $ 85 propina guía . malo...\n",
       "930     Acabamos volver jueves semana Samba Vallarta ....\n",
       "2755    hacer filum eterna subir escalón indicado , ro...\n",
       "4908    ir buena tienda carnicería , grill bistecs . a...\n",
       "3601    Samba Vallarta veinte veinticuatro diciembre d...\n",
       "Name: Opinion, Length: 8000, dtype: object"
      ]
     },
     "execution_count": 22,
     "metadata": {},
     "output_type": "execute_result"
    }
   ],
   "source": [
    "train['Opinion']"
   ]
  },
  {
   "cell_type": "code",
   "execution_count": 23,
   "metadata": {},
   "outputs": [
    {
     "name": "stdout",
     "output_type": "stream",
     "text": [
      "TEXTO\n",
      "Aunque parece hipócrita arte Rivera ( ve zona segura ) , debo reconocer obras agradan . museo interesante simple hecho conocer primer hogar Rivera . Bastante fancy . chido si gusta ver cosas antigua .\n",
      "POLARIDAD\n",
      "{'__txt__': ['mejor', 'sabor', ',', 'ma', 'económico', 'menos', 'rápido', ',', 'práctico', 'cumple', 'objetivo', 'alimentarte', 'secas', ',', 'costo', 'ligeramente', 'elevado', '.'], '__alegria__': 0.0, '__tristeza__': 0.0, '__enojo__': 0.0, '__repulsion__': 0.0, '__miedo__': 0.0, '__sorpresa__': 0.0, 'acumuladopositivo': 0.0, 'acumuladonegative': 0.0}\n"
     ]
    }
   ],
   "source": [
    "polaridad = getSELFeatures(train['Opinion'], lexicon_sel)\n",
    "print(\"TEXTO\")\n",
    "print(train['Opinion'][7693])\n",
    "print(\"POLARIDAD\")\n",
    "print (polaridad[0])"
   ]
  },
  {
   "cell_type": "code",
   "execution_count": null,
   "metadata": {},
   "outputs": [],
   "source": [
    "polaridad_cadena_pos = np.array([polaridad[0]['acumuladopositivo']])\n",
    "polaridad_cadena_neg = np.array([polaridad[0]['acumuladonegative']])\n",
    "polaridad_cadena = np.concatenate((polaridad_cadena_pos, polaridad_cadena_neg), axis=0)"
   ]
  },
  {
   "cell_type": "markdown",
   "metadata": {},
   "source": [
    "# Training ML models"
   ]
  },
  {
   "cell_type": "markdown",
   "metadata": {},
   "source": [
    "## Without NLTK"
   ]
  },
  {
   "cell_type": "code",
   "execution_count": 40,
   "metadata": {},
   "outputs": [],
   "source": [
    "x_train = train_vectorizado\n",
    "y_train = train['Polarity']\n",
    "x_test = test_vectorizado\n",
    "y_test = test['Polarity']"
   ]
  },
  {
   "cell_type": "code",
   "execution_count": 42,
   "metadata": {},
   "outputs": [
    {
     "name": "stdout",
     "output_type": "stream",
     "text": [
      "  (0, 14655)\t0.21489746316734312\n",
      "  (0, 7944)\t0.471997395738744\n",
      "  (0, 21122)\t0.12006246219586392\n",
      "  (0, 3158)\t0.1833612387058041\n",
      "  (0, 4457)\t0.12337146589146565\n",
      "  (0, 1127)\t0.28279096649142316\n",
      "  (0, 15127)\t0.17597894759636737\n",
      "  (0, 20622)\t0.29679247422734784\n",
      "  (0, 13956)\t0.21073375479499623\n",
      "  (0, 13409)\t0.1616876357544541\n",
      "  (0, 22722)\t0.28158176130441925\n",
      "  (0, 26900)\t0.19231032064514206\n",
      "  (0, 25474)\t0.10502001810462905\n",
      "  (0, 25984)\t0.186939071252508\n",
      "  (0, 28322)\t0.3550624111534327\n",
      "  (0, 4464)\t0.14299134621099757\n",
      "  (0, 882)\t0.27811785862837407\n",
      "  (0, 17224)\t0.10996194124670956\n",
      "  (1, 16604)\t0.03337324003299682\n",
      "  (1, 3160)\t0.04261507365136779\n",
      "  (1, 16839)\t0.029917570321517924\n",
      "  (1, 22010)\t0.04715152987918691\n",
      "  (1, 28266)\t0.031329232263059996\n",
      "  (1, 6360)\t0.04363701517231048\n",
      "  (1, 6584)\t0.04153125683630938\n",
      "  :\t:\n",
      "  (7999, 17740)\t0.08456088603468845\n",
      "  (7999, 16980)\t0.1006780001891303\n",
      "  (7999, 18227)\t0.17679878263876778\n",
      "  (7999, 21529)\t0.15026410661354023\n",
      "  (7999, 18121)\t0.07766753391186947\n",
      "  (7999, 6340)\t0.06870359387892556\n",
      "  (7999, 4751)\t0.09075718887202103\n",
      "  (7999, 13759)\t0.1242545125045003\n",
      "  (7999, 19083)\t0.09143542110757993\n",
      "  (7999, 4008)\t0.047876678010999575\n",
      "  (7999, 3130)\t0.05433152641681304\n",
      "  (7999, 25614)\t0.13393832290132868\n",
      "  (7999, 12377)\t0.1172789135050061\n",
      "  (7999, 8247)\t0.09092462144335099\n",
      "  (7999, 25645)\t0.1163685857544588\n",
      "  (7999, 20343)\t0.10576788054695391\n",
      "  (7999, 5195)\t0.08331251826671895\n",
      "  (7999, 19509)\t0.06798982796620257\n",
      "  (7999, 24217)\t0.058136449270877376\n",
      "  (7999, 17897)\t0.09490797699977502\n",
      "  (7999, 6376)\t0.15195551878488947\n",
      "  (7999, 3869)\t0.06446029516786957\n",
      "  (7999, 28745)\t0.05857142734240416\n",
      "  (7999, 25474)\t0.12516677740507712\n",
      "  (7999, 17224)\t0.04368558195367008\n"
     ]
    }
   ],
   "source": [
    "print(x_train)"
   ]
  },
  {
   "cell_type": "code",
   "execution_count": 35,
   "metadata": {},
   "outputs": [],
   "source": [
    "clf_polarity = LogisticRegression(max_iter=10000)\n",
    "clf_polarity.fit(x_train,y_train)\n",
    "y_pred = clf_polarity.predict(x_test)"
   ]
  },
  {
   "cell_type": "code",
   "execution_count": 17,
   "metadata": {},
   "outputs": [],
   "source": [
    "clf_bayes = MultinomialNB()\n",
    "clf_bayes.fit(x_train, y_train)\n",
    "y_pred = clf_bayes.predict(x_test)"
   ]
  },
  {
   "cell_type": "markdown",
   "metadata": {},
   "source": [
    "### Lematizacion, stop words. Binarizado. Logistic Regression:"
   ]
  },
  {
   "cell_type": "code",
   "execution_count": 44,
   "metadata": {},
   "outputs": [
    {
     "name": "stdout",
     "output_type": "stream",
     "text": [
      "              precision    recall  f1-score   support\n",
      "\n",
      "           1       0.00      0.00      0.00       110\n",
      "           2       0.00      0.00      0.00       136\n",
      "           3       0.00      0.00      0.00       446\n",
      "           4       0.58      1.00      0.73      1154\n",
      "           5       0.00      0.00      0.00       154\n",
      "\n",
      "    accuracy                           0.58      2000\n",
      "   macro avg       0.12      0.20      0.15      2000\n",
      "weighted avg       0.33      0.58      0.42      2000\n",
      "\n"
     ]
    },
    {
     "name": "stderr",
     "output_type": "stream",
     "text": [
      "c:\\Users\\sergi\\miniconda3\\envs\\cursoNLP\\Lib\\site-packages\\sklearn\\metrics\\_classification.py:1469: UndefinedMetricWarning: Precision and F-score are ill-defined and being set to 0.0 in labels with no predicted samples. Use `zero_division` parameter to control this behavior.\n",
      "  _warn_prf(average, modifier, msg_start, len(result))\n",
      "c:\\Users\\sergi\\miniconda3\\envs\\cursoNLP\\Lib\\site-packages\\sklearn\\metrics\\_classification.py:1469: UndefinedMetricWarning: Precision and F-score are ill-defined and being set to 0.0 in labels with no predicted samples. Use `zero_division` parameter to control this behavior.\n",
      "  _warn_prf(average, modifier, msg_start, len(result))\n",
      "c:\\Users\\sergi\\miniconda3\\envs\\cursoNLP\\Lib\\site-packages\\sklearn\\metrics\\_classification.py:1469: UndefinedMetricWarning: Precision and F-score are ill-defined and being set to 0.0 in labels with no predicted samples. Use `zero_division` parameter to control this behavior.\n",
      "  _warn_prf(average, modifier, msg_start, len(result))\n"
     ]
    }
   ],
   "source": [
    "print(classification_report(y_test,y_pred))"
   ]
  },
  {
   "cell_type": "code",
   "execution_count": null,
   "metadata": {},
   "outputs": [],
   "source": []
  },
  {
   "cell_type": "markdown",
   "metadata": {},
   "source": [
    "### Lematizacion, stop words. Frecuencia. Logistic Regression:"
   ]
  },
  {
   "cell_type": "code",
   "execution_count": 45,
   "metadata": {},
   "outputs": [
    {
     "name": "stdout",
     "output_type": "stream",
     "text": [
      "              precision    recall  f1-score   support\n",
      "\n",
      "           1       0.00      0.00      0.00       110\n",
      "           2       0.00      0.00      0.00       136\n",
      "           3       0.00      0.00      0.00       446\n",
      "           4       0.58      1.00      0.73      1154\n",
      "           5       0.00      0.00      0.00       154\n",
      "\n",
      "    accuracy                           0.58      2000\n",
      "   macro avg       0.12      0.20      0.15      2000\n",
      "weighted avg       0.33      0.58      0.42      2000\n",
      "\n"
     ]
    },
    {
     "name": "stderr",
     "output_type": "stream",
     "text": [
      "c:\\Users\\sergi\\miniconda3\\envs\\cursoNLP\\Lib\\site-packages\\sklearn\\metrics\\_classification.py:1469: UndefinedMetricWarning: Precision and F-score are ill-defined and being set to 0.0 in labels with no predicted samples. Use `zero_division` parameter to control this behavior.\n",
      "  _warn_prf(average, modifier, msg_start, len(result))\n",
      "c:\\Users\\sergi\\miniconda3\\envs\\cursoNLP\\Lib\\site-packages\\sklearn\\metrics\\_classification.py:1469: UndefinedMetricWarning: Precision and F-score are ill-defined and being set to 0.0 in labels with no predicted samples. Use `zero_division` parameter to control this behavior.\n",
      "  _warn_prf(average, modifier, msg_start, len(result))\n",
      "c:\\Users\\sergi\\miniconda3\\envs\\cursoNLP\\Lib\\site-packages\\sklearn\\metrics\\_classification.py:1469: UndefinedMetricWarning: Precision and F-score are ill-defined and being set to 0.0 in labels with no predicted samples. Use `zero_division` parameter to control this behavior.\n",
      "  _warn_prf(average, modifier, msg_start, len(result))\n"
     ]
    }
   ],
   "source": [
    "print(classification_report(y_test,y_pred))"
   ]
  },
  {
   "cell_type": "markdown",
   "metadata": {},
   "source": [
    "### Lematizacion, stop words. Tf-idf. Logistic Regression:"
   ]
  },
  {
   "cell_type": "code",
   "execution_count": 46,
   "metadata": {},
   "outputs": [
    {
     "name": "stdout",
     "output_type": "stream",
     "text": [
      "              precision    recall  f1-score   support\n",
      "\n",
      "           1       0.00      0.00      0.00       110\n",
      "           2       0.00      0.00      0.00       136\n",
      "           3       0.00      0.00      0.00       446\n",
      "           4       0.58      1.00      0.73      1154\n",
      "           5       0.00      0.00      0.00       154\n",
      "\n",
      "    accuracy                           0.58      2000\n",
      "   macro avg       0.12      0.20      0.15      2000\n",
      "weighted avg       0.33      0.58      0.42      2000\n",
      "\n"
     ]
    },
    {
     "name": "stderr",
     "output_type": "stream",
     "text": [
      "c:\\Users\\sergi\\miniconda3\\envs\\cursoNLP\\Lib\\site-packages\\sklearn\\metrics\\_classification.py:1469: UndefinedMetricWarning: Precision and F-score are ill-defined and being set to 0.0 in labels with no predicted samples. Use `zero_division` parameter to control this behavior.\n",
      "  _warn_prf(average, modifier, msg_start, len(result))\n",
      "c:\\Users\\sergi\\miniconda3\\envs\\cursoNLP\\Lib\\site-packages\\sklearn\\metrics\\_classification.py:1469: UndefinedMetricWarning: Precision and F-score are ill-defined and being set to 0.0 in labels with no predicted samples. Use `zero_division` parameter to control this behavior.\n",
      "  _warn_prf(average, modifier, msg_start, len(result))\n",
      "c:\\Users\\sergi\\miniconda3\\envs\\cursoNLP\\Lib\\site-packages\\sklearn\\metrics\\_classification.py:1469: UndefinedMetricWarning: Precision and F-score are ill-defined and being set to 0.0 in labels with no predicted samples. Use `zero_division` parameter to control this behavior.\n",
      "  _warn_prf(average, modifier, msg_start, len(result))\n"
     ]
    }
   ],
   "source": [
    "print(classification_report(y_test,y_pred))"
   ]
  },
  {
   "cell_type": "markdown",
   "metadata": {},
   "source": [
    "### Lematizacion, stop words. Tf-idf. Multinomial Naive Bayes"
   ]
  },
  {
   "cell_type": "code",
   "execution_count": 47,
   "metadata": {},
   "outputs": [
    {
     "name": "stdout",
     "output_type": "stream",
     "text": [
      "              precision    recall  f1-score   support\n",
      "\n",
      "           1       0.00      0.00      0.00       110\n",
      "           2       0.00      0.00      0.00       136\n",
      "           3       0.00      0.00      0.00       446\n",
      "           4       0.58      1.00      0.73      1154\n",
      "           5       0.00      0.00      0.00       154\n",
      "\n",
      "    accuracy                           0.58      2000\n",
      "   macro avg       0.12      0.20      0.15      2000\n",
      "weighted avg       0.33      0.58      0.42      2000\n",
      "\n"
     ]
    },
    {
     "name": "stderr",
     "output_type": "stream",
     "text": [
      "c:\\Users\\sergi\\miniconda3\\envs\\cursoNLP\\Lib\\site-packages\\sklearn\\metrics\\_classification.py:1469: UndefinedMetricWarning: Precision and F-score are ill-defined and being set to 0.0 in labels with no predicted samples. Use `zero_division` parameter to control this behavior.\n",
      "  _warn_prf(average, modifier, msg_start, len(result))\n",
      "c:\\Users\\sergi\\miniconda3\\envs\\cursoNLP\\Lib\\site-packages\\sklearn\\metrics\\_classification.py:1469: UndefinedMetricWarning: Precision and F-score are ill-defined and being set to 0.0 in labels with no predicted samples. Use `zero_division` parameter to control this behavior.\n",
      "  _warn_prf(average, modifier, msg_start, len(result))\n",
      "c:\\Users\\sergi\\miniconda3\\envs\\cursoNLP\\Lib\\site-packages\\sklearn\\metrics\\_classification.py:1469: UndefinedMetricWarning: Precision and F-score are ill-defined and being set to 0.0 in labels with no predicted samples. Use `zero_division` parameter to control this behavior.\n",
      "  _warn_prf(average, modifier, msg_start, len(result))\n"
     ]
    }
   ],
   "source": [
    "print(classification_report(y_test, y_pred))"
   ]
  },
  {
   "cell_type": "markdown",
   "metadata": {},
   "source": [
    "## With NLTK"
   ]
  },
  {
   "cell_type": "markdown",
   "metadata": {},
   "source": [
    "### Lematizacion, stop words. Binarizado. Logistic Regression:"
   ]
  },
  {
   "cell_type": "code",
   "execution_count": 24,
   "metadata": {},
   "outputs": [
    {
     "name": "stdout",
     "output_type": "stream",
     "text": [
      "              precision    recall  f1-score   support\n",
      "\n",
      "           1       0.68      0.21      0.32       109\n",
      "           2       0.44      0.05      0.09       143\n",
      "           3       0.43      0.27      0.33       409\n",
      "           4       0.69      0.95      0.80      1201\n",
      "           5       0.74      0.10      0.18       138\n",
      "\n",
      "    accuracy                           0.65      2000\n",
      "   macro avg       0.59      0.32      0.34      2000\n",
      "weighted avg       0.62      0.65      0.58      2000\n",
      "\n"
     ]
    }
   ],
   "source": [
    "print(classification_report(y_test,y_pred))"
   ]
  },
  {
   "cell_type": "markdown",
   "metadata": {},
   "source": [
    "### Lematizacion, stop words. Frecuencia. Logistic Regression:"
   ]
  },
  {
   "cell_type": "code",
   "execution_count": 36,
   "metadata": {},
   "outputs": [
    {
     "name": "stdout",
     "output_type": "stream",
     "text": [
      "              precision    recall  f1-score   support\n",
      "\n",
      "           1       0.68      0.21      0.32       109\n",
      "           2       0.44      0.05      0.09       143\n",
      "           3       0.43      0.27      0.33       409\n",
      "           4       0.69      0.95      0.80      1201\n",
      "           5       0.74      0.10      0.18       138\n",
      "\n",
      "    accuracy                           0.65      2000\n",
      "   macro avg       0.59      0.32      0.34      2000\n",
      "weighted avg       0.62      0.65      0.58      2000\n",
      "\n"
     ]
    }
   ],
   "source": [
    "print(classification_report(y_test,y_pred))"
   ]
  },
  {
   "cell_type": "code",
   "execution_count": 37,
   "metadata": {},
   "outputs": [
    {
     "name": "stderr",
     "output_type": "stream",
     "text": [
      "[Parallel(n_jobs=-1)]: Using backend LokyBackend with 8 concurrent workers.\n",
      "[Parallel(n_jobs=-1)]: Done   2 out of   5 | elapsed:   20.7s remaining:   31.2s\n",
      "[Parallel(n_jobs=-1)]: Done   5 out of   5 | elapsed:   21.2s finished\n"
     ]
    }
   ],
   "source": [
    "cv_results = cross_validate(clf_polarity, x_train,y_train, cv=5, scoring='f1_macro', verbose = 3, n_jobs = -1)"
   ]
  },
  {
   "cell_type": "code",
   "execution_count": 38,
   "metadata": {},
   "outputs": [
    {
     "data": {
      "text/plain": [
       "0.27621456039405234"
      ]
     },
     "execution_count": 38,
     "metadata": {},
     "output_type": "execute_result"
    }
   ],
   "source": [
    "cv_results['test_score'].mean()"
   ]
  }
 ],
 "metadata": {
  "kernelspec": {
   "display_name": "Python 3 (ipykernel)",
   "language": "python",
   "name": "python3"
  },
  "language_info": {
   "codemirror_mode": {
    "name": "ipython",
    "version": 3
   },
   "file_extension": ".py",
   "mimetype": "text/x-python",
   "name": "python",
   "nbconvert_exporter": "python",
   "pygments_lexer": "ipython3",
   "version": "3.11.5"
  }
 },
 "nbformat": 4,
 "nbformat_minor": 5
}
