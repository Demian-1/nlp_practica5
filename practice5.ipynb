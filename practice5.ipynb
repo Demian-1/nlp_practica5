{
 "cells": [
  {
   "cell_type": "code",
   "execution_count": 1,
   "id": "f27a1ea6-4cc1-4f5f-8d4c-0517ef83f9a8",
   "metadata": {},
   "outputs": [],
   "source": [
    "import csv\n",
    "import pandas as pd\n",
    "import pickle\n",
    "import re\n",
    "from sklearn.model_selection import train_test_split\n",
    "import spacy\n",
    "from sklearn.feature_extraction.text import TfidfVectorizer\n",
    "from sklearn.feature_extraction.text import CountVectorizer\n",
    "from sklearn.linear_model import LogisticRegression\n",
    "from sklearn.naive_bayes import MultinomialNB\n",
    "from sklearn.metrics import classification_report\n",
    "import numpy as np\n",
    "import os.path\n",
    "import nltk\n",
    "from nltk.corpus import stopwords\n",
    "from nltk.tokenize import word_tokenize\n",
    "from nltk.stem import WordNetLemmatizer"
   ]
  },
  {
   "cell_type": "code",
   "execution_count": 17,
   "id": "9e41db94-749d-4516-bb5b-1d69c8cd354d",
   "metadata": {},
   "outputs": [
    {
     "data": {
      "text/html": [
       "<div>\n",
       "<style scoped>\n",
       "    .dataframe tbody tr th:only-of-type {\n",
       "        vertical-align: middle;\n",
       "    }\n",
       "\n",
       "    .dataframe tbody tr th {\n",
       "        vertical-align: top;\n",
       "    }\n",
       "\n",
       "    .dataframe thead th {\n",
       "        text-align: right;\n",
       "    }\n",
       "</style>\n",
       "<table border=\"1\" class=\"dataframe\">\n",
       "  <thead>\n",
       "    <tr style=\"text-align: right;\">\n",
       "      <th></th>\n",
       "      <th>Title</th>\n",
       "      <th>Opinion</th>\n",
       "      <th>Polarity</th>\n",
       "      <th>Attraction</th>\n",
       "    </tr>\n",
       "  </thead>\n",
       "  <tbody>\n",
       "    <tr>\n",
       "      <th>0</th>\n",
       "      <td>Pésimo lugar</td>\n",
       "      <td>Piensen dos veces antes de ir a este hotel, te...</td>\n",
       "      <td>1</td>\n",
       "      <td>Hotel</td>\n",
       "    </tr>\n",
       "    <tr>\n",
       "      <th>1</th>\n",
       "      <td>No vayas a lugar de Eddie</td>\n",
       "      <td>Cuatro de nosotros fuimos recientemente a Eddi...</td>\n",
       "      <td>1</td>\n",
       "      <td>Restaurant</td>\n",
       "    </tr>\n",
       "    <tr>\n",
       "      <th>2</th>\n",
       "      <td>Mala relación calidad-precio</td>\n",
       "      <td>seguiré corta y simple: limpieza\\n- bad. Tengo...</td>\n",
       "      <td>1</td>\n",
       "      <td>Hotel</td>\n",
       "    </tr>\n",
       "    <tr>\n",
       "      <th>3</th>\n",
       "      <td>Minusválido? ¡No te alojes aquí!</td>\n",
       "      <td>Al reservar un hotel con multipropiedad Mayan ...</td>\n",
       "      <td>1</td>\n",
       "      <td>Hotel</td>\n",
       "    </tr>\n",
       "    <tr>\n",
       "      <th>4</th>\n",
       "      <td>Es una porqueria no pierdan su tiempo</td>\n",
       "      <td>No pierdan su tiempo ni dinero, venimos porque...</td>\n",
       "      <td>1</td>\n",
       "      <td>Hotel</td>\n",
       "    </tr>\n",
       "    <tr>\n",
       "      <th>5</th>\n",
       "      <td>El peor huevos Benedict jamás</td>\n",
       "      <td>Hoy teníamos el desayuno por segunda vez en po...</td>\n",
       "      <td>1</td>\n",
       "      <td>Restaurant</td>\n",
       "    </tr>\n",
       "    <tr>\n",
       "      <th>6</th>\n",
       "      <td>Definitivamente no volvería a hospedarme en Sa...</td>\n",
       "      <td>El hotel en si no es malo, pero mi experiencia...</td>\n",
       "      <td>1</td>\n",
       "      <td>Hotel</td>\n",
       "    </tr>\n",
       "    <tr>\n",
       "      <th>7</th>\n",
       "      <td>Terrible</td>\n",
       "      <td>No estoy seguro de por qué este restaurante ti...</td>\n",
       "      <td>1</td>\n",
       "      <td>Restaurant</td>\n",
       "    </tr>\n",
       "    <tr>\n",
       "      <th>8</th>\n",
       "      <td>Bebidas ADULTERADAS, FATAL mi experiencia!!!</td>\n",
       "      <td>Llegué a este hotel “por desgracia” mi reserva...</td>\n",
       "      <td>1</td>\n",
       "      <td>Hotel</td>\n",
       "    </tr>\n",
       "    <tr>\n",
       "      <th>9</th>\n",
       "      <td>Hotel ha ido cuesta abajo</td>\n",
       "      <td>Hemos estado viniendo a Villa la Estancia dura...</td>\n",
       "      <td>1</td>\n",
       "      <td>Hotel</td>\n",
       "    </tr>\n",
       "  </tbody>\n",
       "</table>\n",
       "</div>"
      ],
      "text/plain": [
       "                                               Title  \\\n",
       "0                                       Pésimo lugar   \n",
       "1                          No vayas a lugar de Eddie   \n",
       "2                       Mala relación calidad-precio   \n",
       "3                   Minusválido? ¡No te alojes aquí!   \n",
       "4              Es una porqueria no pierdan su tiempo   \n",
       "5                      El peor huevos Benedict jamás   \n",
       "6  Definitivamente no volvería a hospedarme en Sa...   \n",
       "7                                           Terrible   \n",
       "8       Bebidas ADULTERADAS, FATAL mi experiencia!!!   \n",
       "9                          Hotel ha ido cuesta abajo   \n",
       "\n",
       "                                             Opinion  Polarity  Attraction  \n",
       "0  Piensen dos veces antes de ir a este hotel, te...         1       Hotel  \n",
       "1  Cuatro de nosotros fuimos recientemente a Eddi...         1  Restaurant  \n",
       "2  seguiré corta y simple: limpieza\\n- bad. Tengo...         1       Hotel  \n",
       "3  Al reservar un hotel con multipropiedad Mayan ...         1       Hotel  \n",
       "4  No pierdan su tiempo ni dinero, venimos porque...         1       Hotel  \n",
       "5  Hoy teníamos el desayuno por segunda vez en po...         1  Restaurant  \n",
       "6  El hotel en si no es malo, pero mi experiencia...         1       Hotel  \n",
       "7  No estoy seguro de por qué este restaurante ti...         1  Restaurant  \n",
       "8  Llegué a este hotel “por desgracia” mi reserva...         1       Hotel  \n",
       "9  Hemos estado viniendo a Villa la Estancia dura...         1       Hotel  "
      ]
     },
     "execution_count": 17,
     "metadata": {},
     "output_type": "execute_result"
    }
   ],
   "source": [
    "data = pd.read_excel(\"Rest_Mex_2022.xlsx\")\n",
    "data.head(10)"
   ]
  },
  {
   "cell_type": "code",
   "execution_count": 18,
   "metadata": {},
   "outputs": [
    {
     "data": {
      "text/plain": [
       "'Aunque me parece algo hipócrita el arte de Rivera (todo lo ve desde fuera desde una zona segura), debo reconocer que tiene algunas obras que me agradan. Este museo es interesante por el simple hecho de conocer el primer hogar que fuera de Rivera. Bastante fancy. Está chido si te gusta ver cosas antiguas.'"
      ]
     },
     "execution_count": 18,
     "metadata": {},
     "output_type": "execute_result"
    }
   ],
   "source": [
    "data['Opinion'][7693]"
   ]
  },
  {
   "cell_type": "code",
   "execution_count": 19,
   "id": "454c3bb9-6cee-406c-93ad-d5bbf44016ee",
   "metadata": {},
   "outputs": [
    {
     "name": "stdout",
     "output_type": "stream",
     "text": [
      "                                      Title  \\\n",
      "0                              Pésimo lugar   \n",
      "1                 No vayas a lugar de Eddie   \n",
      "2              Mala relación calidad-precio   \n",
      "3          Minusválido? ¡No te alojes aquí!   \n",
      "4     Es una porqueria no pierdan su tiempo   \n",
      "...                                     ...   \n",
      "9995                               Vacacion   \n",
      "9996                 Excelente y muy barato   \n",
      "9997                      Mi lugar favorito   \n",
      "9998                     Joysquad excelente   \n",
      "9999               El hotel y sus empleados   \n",
      "\n",
      "                                                Opinion  Polarity  Attraction  \n",
      "0     Piensen dos veces antes de ir a este hotel, te...         1       Hotel  \n",
      "1     Cuatro de nosotros fuimos recientemente a Eddi...         1  Restaurant  \n",
      "2     seguiré corta y simple: limpieza\\n- bad. Tengo...         1       Hotel  \n",
      "3     Al reservar un hotel con multipropiedad Mayan ...         1       Hotel  \n",
      "4     No pierdan su tiempo ni dinero, venimos porque...         1       Hotel  \n",
      "...                                                 ...       ...         ...  \n",
      "9995  Un excelente lugar para vacacionar, servicio d...         5       Hotel  \n",
      "9996  Buena carne, tortillas recién hechas, queso fu...         5  Restaurant  \n",
      "9997  Siempre que vamos, y vamos muy seguido, comemo...         5  Restaurant  \n",
      "9998  Lisbhet de Torre Punta excelente servicio muy ...         5       Hotel  \n",
      "9999  El hotel samba es el mejor en su clase podrá v...         5       Hotel  \n",
      "\n",
      "[10000 rows x 4 columns]\n"
     ]
    }
   ],
   "source": [
    "myTest = data.head(10000)\n",
    "print(myTest)"
   ]
  },
  {
   "cell_type": "markdown",
   "metadata": {},
   "source": [
    "# Normalizacion"
   ]
  },
  {
   "cell_type": "code",
   "execution_count": 20,
   "metadata": {},
   "outputs": [],
   "source": [
    "nlp = spacy.load(\"es_core_news_sm\")"
   ]
  },
  {
   "cell_type": "code",
   "execution_count": 21,
   "metadata": {},
   "outputs": [],
   "source": [
    "def tokenizar(doc):\n",
    "    if(type(doc) != type(\"\")):\n",
    "         print(doc)\n",
    "         return \"\"\n",
    "    # nlp = spacy.load(\"es_core_news_sm\") # español\n",
    "    \n",
    "    tkDoc = nlp(doc)\n",
    "    res = \"\"\n",
    "    for token in tkDoc:\n",
    "        if(not(token.is_stop)): # quitando stop words\n",
    "                res+=token.lemma_\n",
    "                res+=\" \"\n",
    "\n",
    "    return res\n",
    "# print(newsgroups_train.data[0])"
   ]
  },
  {
   "cell_type": "code",
   "execution_count": 22,
   "metadata": {},
   "outputs": [
    {
     "name": "stdout",
     "output_type": "stream",
     "text": [
      "nan\n"
     ]
    },
    {
     "name": "stderr",
     "output_type": "stream",
     "text": [
      "C:\\Users\\sergi\\AppData\\Local\\Temp\\ipykernel_21960\\77379802.py:1: SettingWithCopyWarning: \n",
      "A value is trying to be set on a copy of a slice from a DataFrame.\n",
      "Try using .loc[row_indexer,col_indexer] = value instead\n",
      "\n",
      "See the caveats in the documentation: https://pandas.pydata.org/pandas-docs/stable/user_guide/indexing.html#returning-a-view-versus-a-copy\n",
      "  myTest['Opinion'] = myTest['Opinion'].apply(tokenizar)\n"
     ]
    }
   ],
   "source": [
    "myTest['Opinion'] = myTest['Opinion'].apply(tokenizar)"
   ]
  },
  {
   "cell_type": "code",
   "execution_count": 23,
   "metadata": {},
   "outputs": [
    {
     "data": {
      "text/html": [
       "<div>\n",
       "<style scoped>\n",
       "    .dataframe tbody tr th:only-of-type {\n",
       "        vertical-align: middle;\n",
       "    }\n",
       "\n",
       "    .dataframe tbody tr th {\n",
       "        vertical-align: top;\n",
       "    }\n",
       "\n",
       "    .dataframe thead th {\n",
       "        text-align: right;\n",
       "    }\n",
       "</style>\n",
       "<table border=\"1\" class=\"dataframe\">\n",
       "  <thead>\n",
       "    <tr style=\"text-align: right;\">\n",
       "      <th></th>\n",
       "      <th>Title</th>\n",
       "      <th>Opinion</th>\n",
       "      <th>Polarity</th>\n",
       "      <th>Attraction</th>\n",
       "    </tr>\n",
       "  </thead>\n",
       "  <tbody>\n",
       "    <tr>\n",
       "      <th>0</th>\n",
       "      <td>Pésimo lugar</td>\n",
       "      <td>piensir hotel , molestar , hijo año traer infl...</td>\n",
       "      <td>1</td>\n",
       "      <td>Hotel</td>\n",
       "    </tr>\n",
       "    <tr>\n",
       "      <th>1</th>\n",
       "      <td>No vayas a lugar de Eddie</td>\n",
       "      <td>recientemente Eddie's Place . servicio terribl...</td>\n",
       "      <td>1</td>\n",
       "      <td>Restaurant</td>\n",
       "    </tr>\n",
       "    <tr>\n",
       "      <th>2</th>\n",
       "      <td>Mala relación calidad-precio</td>\n",
       "      <td>seguir corto simple : limpieza \\n - bad . insi...</td>\n",
       "      <td>1</td>\n",
       "      <td>Hotel</td>\n",
       "    </tr>\n",
       "    <tr>\n",
       "      <th>3</th>\n",
       "      <td>Minusválido? ¡No te alojes aquí!</td>\n",
       "      <td>reservar hotel multipropiedad Mayan grupo deci...</td>\n",
       "      <td>1</td>\n",
       "      <td>Hotel</td>\n",
       "    </tr>\n",
       "    <tr>\n",
       "      <th>4</th>\n",
       "      <td>Es una porqueria no pierdan su tiempo</td>\n",
       "      <td>perder tiempo dinero , venir tener boda , comp...</td>\n",
       "      <td>1</td>\n",
       "      <td>Hotel</td>\n",
       "    </tr>\n",
       "    <tr>\n",
       "      <th>...</th>\n",
       "      <td>...</td>\n",
       "      <td>...</td>\n",
       "      <td>...</td>\n",
       "      <td>...</td>\n",
       "    </tr>\n",
       "    <tr>\n",
       "      <th>9995</th>\n",
       "      <td>Vacacion</td>\n",
       "      <td>excelente lugar vacacionar , servicio calidad ...</td>\n",
       "      <td>5</td>\n",
       "      <td>Hotel</td>\n",
       "    </tr>\n",
       "    <tr>\n",
       "      <th>9996</th>\n",
       "      <td>Excelente y muy barato</td>\n",
       "      <td>carne , tortilla recién hecho , queso fundido ...</td>\n",
       "      <td>5</td>\n",
       "      <td>Restaurant</td>\n",
       "    </tr>\n",
       "    <tr>\n",
       "      <th>9997</th>\n",
       "      <td>Mi lugar favorito</td>\n",
       "      <td>, seguido , comer delicioso atender maravilla ...</td>\n",
       "      <td>5</td>\n",
       "      <td>Restaurant</td>\n",
       "    </tr>\n",
       "    <tr>\n",
       "      <th>9998</th>\n",
       "      <td>Joysquad excelente</td>\n",
       "      <td>Lisbhet Torre Punta excelente servicio amable ...</td>\n",
       "      <td>5</td>\n",
       "      <td>Hotel</td>\n",
       "    </tr>\n",
       "    <tr>\n",
       "      <th>9999</th>\n",
       "      <td>El hotel y sus empleados</td>\n",
       "      <td>hotel samba clase hotel mejor samba hogar ubic...</td>\n",
       "      <td>5</td>\n",
       "      <td>Hotel</td>\n",
       "    </tr>\n",
       "  </tbody>\n",
       "</table>\n",
       "<p>10000 rows × 4 columns</p>\n",
       "</div>"
      ],
      "text/plain": [
       "                                      Title  \\\n",
       "0                              Pésimo lugar   \n",
       "1                 No vayas a lugar de Eddie   \n",
       "2              Mala relación calidad-precio   \n",
       "3          Minusválido? ¡No te alojes aquí!   \n",
       "4     Es una porqueria no pierdan su tiempo   \n",
       "...                                     ...   \n",
       "9995                               Vacacion   \n",
       "9996                 Excelente y muy barato   \n",
       "9997                      Mi lugar favorito   \n",
       "9998                     Joysquad excelente   \n",
       "9999               El hotel y sus empleados   \n",
       "\n",
       "                                                Opinion  Polarity  Attraction  \n",
       "0     piensir hotel , molestar , hijo año traer infl...         1       Hotel  \n",
       "1     recientemente Eddie's Place . servicio terribl...         1  Restaurant  \n",
       "2     seguir corto simple : limpieza \\n - bad . insi...         1       Hotel  \n",
       "3     reservar hotel multipropiedad Mayan grupo deci...         1       Hotel  \n",
       "4     perder tiempo dinero , venir tener boda , comp...         1       Hotel  \n",
       "...                                                 ...       ...         ...  \n",
       "9995  excelente lugar vacacionar , servicio calidad ...         5       Hotel  \n",
       "9996  carne , tortilla recién hecho , queso fundido ...         5  Restaurant  \n",
       "9997  , seguido , comer delicioso atender maravilla ...         5  Restaurant  \n",
       "9998  Lisbhet Torre Punta excelente servicio amable ...         5       Hotel  \n",
       "9999  hotel samba clase hotel mejor samba hogar ubic...         5       Hotel  \n",
       "\n",
       "[10000 rows x 4 columns]"
      ]
     },
     "execution_count": 23,
     "metadata": {},
     "output_type": "execute_result"
    }
   ],
   "source": [
    "myTest"
   ]
  },
  {
   "cell_type": "code",
   "execution_count": 24,
   "metadata": {},
   "outputs": [
    {
     "data": {
      "text/plain": [
       "Polarity\n",
       "4    5878\n",
       "3    2121\n",
       "2     730\n",
       "5     724\n",
       "1     547\n",
       "Name: count, dtype: int64"
      ]
     },
     "execution_count": 24,
     "metadata": {},
     "output_type": "execute_result"
    }
   ],
   "source": [
    "myTest['Polarity'].value_counts()"
   ]
  },
  {
   "cell_type": "code",
   "execution_count": 25,
   "metadata": {},
   "outputs": [],
   "source": [
    "result = myTest[myTest['Opinion']==\"error\"]"
   ]
  },
  {
   "cell_type": "code",
   "execution_count": 26,
   "metadata": {},
   "outputs": [
    {
     "data": {
      "text/html": [
       "<div>\n",
       "<style scoped>\n",
       "    .dataframe tbody tr th:only-of-type {\n",
       "        vertical-align: middle;\n",
       "    }\n",
       "\n",
       "    .dataframe tbody tr th {\n",
       "        vertical-align: top;\n",
       "    }\n",
       "\n",
       "    .dataframe thead th {\n",
       "        text-align: right;\n",
       "    }\n",
       "</style>\n",
       "<table border=\"1\" class=\"dataframe\">\n",
       "  <thead>\n",
       "    <tr style=\"text-align: right;\">\n",
       "      <th></th>\n",
       "      <th>Title</th>\n",
       "      <th>Opinion</th>\n",
       "      <th>Polarity</th>\n",
       "      <th>Attraction</th>\n",
       "    </tr>\n",
       "  </thead>\n",
       "  <tbody>\n",
       "  </tbody>\n",
       "</table>\n",
       "</div>"
      ],
      "text/plain": [
       "Empty DataFrame\n",
       "Columns: [Title, Opinion, Polarity, Attraction]\n",
       "Index: []"
      ]
     },
     "execution_count": 26,
     "metadata": {},
     "output_type": "execute_result"
    }
   ],
   "source": [
    "result"
   ]
  },
  {
   "cell_type": "code",
   "execution_count": 27,
   "metadata": {},
   "outputs": [
    {
     "name": "stdout",
     "output_type": "stream",
     "text": [
      "2016-12-01 00:00:00\n",
      "2015-05-01 00:00:00\n"
     ]
    },
    {
     "name": "stderr",
     "output_type": "stream",
     "text": [
      "C:\\Users\\sergi\\AppData\\Local\\Temp\\ipykernel_21960\\745785095.py:1: SettingWithCopyWarning: \n",
      "A value is trying to be set on a copy of a slice from a DataFrame.\n",
      "Try using .loc[row_indexer,col_indexer] = value instead\n",
      "\n",
      "See the caveats in the documentation: https://pandas.pydata.org/pandas-docs/stable/user_guide/indexing.html#returning-a-view-versus-a-copy\n",
      "  myTest['Title'] = myTest['Title'].apply(tokenizar)\n"
     ]
    }
   ],
   "source": [
    "myTest['Title'] = myTest['Title'].apply(tokenizar)"
   ]
  },
  {
   "cell_type": "code",
   "execution_count": 28,
   "metadata": {},
   "outputs": [
    {
     "data": {
      "text/html": [
       "<div>\n",
       "<style scoped>\n",
       "    .dataframe tbody tr th:only-of-type {\n",
       "        vertical-align: middle;\n",
       "    }\n",
       "\n",
       "    .dataframe tbody tr th {\n",
       "        vertical-align: top;\n",
       "    }\n",
       "\n",
       "    .dataframe thead th {\n",
       "        text-align: right;\n",
       "    }\n",
       "</style>\n",
       "<table border=\"1\" class=\"dataframe\">\n",
       "  <thead>\n",
       "    <tr style=\"text-align: right;\">\n",
       "      <th></th>\n",
       "      <th>Title</th>\n",
       "      <th>Opinion</th>\n",
       "      <th>Polarity</th>\n",
       "      <th>Attraction</th>\n",
       "    </tr>\n",
       "  </thead>\n",
       "  <tbody>\n",
       "    <tr>\n",
       "      <th>0</th>\n",
       "      <td>pésimo lugar</td>\n",
       "      <td>piensir hotel , molestar , hijo año traer infl...</td>\n",
       "      <td>1</td>\n",
       "      <td>Hotel</td>\n",
       "    </tr>\n",
       "    <tr>\n",
       "      <th>1</th>\n",
       "      <td>vayas lugar Eddie</td>\n",
       "      <td>recientemente Eddie's Place . servicio terribl...</td>\n",
       "      <td>1</td>\n",
       "      <td>Restaurant</td>\n",
       "    </tr>\n",
       "    <tr>\n",
       "      <th>2</th>\n",
       "      <td>malo relación calidad-precio</td>\n",
       "      <td>seguir corto simple : limpieza \\n - bad . insi...</td>\n",
       "      <td>1</td>\n",
       "      <td>Hotel</td>\n",
       "    </tr>\n",
       "    <tr>\n",
       "      <th>3</th>\n",
       "      <td>minusválido ? ¡ alojes !</td>\n",
       "      <td>reservar hotel multipropiedad Mayan grupo deci...</td>\n",
       "      <td>1</td>\n",
       "      <td>Hotel</td>\n",
       "    </tr>\n",
       "    <tr>\n",
       "      <th>4</th>\n",
       "      <td>porquerio perder tiempo</td>\n",
       "      <td>perder tiempo dinero , venir tener boda , comp...</td>\n",
       "      <td>1</td>\n",
       "      <td>Hotel</td>\n",
       "    </tr>\n",
       "    <tr>\n",
       "      <th>...</th>\n",
       "      <td>...</td>\n",
       "      <td>...</td>\n",
       "      <td>...</td>\n",
       "      <td>...</td>\n",
       "    </tr>\n",
       "    <tr>\n",
       "      <th>9995</th>\n",
       "      <td>Vacacion</td>\n",
       "      <td>excelente lugar vacacionar , servicio calidad ...</td>\n",
       "      <td>5</td>\n",
       "      <td>Hotel</td>\n",
       "    </tr>\n",
       "    <tr>\n",
       "      <th>9996</th>\n",
       "      <td>excelente barato</td>\n",
       "      <td>carne , tortilla recién hecho , queso fundido ...</td>\n",
       "      <td>5</td>\n",
       "      <td>Restaurant</td>\n",
       "    </tr>\n",
       "    <tr>\n",
       "      <th>9997</th>\n",
       "      <td>lugar favorito</td>\n",
       "      <td>, seguido , comer delicioso atender maravilla ...</td>\n",
       "      <td>5</td>\n",
       "      <td>Restaurant</td>\n",
       "    </tr>\n",
       "    <tr>\n",
       "      <th>9998</th>\n",
       "      <td>Joysquad excelente</td>\n",
       "      <td>Lisbhet Torre Punta excelente servicio amable ...</td>\n",
       "      <td>5</td>\n",
       "      <td>Hotel</td>\n",
       "    </tr>\n",
       "    <tr>\n",
       "      <th>9999</th>\n",
       "      <td>hotel empleado</td>\n",
       "      <td>hotel samba clase hotel mejor samba hogar ubic...</td>\n",
       "      <td>5</td>\n",
       "      <td>Hotel</td>\n",
       "    </tr>\n",
       "  </tbody>\n",
       "</table>\n",
       "<p>10000 rows × 4 columns</p>\n",
       "</div>"
      ],
      "text/plain": [
       "                              Title  \\\n",
       "0                     pésimo lugar    \n",
       "1                vayas lugar Eddie    \n",
       "2     malo relación calidad-precio    \n",
       "3         minusválido ? ¡ alojes !    \n",
       "4          porquerio perder tiempo    \n",
       "...                             ...   \n",
       "9995                      Vacacion    \n",
       "9996              excelente barato    \n",
       "9997                lugar favorito    \n",
       "9998            Joysquad excelente    \n",
       "9999                hotel empleado    \n",
       "\n",
       "                                                Opinion  Polarity  Attraction  \n",
       "0     piensir hotel , molestar , hijo año traer infl...         1       Hotel  \n",
       "1     recientemente Eddie's Place . servicio terribl...         1  Restaurant  \n",
       "2     seguir corto simple : limpieza \\n - bad . insi...         1       Hotel  \n",
       "3     reservar hotel multipropiedad Mayan grupo deci...         1       Hotel  \n",
       "4     perder tiempo dinero , venir tener boda , comp...         1       Hotel  \n",
       "...                                                 ...       ...         ...  \n",
       "9995  excelente lugar vacacionar , servicio calidad ...         5       Hotel  \n",
       "9996  carne , tortilla recién hecho , queso fundido ...         5  Restaurant  \n",
       "9997  , seguido , comer delicioso atender maravilla ...         5  Restaurant  \n",
       "9998  Lisbhet Torre Punta excelente servicio amable ...         5       Hotel  \n",
       "9999  hotel samba clase hotel mejor samba hogar ubic...         5       Hotel  \n",
       "\n",
       "[10000 rows x 4 columns]"
      ]
     },
     "execution_count": 28,
     "metadata": {},
     "output_type": "execute_result"
    }
   ],
   "source": [
    "myTest"
   ]
  },
  {
   "cell_type": "markdown",
   "metadata": {},
   "source": [
    "# Splitting"
   ]
  },
  {
   "cell_type": "code",
   "execution_count": 29,
   "metadata": {},
   "outputs": [],
   "source": [
    "train, test = train_test_split(myTest, test_size=0.2)"
   ]
  },
  {
   "cell_type": "code",
   "execution_count": 30,
   "metadata": {},
   "outputs": [
    {
     "data": {
      "text/html": [
       "<div>\n",
       "<style scoped>\n",
       "    .dataframe tbody tr th:only-of-type {\n",
       "        vertical-align: middle;\n",
       "    }\n",
       "\n",
       "    .dataframe tbody tr th {\n",
       "        vertical-align: top;\n",
       "    }\n",
       "\n",
       "    .dataframe thead th {\n",
       "        text-align: right;\n",
       "    }\n",
       "</style>\n",
       "<table border=\"1\" class=\"dataframe\">\n",
       "  <thead>\n",
       "    <tr style=\"text-align: right;\">\n",
       "      <th></th>\n",
       "      <th>Title</th>\n",
       "      <th>Opinion</th>\n",
       "      <th>Polarity</th>\n",
       "      <th>Attraction</th>\n",
       "    </tr>\n",
       "  </thead>\n",
       "  <tbody>\n",
       "    <tr>\n",
       "      <th>9659</th>\n",
       "      <td>Marival distinct</td>\n",
       "      <td>agradable visita , servicio mesero servicio ge...</td>\n",
       "      <td>5</td>\n",
       "      <td>Hotel</td>\n",
       "    </tr>\n",
       "    <tr>\n",
       "      <th>3234</th>\n",
       "      <td>fan …</td>\n",
       "      <td>seguidor mercado tipo , opción artesanía dulce...</td>\n",
       "      <td>3</td>\n",
       "      <td>Attractive</td>\n",
       "    </tr>\n",
       "    <tr>\n",
       "      <th>7293</th>\n",
       "      <td>selección</td>\n",
       "      <td>menú tamaño opción buffet . Genial desayuno qu...</td>\n",
       "      <td>4</td>\n",
       "      <td>Restaurant</td>\n",
       "    </tr>\n",
       "    <tr>\n",
       "      <th>3680</th>\n",
       "      <td>Estancia 3 semana</td>\n",
       "      <td>tener problema cambiar dinero . demorar transa...</td>\n",
       "      <td>4</td>\n",
       "      <td>Hotel</td>\n",
       "    </tr>\n",
       "    <tr>\n",
       "      <th>2936</th>\n",
       "      <td>Invaluable visto</td>\n",
       "      <td>calificar mirador ciudad , lugar deber dejar v...</td>\n",
       "      <td>3</td>\n",
       "      <td>Attractive</td>\n",
       "    </tr>\n",
       "    <tr>\n",
       "      <th>...</th>\n",
       "      <td>...</td>\n",
       "      <td>...</td>\n",
       "      <td>...</td>\n",
       "      <td>...</td>\n",
       "    </tr>\n",
       "    <tr>\n",
       "      <th>5932</th>\n",
       "      <td></td>\n",
       "      <td>lugar ! serviciir rápido opción corte carne . ...</td>\n",
       "      <td>4</td>\n",
       "      <td>Restaurant</td>\n",
       "    </tr>\n",
       "    <tr>\n",
       "      <th>3403</th>\n",
       "      <td>Restaurante desayuno hielo agradable , fácil l...</td>\n",
       "      <td>encantar gofr esposa encantar huevo . , impuls...</td>\n",
       "      <td>4</td>\n",
       "      <td>Restaurant</td>\n",
       "    </tr>\n",
       "    <tr>\n",
       "      <th>5170</th>\n",
       "      <td>excelente trato personal huesped , especial ar...</td>\n",
       "      <td>playa bonito , trato personal excelente gana r...</td>\n",
       "      <td>4</td>\n",
       "      <td>Hotel</td>\n",
       "    </tr>\n",
       "    <tr>\n",
       "      <th>2033</th>\n",
       "      <td>Mala atencion</td>\n",
       "      <td>hotel habitación cómodo general limpieza . emp...</td>\n",
       "      <td>3</td>\n",
       "      <td>Hotel</td>\n",
       "    </tr>\n",
       "    <tr>\n",
       "      <th>4637</th>\n",
       "      <td>lugar encantar resort</td>\n",
       "      <td>importar alojar yo complejo 100% tiempo lugar ...</td>\n",
       "      <td>4</td>\n",
       "      <td>Hotel</td>\n",
       "    </tr>\n",
       "  </tbody>\n",
       "</table>\n",
       "<p>8000 rows × 4 columns</p>\n",
       "</div>"
      ],
      "text/plain": [
       "                                                  Title  \\\n",
       "9659                                  Marival distinct    \n",
       "3234                                             fan …    \n",
       "7293                                         selección    \n",
       "3680                                 Estancia 3 semana    \n",
       "2936                                  Invaluable visto    \n",
       "...                                                 ...   \n",
       "5932                                                      \n",
       "3403  Restaurante desayuno hielo agradable , fácil l...   \n",
       "5170  excelente trato personal huesped , especial ar...   \n",
       "2033                                     Mala atencion    \n",
       "4637                             lugar encantar resort    \n",
       "\n",
       "                                                Opinion  Polarity  Attraction  \n",
       "9659  agradable visita , servicio mesero servicio ge...         5       Hotel  \n",
       "3234  seguidor mercado tipo , opción artesanía dulce...         3  Attractive  \n",
       "7293  menú tamaño opción buffet . Genial desayuno qu...         4  Restaurant  \n",
       "3680  tener problema cambiar dinero . demorar transa...         4       Hotel  \n",
       "2936  calificar mirador ciudad , lugar deber dejar v...         3  Attractive  \n",
       "...                                                 ...       ...         ...  \n",
       "5932  lugar ! serviciir rápido opción corte carne . ...         4  Restaurant  \n",
       "3403  encantar gofr esposa encantar huevo . , impuls...         4  Restaurant  \n",
       "5170  playa bonito , trato personal excelente gana r...         4       Hotel  \n",
       "2033  hotel habitación cómodo general limpieza . emp...         3       Hotel  \n",
       "4637  importar alojar yo complejo 100% tiempo lugar ...         4       Hotel  \n",
       "\n",
       "[8000 rows x 4 columns]"
      ]
     },
     "execution_count": 30,
     "metadata": {},
     "output_type": "execute_result"
    }
   ],
   "source": [
    "train"
   ]
  },
  {
   "cell_type": "code",
   "execution_count": 31,
   "metadata": {},
   "outputs": [
    {
     "data": {
      "text/html": [
       "<div>\n",
       "<style scoped>\n",
       "    .dataframe tbody tr th:only-of-type {\n",
       "        vertical-align: middle;\n",
       "    }\n",
       "\n",
       "    .dataframe tbody tr th {\n",
       "        vertical-align: top;\n",
       "    }\n",
       "\n",
       "    .dataframe thead th {\n",
       "        text-align: right;\n",
       "    }\n",
       "</style>\n",
       "<table border=\"1\" class=\"dataframe\">\n",
       "  <thead>\n",
       "    <tr style=\"text-align: right;\">\n",
       "      <th></th>\n",
       "      <th>Title</th>\n",
       "      <th>Opinion</th>\n",
       "      <th>Polarity</th>\n",
       "      <th>Attraction</th>\n",
       "    </tr>\n",
       "  </thead>\n",
       "  <tbody>\n",
       "    <tr>\n",
       "      <th>8772</th>\n",
       "      <td>vista ciudad</td>\n",
       "      <td>mirador podrás admirar belleza ciudad Guanajua...</td>\n",
       "      <td>4</td>\n",
       "      <td>Attractive</td>\n",
       "    </tr>\n",
       "    <tr>\n",
       "      <th>2976</th>\n",
       "      <td>Artesanías</td>\n",
       "      <td>quedar , interesar artesania garnacha . atract...</td>\n",
       "      <td>3</td>\n",
       "      <td>Attractive</td>\n",
       "    </tr>\n",
       "    <tr>\n",
       "      <th>7633</th>\n",
       "      <td>- pescado italiano</td>\n",
       "      <td>tour canal buscar Gators . tener parmesana pol...</td>\n",
       "      <td>4</td>\n",
       "      <td>Restaurant</td>\n",
       "    </tr>\n",
       "    <tr>\n",
       "      <th>6925</th>\n",
       "      <td>variedad agua</td>\n",
       "      <td>pesca decidir tomar camarón azul Vallarta , op...</td>\n",
       "      <td>4</td>\n",
       "      <td>Restaurant</td>\n",
       "    </tr>\n",
       "    <tr>\n",
       "      <th>9489</th>\n",
       "      <td>comida Tino's</td>\n",
       "      <td>tiempo Tino vacación Vallarta . tener ceviche ...</td>\n",
       "      <td>5</td>\n",
       "      <td>Restaurant</td>\n",
       "    </tr>\n",
       "    <tr>\n",
       "      <th>...</th>\n",
       "      <td>...</td>\n",
       "      <td>...</td>\n",
       "      <td>...</td>\n",
       "      <td>...</td>\n",
       "    </tr>\n",
       "    <tr>\n",
       "      <th>4700</th>\n",
       "      <td>mexicano .</td>\n",
       "      <td>Grupo 10 comimos celebrar cumpleaños decepcion...</td>\n",
       "      <td>4</td>\n",
       "      <td>Restaurant</td>\n",
       "    </tr>\n",
       "    <tr>\n",
       "      <th>5259</th>\n",
       "      <td>RELAJANTE FELIZ</td>\n",
       "      <td>problema reservacion , . gente super servicial...</td>\n",
       "      <td>4</td>\n",
       "      <td>Hotel</td>\n",
       "    </tr>\n",
       "    <tr>\n",
       "      <th>3415</th>\n",
       "      <td>instalación</td>\n",
       "      <td>Gozan servicio instalación ubicado centro come...</td>\n",
       "      <td>4</td>\n",
       "      <td>Hotel</td>\n",
       "    </tr>\n",
       "    <tr>\n",
       "      <th>1531</th>\n",
       "      <td>lugar comer Mariscos</td>\n",
       "      <td>luegar agradable vista lagunita , servicio ali...</td>\n",
       "      <td>3</td>\n",
       "      <td>Restaurant</td>\n",
       "    </tr>\n",
       "    <tr>\n",
       "      <th>8357</th>\n",
       "      <td>Pípila</td>\n",
       "      <td>lugar poder admirar ciudad Guanajuato problema...</td>\n",
       "      <td>4</td>\n",
       "      <td>Attractive</td>\n",
       "    </tr>\n",
       "  </tbody>\n",
       "</table>\n",
       "<p>2000 rows × 4 columns</p>\n",
       "</div>"
      ],
      "text/plain": [
       "                      Title  \\\n",
       "8772          vista ciudad    \n",
       "2976            Artesanías    \n",
       "7633    - pescado italiano    \n",
       "6925         variedad agua    \n",
       "9489         comida Tino's    \n",
       "...                     ...   \n",
       "4700            mexicano .    \n",
       "5259       RELAJANTE FELIZ    \n",
       "3415           instalación    \n",
       "1531  lugar comer Mariscos    \n",
       "8357                Pípila    \n",
       "\n",
       "                                                Opinion  Polarity  Attraction  \n",
       "8772  mirador podrás admirar belleza ciudad Guanajua...         4  Attractive  \n",
       "2976  quedar , interesar artesania garnacha . atract...         3  Attractive  \n",
       "7633  tour canal buscar Gators . tener parmesana pol...         4  Restaurant  \n",
       "6925  pesca decidir tomar camarón azul Vallarta , op...         4  Restaurant  \n",
       "9489  tiempo Tino vacación Vallarta . tener ceviche ...         5  Restaurant  \n",
       "...                                                 ...       ...         ...  \n",
       "4700  Grupo 10 comimos celebrar cumpleaños decepcion...         4  Restaurant  \n",
       "5259  problema reservacion , . gente super servicial...         4       Hotel  \n",
       "3415  Gozan servicio instalación ubicado centro come...         4       Hotel  \n",
       "1531  luegar agradable vista lagunita , servicio ali...         3  Restaurant  \n",
       "8357  lugar poder admirar ciudad Guanajuato problema...         4  Attractive  \n",
       "\n",
       "[2000 rows x 4 columns]"
      ]
     },
     "execution_count": 31,
     "metadata": {},
     "output_type": "execute_result"
    }
   ],
   "source": [
    "test"
   ]
  },
  {
   "cell_type": "markdown",
   "metadata": {},
   "source": [
    "# Text Representations"
   ]
  },
  {
   "cell_type": "code",
   "execution_count": 32,
   "metadata": {},
   "outputs": [],
   "source": [
    "vectorizador_binario = CountVectorizer(binary=True, token_pattern= r'(?u)\\w\\w+|\\w\\w+\\n|\\.')\n",
    "vectorizador_frecuencia = CountVectorizer(token_pattern= r'(?u)\\w\\w+|\\w\\w+\\n|\\.')\n",
    "vectorizador_tfidf = TfidfVectorizer()"
   ]
  },
  {
   "cell_type": "code",
   "execution_count": 33,
   "metadata": {},
   "outputs": [],
   "source": [
    "train_vectorizado = vectorizador_tfidf.fit_transform(train['Opinion'])"
   ]
  },
  {
   "cell_type": "code",
   "execution_count": 34,
   "metadata": {},
   "outputs": [],
   "source": [
    "test_vectorizado = vectorizador_tfidf.transform(test['Opinion'])"
   ]
  },
  {
   "cell_type": "code",
   "execution_count": 35,
   "metadata": {},
   "outputs": [
    {
     "name": "stdout",
     "output_type": "stream",
     "text": [
      "['00' '000' '00am' ... 'útil' 'útlimo' 'ĺlegar']\n",
      "[[0. 0. 0. ... 0. 0. 0.]\n",
      " [0. 0. 0. ... 0. 0. 0.]\n",
      " [0. 0. 0. ... 0. 0. 0.]\n",
      " ...\n",
      " [0. 0. 0. ... 0. 0. 0.]\n",
      " [0. 0. 0. ... 0. 0. 0.]\n",
      " [0. 0. 0. ... 0. 0. 0.]]\n",
      "23209\n",
      "23209\n"
     ]
    }
   ],
   "source": [
    "print(vectorizador_tfidf.get_feature_names_out())\n",
    "print(train_vectorizado.toarray())\n",
    "print(len(train_vectorizado.toarray()[0]))\n",
    "print(len(vectorizador_tfidf.get_feature_names_out()))"
   ]
  },
  {
   "cell_type": "markdown",
   "metadata": {},
   "source": [
    "# Using Sentiment lexicons"
   ]
  },
  {
   "cell_type": "code",
   "execution_count": 36,
   "metadata": {},
   "outputs": [],
   "source": [
    "def load_sel():\n",
    "\t#~ global lexicon_sel\n",
    "\tlexicon_sel = {}\n",
    "\tinput_file = open('SEL_full.txt', 'r', encoding=\"utf-8\")\n",
    "\tfor line in input_file:\n",
    "\t\t#Las líneas del lexicon tienen el siguiente formato:\n",
    "\t\t#abundancia\t0\t0\t50\t50\t0.83\tAlegría\n",
    "\t\t\n",
    "\t\tpalabras = line.split(\"\\t\")\n",
    "\t\tpalabras[6]= re.sub('\\n', '', palabras[6])\n",
    "\t\tpair = (palabras[6], palabras[5])\n",
    "\t\tif lexicon_sel:\n",
    "\t\t\tif palabras[0] not in lexicon_sel:\n",
    "\t\t\t\tlista = [pair]\n",
    "\t\t\t\tlexicon_sel[palabras[0]] = lista\n",
    "\t\t\telse:\n",
    "\t\t\t\tlexicon_sel[palabras[0]].append (pair)\n",
    "\t\telse:\n",
    "\t\t\tlista = [pair]\n",
    "\t\t\tlexicon_sel[palabras[0]] = lista\n",
    "\tinput_file.close()\n",
    "\tdel lexicon_sel['Palabra']; #Esta llave se inserta porque es parte del encabezado del diccionario, por lo que se requiere eliminar\n",
    "\t#Estructura resultante\n",
    "\t\t#'hastiar': [('Enojo\\n', '0.629'), ('Repulsi\\xf3n\\n', '0.596')]\n",
    "\treturn lexicon_sel"
   ]
  },
  {
   "cell_type": "code",
   "execution_count": 37,
   "metadata": {},
   "outputs": [],
   "source": [
    "if (os.path.exists('lexicon_sel.pkl')):\n",
    "    lexicon_sel_file = open ('lexicon_sel.pkl','rb')\n",
    "    lexicon_sel = pickle.load(lexicon_sel_file)\n",
    "else:\n",
    "    lexicon_sel = load_sel()\n",
    "    lexicon_sel_file = open ('lexicon_sel.pkl','wb')\n",
    "    pickle.dump(lexicon_sel, lexicon_sel_file)\n",
    "    lexicon_sel_file.close()"
   ]
  },
  {
   "cell_type": "code",
   "execution_count": 38,
   "metadata": {},
   "outputs": [
    {
     "name": "stdout",
     "output_type": "stream",
     "text": [
      "[('Alegría', '0.596')]\n"
     ]
    }
   ],
   "source": [
    "print(lexicon_sel['gustar'])"
   ]
  },
  {
   "cell_type": "code",
   "execution_count": 39,
   "metadata": {},
   "outputs": [],
   "source": [
    "def getSELFeatures(cadenas, lexicon_sel):\n",
    "\t#'hastiar': [('Enojo\\n', '0.629'), ('Repulsi\\xf3n\\n', '0.596')]\n",
    "\tfeatures = []\n",
    "\tfor cadena in cadenas:\n",
    "\t\tvalor_alegria = 0.0\n",
    "\t\tvalor_enojo = 0.0\n",
    "\t\tvalor_miedo = 0.0\n",
    "\t\tvalor_repulsion = 0.0\n",
    "\t\tvalor_sorpresa = 0.0\n",
    "\t\tvalor_tristeza = 0.0\n",
    "\t\tcadena_palabras = re.split('\\s+', cadena)\n",
    "\t\tdic = {}\n",
    "\t\tfor palabra in cadena_palabras:\n",
    "\t\t\tif palabra in lexicon_sel:\n",
    "\t\t\t\tcaracteristicas = lexicon_sel[palabra]\n",
    "\t\t\t\tfor emocion, valor in caracteristicas:\n",
    "\t\t\t\t\tif emocion == 'AlegrÃ\\xada':\n",
    "\t\t\t\t\t\tvalor_alegria = valor_alegria + float(valor)\n",
    "\t\t\t\t\telif emocion == 'Tristeza':\n",
    "\t\t\t\t\t\tvalor_tristeza = valor_tristeza + float(valor)\n",
    "\t\t\t\t\telif emocion == 'Enojo':\n",
    "\t\t\t\t\t\tvalor_enojo = valor_enojo + float(valor)\n",
    "\t\t\t\t\telif emocion == 'Repulsión':\n",
    "\t\t\t\t\t\tvalor_repulsion = valor_repulsion + float(valor)\n",
    "\t\t\t\t\telif emocion == 'Miedo':\n",
    "\t\t\t\t\t\tvalor_miedo = valor_miedo + float(valor)\n",
    "\t\t\t\t\telif emocion == 'Sorpresa':\n",
    "\t\t\t\t\t\tvalor_sorpresa = valor_sorpresa + float(valor)\n",
    "\t\tdic['__txt__'] = cadena_palabras\n",
    "\t\tdic['__alegria__'] = valor_alegria\n",
    "\t\tdic['__tristeza__'] = valor_tristeza\n",
    "\t\tdic['__enojo__'] = valor_enojo\n",
    "\t\tdic['__repulsion__'] = valor_repulsion\n",
    "\t\tdic['__miedo__'] = valor_miedo\n",
    "\t\tdic['__sorpresa__'] = valor_sorpresa\n",
    "\t\t\n",
    "\t\t#Esto es para los valores acumulados del mapeo a positivo (alegría + sorpresa) y negativo (enojo + miedo + repulsión + tristeza)\n",
    "\t\tdic['acumuladopositivo'] = dic['__alegria__'] + dic['__sorpresa__']\n",
    "\t\tdic['acumuladonegative'] = dic['__enojo__'] + dic['__miedo__'] + dic['__repulsion__'] + dic['__tristeza__']\n",
    "\t\t\n",
    "\t\tfeatures.append (dic)\n",
    "\t\n",
    "\t\n",
    "\treturn features"
   ]
  },
  {
   "cell_type": "code",
   "execution_count": 40,
   "metadata": {},
   "outputs": [
    {
     "name": "stdout",
     "output_type": "stream",
     "text": [
      "TEXTO\n",
      "hipócrita arte Rivera ( ver zona seguro ) , deber reconocer obra agradir . museo interesante simple hogar Rivera . fancy . chido gustar cosa antiguo . \n",
      "POLARIDAD\n",
      "{'__txt__': ['agradable', 'visita', ',', 'servicio', 'mesero', 'servicio', 'general', 'increíble', ',', 'comida', 'buenísimo', 'Oscar', 'Carlos', 'Pineda', 'amable', 'servicio', 'valer', 'pena', 'lugar', '🤩', 'lugar', 'hermoso', 'encantar', 'valer', 'pena', 'venir', ''], '__alegria__': 0.0, '__tristeza__': 1.39, '__enojo__': 0.0, '__repulsion__': 0.0, '__miedo__': 0.66, '__sorpresa__': 0.0, 'acumuladopositivo': 0.0, 'acumuladonegative': 2.05}\n"
     ]
    }
   ],
   "source": [
    "polaridad = getSELFeatures(train['Opinion'], lexicon_sel)\n",
    "print(\"TEXTO\")\n",
    "print(train['Opinion'][7693])\n",
    "print(\"POLARIDAD\")\n",
    "print (polaridad[0])"
   ]
  },
  {
   "cell_type": "markdown",
   "metadata": {},
   "source": [
    "# Training ML models"
   ]
  },
  {
   "cell_type": "code",
   "execution_count": 41,
   "metadata": {},
   "outputs": [],
   "source": [
    "x_train = train_vectorizado\n",
    "y_train = train['Polarity']\n",
    "x_test = test_vectorizado\n",
    "y_test = test['Polarity']"
   ]
  },
  {
   "cell_type": "code",
   "execution_count": 42,
   "metadata": {},
   "outputs": [],
   "source": [
    "clf_polarity = LogisticRegression(max_iter=10000)\n",
    "clf_polarity.fit(x_train,y_train)\n",
    "y_pred = clf_polarity.predict(x_test)"
   ]
  },
  {
   "cell_type": "code",
   "execution_count": 43,
   "metadata": {},
   "outputs": [],
   "source": [
    "clf_bayes = MultinomialNB()\n",
    "clf_bayes.fit(x_train, y_train)\n",
    "y_pred = clf_bayes.predict(x_test)"
   ]
  },
  {
   "cell_type": "markdown",
   "metadata": {},
   "source": [
    "### Lematizacion, stop words. Binarizado. Logistic Regression:"
   ]
  },
  {
   "cell_type": "code",
   "execution_count": 44,
   "metadata": {},
   "outputs": [
    {
     "name": "stdout",
     "output_type": "stream",
     "text": [
      "              precision    recall  f1-score   support\n",
      "\n",
      "           1       0.00      0.00      0.00       110\n",
      "           2       0.00      0.00      0.00       136\n",
      "           3       0.00      0.00      0.00       446\n",
      "           4       0.58      1.00      0.73      1154\n",
      "           5       0.00      0.00      0.00       154\n",
      "\n",
      "    accuracy                           0.58      2000\n",
      "   macro avg       0.12      0.20      0.15      2000\n",
      "weighted avg       0.33      0.58      0.42      2000\n",
      "\n"
     ]
    },
    {
     "name": "stderr",
     "output_type": "stream",
     "text": [
      "c:\\Users\\sergi\\miniconda3\\envs\\cursoNLP\\Lib\\site-packages\\sklearn\\metrics\\_classification.py:1469: UndefinedMetricWarning: Precision and F-score are ill-defined and being set to 0.0 in labels with no predicted samples. Use `zero_division` parameter to control this behavior.\n",
      "  _warn_prf(average, modifier, msg_start, len(result))\n",
      "c:\\Users\\sergi\\miniconda3\\envs\\cursoNLP\\Lib\\site-packages\\sklearn\\metrics\\_classification.py:1469: UndefinedMetricWarning: Precision and F-score are ill-defined and being set to 0.0 in labels with no predicted samples. Use `zero_division` parameter to control this behavior.\n",
      "  _warn_prf(average, modifier, msg_start, len(result))\n",
      "c:\\Users\\sergi\\miniconda3\\envs\\cursoNLP\\Lib\\site-packages\\sklearn\\metrics\\_classification.py:1469: UndefinedMetricWarning: Precision and F-score are ill-defined and being set to 0.0 in labels with no predicted samples. Use `zero_division` parameter to control this behavior.\n",
      "  _warn_prf(average, modifier, msg_start, len(result))\n"
     ]
    }
   ],
   "source": [
    "print(classification_report(y_test,y_pred))"
   ]
  },
  {
   "cell_type": "code",
   "execution_count": null,
   "metadata": {},
   "outputs": [],
   "source": []
  },
  {
   "cell_type": "markdown",
   "metadata": {},
   "source": [
    "### Lematizacion, stop words. Frecuencia. Logistic Regression:"
   ]
  },
  {
   "cell_type": "code",
   "execution_count": 45,
   "metadata": {},
   "outputs": [
    {
     "name": "stdout",
     "output_type": "stream",
     "text": [
      "              precision    recall  f1-score   support\n",
      "\n",
      "           1       0.00      0.00      0.00       110\n",
      "           2       0.00      0.00      0.00       136\n",
      "           3       0.00      0.00      0.00       446\n",
      "           4       0.58      1.00      0.73      1154\n",
      "           5       0.00      0.00      0.00       154\n",
      "\n",
      "    accuracy                           0.58      2000\n",
      "   macro avg       0.12      0.20      0.15      2000\n",
      "weighted avg       0.33      0.58      0.42      2000\n",
      "\n"
     ]
    },
    {
     "name": "stderr",
     "output_type": "stream",
     "text": [
      "c:\\Users\\sergi\\miniconda3\\envs\\cursoNLP\\Lib\\site-packages\\sklearn\\metrics\\_classification.py:1469: UndefinedMetricWarning: Precision and F-score are ill-defined and being set to 0.0 in labels with no predicted samples. Use `zero_division` parameter to control this behavior.\n",
      "  _warn_prf(average, modifier, msg_start, len(result))\n",
      "c:\\Users\\sergi\\miniconda3\\envs\\cursoNLP\\Lib\\site-packages\\sklearn\\metrics\\_classification.py:1469: UndefinedMetricWarning: Precision and F-score are ill-defined and being set to 0.0 in labels with no predicted samples. Use `zero_division` parameter to control this behavior.\n",
      "  _warn_prf(average, modifier, msg_start, len(result))\n",
      "c:\\Users\\sergi\\miniconda3\\envs\\cursoNLP\\Lib\\site-packages\\sklearn\\metrics\\_classification.py:1469: UndefinedMetricWarning: Precision and F-score are ill-defined and being set to 0.0 in labels with no predicted samples. Use `zero_division` parameter to control this behavior.\n",
      "  _warn_prf(average, modifier, msg_start, len(result))\n"
     ]
    }
   ],
   "source": [
    "print(classification_report(y_test,y_pred))"
   ]
  },
  {
   "cell_type": "markdown",
   "metadata": {},
   "source": [
    "### Lematizacion, stop words. Tf-idf. Logistic Regression:"
   ]
  },
  {
   "cell_type": "code",
   "execution_count": 46,
   "metadata": {},
   "outputs": [
    {
     "name": "stdout",
     "output_type": "stream",
     "text": [
      "              precision    recall  f1-score   support\n",
      "\n",
      "           1       0.00      0.00      0.00       110\n",
      "           2       0.00      0.00      0.00       136\n",
      "           3       0.00      0.00      0.00       446\n",
      "           4       0.58      1.00      0.73      1154\n",
      "           5       0.00      0.00      0.00       154\n",
      "\n",
      "    accuracy                           0.58      2000\n",
      "   macro avg       0.12      0.20      0.15      2000\n",
      "weighted avg       0.33      0.58      0.42      2000\n",
      "\n"
     ]
    },
    {
     "name": "stderr",
     "output_type": "stream",
     "text": [
      "c:\\Users\\sergi\\miniconda3\\envs\\cursoNLP\\Lib\\site-packages\\sklearn\\metrics\\_classification.py:1469: UndefinedMetricWarning: Precision and F-score are ill-defined and being set to 0.0 in labels with no predicted samples. Use `zero_division` parameter to control this behavior.\n",
      "  _warn_prf(average, modifier, msg_start, len(result))\n",
      "c:\\Users\\sergi\\miniconda3\\envs\\cursoNLP\\Lib\\site-packages\\sklearn\\metrics\\_classification.py:1469: UndefinedMetricWarning: Precision and F-score are ill-defined and being set to 0.0 in labels with no predicted samples. Use `zero_division` parameter to control this behavior.\n",
      "  _warn_prf(average, modifier, msg_start, len(result))\n",
      "c:\\Users\\sergi\\miniconda3\\envs\\cursoNLP\\Lib\\site-packages\\sklearn\\metrics\\_classification.py:1469: UndefinedMetricWarning: Precision and F-score are ill-defined and being set to 0.0 in labels with no predicted samples. Use `zero_division` parameter to control this behavior.\n",
      "  _warn_prf(average, modifier, msg_start, len(result))\n"
     ]
    }
   ],
   "source": [
    "print(classification_report(y_test,y_pred))"
   ]
  },
  {
   "cell_type": "markdown",
   "metadata": {},
   "source": [
    "### Lematizacion, stop words. Tf-idf. Multinomial Naive Bayes"
   ]
  },
  {
   "cell_type": "code",
   "execution_count": 47,
   "metadata": {},
   "outputs": [
    {
     "name": "stdout",
     "output_type": "stream",
     "text": [
      "              precision    recall  f1-score   support\n",
      "\n",
      "           1       0.00      0.00      0.00       110\n",
      "           2       0.00      0.00      0.00       136\n",
      "           3       0.00      0.00      0.00       446\n",
      "           4       0.58      1.00      0.73      1154\n",
      "           5       0.00      0.00      0.00       154\n",
      "\n",
      "    accuracy                           0.58      2000\n",
      "   macro avg       0.12      0.20      0.15      2000\n",
      "weighted avg       0.33      0.58      0.42      2000\n",
      "\n"
     ]
    },
    {
     "name": "stderr",
     "output_type": "stream",
     "text": [
      "c:\\Users\\sergi\\miniconda3\\envs\\cursoNLP\\Lib\\site-packages\\sklearn\\metrics\\_classification.py:1469: UndefinedMetricWarning: Precision and F-score are ill-defined and being set to 0.0 in labels with no predicted samples. Use `zero_division` parameter to control this behavior.\n",
      "  _warn_prf(average, modifier, msg_start, len(result))\n",
      "c:\\Users\\sergi\\miniconda3\\envs\\cursoNLP\\Lib\\site-packages\\sklearn\\metrics\\_classification.py:1469: UndefinedMetricWarning: Precision and F-score are ill-defined and being set to 0.0 in labels with no predicted samples. Use `zero_division` parameter to control this behavior.\n",
      "  _warn_prf(average, modifier, msg_start, len(result))\n",
      "c:\\Users\\sergi\\miniconda3\\envs\\cursoNLP\\Lib\\site-packages\\sklearn\\metrics\\_classification.py:1469: UndefinedMetricWarning: Precision and F-score are ill-defined and being set to 0.0 in labels with no predicted samples. Use `zero_division` parameter to control this behavior.\n",
      "  _warn_prf(average, modifier, msg_start, len(result))\n"
     ]
    }
   ],
   "source": [
    "print(classification_report(y_test, y_pred))"
   ]
  }
 ],
 "metadata": {
  "kernelspec": {
   "display_name": "Python 3 (ipykernel)",
   "language": "python",
   "name": "python3"
  },
  "language_info": {
   "codemirror_mode": {
    "name": "ipython",
    "version": 3
   },
   "file_extension": ".py",
   "mimetype": "text/x-python",
   "name": "python",
   "nbconvert_exporter": "python",
   "pygments_lexer": "ipython3",
   "version": "3.11.5"
  }
 },
 "nbformat": 4,
 "nbformat_minor": 5
}
