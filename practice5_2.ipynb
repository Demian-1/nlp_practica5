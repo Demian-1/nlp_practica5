{
 "cells": [
  {
   "cell_type": "code",
   "execution_count": 53,
   "id": "f27a1ea6-4cc1-4f5f-8d4c-0517ef83f9a8",
   "metadata": {},
   "outputs": [],
   "source": [
    "import csv\n",
    "import pandas as pd\n",
    "import pickle\n",
    "import re\n",
    "from sklearn.model_selection import train_test_split\n",
    "import spacy\n",
    "from sklearn.feature_extraction.text import TfidfVectorizer\n",
    "from sklearn.feature_extraction.text import CountVectorizer\n",
    "from sklearn.linear_model import LogisticRegression\n",
    "from sklearn.naive_bayes import MultinomialNB\n",
    "from sklearn.metrics import classification_report\n",
    "import numpy as np\n",
    "import os.path\n",
    "import nltk\n",
    "from nltk.corpus import stopwords\n",
    "from nltk.tokenize import word_tokenize\n",
    "from nltk.stem import WordNetLemmatizer\n",
    "from sklearn.model_selection import cross_validate\n",
    "from scipy.sparse import hstack"
   ]
  },
  {
   "cell_type": "code",
   "execution_count": 2,
   "id": "9e41db94-749d-4516-bb5b-1d69c8cd354d",
   "metadata": {},
   "outputs": [
    {
     "data": {
      "text/html": [
       "<div>\n",
       "<style scoped>\n",
       "    .dataframe tbody tr th:only-of-type {\n",
       "        vertical-align: middle;\n",
       "    }\n",
       "\n",
       "    .dataframe tbody tr th {\n",
       "        vertical-align: top;\n",
       "    }\n",
       "\n",
       "    .dataframe thead th {\n",
       "        text-align: right;\n",
       "    }\n",
       "</style>\n",
       "<table border=\"1\" class=\"dataframe\">\n",
       "  <thead>\n",
       "    <tr style=\"text-align: right;\">\n",
       "      <th></th>\n",
       "      <th>Title</th>\n",
       "      <th>Opinion</th>\n",
       "      <th>Polarity</th>\n",
       "      <th>Attraction</th>\n",
       "    </tr>\n",
       "  </thead>\n",
       "  <tbody>\n",
       "    <tr>\n",
       "      <th>0</th>\n",
       "      <td>Pésimo lugar</td>\n",
       "      <td>Piensen dos veces antes de ir a este hotel, te...</td>\n",
       "      <td>1</td>\n",
       "      <td>Hotel</td>\n",
       "    </tr>\n",
       "    <tr>\n",
       "      <th>1</th>\n",
       "      <td>No vayas a lugar de Eddie</td>\n",
       "      <td>Cuatro de nosotros fuimos recientemente a Eddi...</td>\n",
       "      <td>1</td>\n",
       "      <td>Restaurant</td>\n",
       "    </tr>\n",
       "    <tr>\n",
       "      <th>2</th>\n",
       "      <td>Mala relación calidad-precio</td>\n",
       "      <td>seguiré corta y simple: limpieza\\n- bad. Tengo...</td>\n",
       "      <td>1</td>\n",
       "      <td>Hotel</td>\n",
       "    </tr>\n",
       "    <tr>\n",
       "      <th>3</th>\n",
       "      <td>Minusválido? ¡No te alojes aquí!</td>\n",
       "      <td>Al reservar un hotel con multipropiedad Mayan ...</td>\n",
       "      <td>1</td>\n",
       "      <td>Hotel</td>\n",
       "    </tr>\n",
       "    <tr>\n",
       "      <th>4</th>\n",
       "      <td>Es una porqueria no pierdan su tiempo</td>\n",
       "      <td>No pierdan su tiempo ni dinero, venimos porque...</td>\n",
       "      <td>1</td>\n",
       "      <td>Hotel</td>\n",
       "    </tr>\n",
       "    <tr>\n",
       "      <th>5</th>\n",
       "      <td>El peor huevos Benedict jamás</td>\n",
       "      <td>Hoy teníamos el desayuno por segunda vez en po...</td>\n",
       "      <td>1</td>\n",
       "      <td>Restaurant</td>\n",
       "    </tr>\n",
       "    <tr>\n",
       "      <th>6</th>\n",
       "      <td>Definitivamente no volvería a hospedarme en Sa...</td>\n",
       "      <td>El hotel en si no es malo, pero mi experiencia...</td>\n",
       "      <td>1</td>\n",
       "      <td>Hotel</td>\n",
       "    </tr>\n",
       "    <tr>\n",
       "      <th>7</th>\n",
       "      <td>Terrible</td>\n",
       "      <td>No estoy seguro de por qué este restaurante ti...</td>\n",
       "      <td>1</td>\n",
       "      <td>Restaurant</td>\n",
       "    </tr>\n",
       "    <tr>\n",
       "      <th>8</th>\n",
       "      <td>Bebidas ADULTERADAS, FATAL mi experiencia!!!</td>\n",
       "      <td>Llegué a este hotel “por desgracia” mi reserva...</td>\n",
       "      <td>1</td>\n",
       "      <td>Hotel</td>\n",
       "    </tr>\n",
       "    <tr>\n",
       "      <th>9</th>\n",
       "      <td>Hotel ha ido cuesta abajo</td>\n",
       "      <td>Hemos estado viniendo a Villa la Estancia dura...</td>\n",
       "      <td>1</td>\n",
       "      <td>Hotel</td>\n",
       "    </tr>\n",
       "  </tbody>\n",
       "</table>\n",
       "</div>"
      ],
      "text/plain": [
       "                                               Title  \\\n",
       "0                                       Pésimo lugar   \n",
       "1                          No vayas a lugar de Eddie   \n",
       "2                       Mala relación calidad-precio   \n",
       "3                   Minusválido? ¡No te alojes aquí!   \n",
       "4              Es una porqueria no pierdan su tiempo   \n",
       "5                      El peor huevos Benedict jamás   \n",
       "6  Definitivamente no volvería a hospedarme en Sa...   \n",
       "7                                           Terrible   \n",
       "8       Bebidas ADULTERADAS, FATAL mi experiencia!!!   \n",
       "9                          Hotel ha ido cuesta abajo   \n",
       "\n",
       "                                             Opinion  Polarity  Attraction  \n",
       "0  Piensen dos veces antes de ir a este hotel, te...         1       Hotel  \n",
       "1  Cuatro de nosotros fuimos recientemente a Eddi...         1  Restaurant  \n",
       "2  seguiré corta y simple: limpieza\\n- bad. Tengo...         1       Hotel  \n",
       "3  Al reservar un hotel con multipropiedad Mayan ...         1       Hotel  \n",
       "4  No pierdan su tiempo ni dinero, venimos porque...         1       Hotel  \n",
       "5  Hoy teníamos el desayuno por segunda vez en po...         1  Restaurant  \n",
       "6  El hotel en si no es malo, pero mi experiencia...         1       Hotel  \n",
       "7  No estoy seguro de por qué este restaurante ti...         1  Restaurant  \n",
       "8  Llegué a este hotel “por desgracia” mi reserva...         1       Hotel  \n",
       "9  Hemos estado viniendo a Villa la Estancia dura...         1       Hotel  "
      ]
     },
     "execution_count": 2,
     "metadata": {},
     "output_type": "execute_result"
    }
   ],
   "source": [
    "data = pd.read_excel(\"Rest_Mex_2022.xlsx\")\n",
    "data.head(10)"
   ]
  },
  {
   "cell_type": "code",
   "execution_count": 3,
   "metadata": {},
   "outputs": [
    {
     "data": {
      "text/plain": [
       "'Aunque me parece algo hipócrita el arte de Rivera (todo lo ve desde fuera desde una zona segura), debo reconocer que tiene algunas obras que me agradan. Este museo es interesante por el simple hecho de conocer el primer hogar que fuera de Rivera. Bastante fancy. Está chido si te gusta ver cosas antiguas.'"
      ]
     },
     "execution_count": 3,
     "metadata": {},
     "output_type": "execute_result"
    }
   ],
   "source": [
    "data['Opinion'][7693]"
   ]
  },
  {
   "cell_type": "code",
   "execution_count": 62,
   "id": "454c3bb9-6cee-406c-93ad-d5bbf44016ee",
   "metadata": {},
   "outputs": [
    {
     "name": "stdout",
     "output_type": "stream",
     "text": [
      "                                      Title  \\\n",
      "0                              Pésimo lugar   \n",
      "1                 No vayas a lugar de Eddie   \n",
      "2              Mala relación calidad-precio   \n",
      "3          Minusválido? ¡No te alojes aquí!   \n",
      "4     Es una porqueria no pierdan su tiempo   \n",
      "...                                     ...   \n",
      "9995                               Vacacion   \n",
      "9996                 Excelente y muy barato   \n",
      "9997                      Mi lugar favorito   \n",
      "9998                     Joysquad excelente   \n",
      "9999               El hotel y sus empleados   \n",
      "\n",
      "                                                Opinion  Polarity  Attraction  \n",
      "0     Piensen dos veces antes de ir a este hotel, te...         1       Hotel  \n",
      "1     Cuatro de nosotros fuimos recientemente a Eddi...         1  Restaurant  \n",
      "2     seguiré corta y simple: limpieza\\n- bad. Tengo...         1       Hotel  \n",
      "3     Al reservar un hotel con multipropiedad Mayan ...         1       Hotel  \n",
      "4     No pierdan su tiempo ni dinero, venimos porque...         1       Hotel  \n",
      "...                                                 ...       ...         ...  \n",
      "9995  Un excelente lugar para vacacionar, servicio d...         5       Hotel  \n",
      "9996  Buena carne, tortillas recién hechas, queso fu...         5  Restaurant  \n",
      "9997  Siempre que vamos, y vamos muy seguido, comemo...         5  Restaurant  \n",
      "9998  Lisbhet de Torre Punta excelente servicio muy ...         5       Hotel  \n",
      "9999  El hotel samba es el mejor en su clase podrá v...         5       Hotel  \n",
      "\n",
      "[10000 rows x 4 columns]\n"
     ]
    }
   ],
   "source": [
    "myTest = data.head(10000)\n",
    "print(myTest)"
   ]
  },
  {
   "cell_type": "markdown",
   "metadata": {},
   "source": [
    "# Using Sentiment lexicons"
   ]
  },
  {
   "cell_type": "code",
   "execution_count": 46,
   "metadata": {},
   "outputs": [],
   "source": [
    "def load_sel():\n",
    "\t#~ global lexicon_sel\n",
    "\tlexicon_sel = {}\n",
    "\tinput_file = open('SEL_full.txt', 'r', encoding=\"utf-8\")\n",
    "\tfor line in input_file:\n",
    "\t\t#Las líneas del lexicon tienen el siguiente formato:\n",
    "\t\t#abundancia\t0\t0\t50\t50\t0.83\tAlegría\n",
    "\t\t\n",
    "\t\tpalabras = line.split(\"\\t\")\n",
    "\t\tpalabras[6]= re.sub('\\n', '', palabras[6])\n",
    "\t\tpair = (palabras[6], palabras[5])\n",
    "\t\tif lexicon_sel:\n",
    "\t\t\tif palabras[0] not in lexicon_sel:\n",
    "\t\t\t\tlista = [pair]\n",
    "\t\t\t\tlexicon_sel[palabras[0]] = lista\n",
    "\t\t\telse:\n",
    "\t\t\t\tlexicon_sel[palabras[0]].append (pair)\n",
    "\t\telse:\n",
    "\t\t\tlista = [pair]\n",
    "\t\t\tlexicon_sel[palabras[0]] = lista\n",
    "\tinput_file.close()\n",
    "\tdel lexicon_sel['Palabra']; #Esta llave se inserta porque es parte del encabezado del diccionario, por lo que se requiere eliminar\n",
    "\t#Estructura resultante\n",
    "\t\t#'hastiar': [('Enojo\\n', '0.629'), ('Repulsi\\xf3n\\n', '0.596')]\n",
    "\treturn lexicon_sel"
   ]
  },
  {
   "cell_type": "code",
   "execution_count": 47,
   "metadata": {},
   "outputs": [],
   "source": [
    "if (os.path.exists('lexicon_sel.pkl')):\n",
    "    lexicon_sel_file = open ('lexicon_sel.pkl','rb')\n",
    "    lexicon_sel = pickle.load(lexicon_sel_file)\n",
    "else:\n",
    "    lexicon_sel = load_sel()\n",
    "    lexicon_sel_file = open ('lexicon_sel.pkl','wb')\n",
    "    pickle.dump(lexicon_sel, lexicon_sel_file)\n",
    "    lexicon_sel_file.close()"
   ]
  },
  {
   "cell_type": "code",
   "execution_count": 48,
   "metadata": {},
   "outputs": [
    {
     "name": "stdout",
     "output_type": "stream",
     "text": [
      "[('Alegría', '0.596')]\n"
     ]
    }
   ],
   "source": [
    "print(lexicon_sel['gustar'])"
   ]
  },
  {
   "cell_type": "code",
   "execution_count": 73,
   "metadata": {},
   "outputs": [],
   "source": [
    "def getSELFeatures(cadenas, lexicon_sel):\n",
    "\t#'hastiar': [('Enojo\\n', '0.629'), ('Repulsi\\xf3n\\n', '0.596')]\n",
    "\tfeatures = []\n",
    "\tfor cadena in cadenas:\n",
    "\t\tvalor_alegria = 0.0\n",
    "\t\tvalor_enojo = 0.0\n",
    "\t\tvalor_miedo = 0.0\n",
    "\t\tvalor_repulsion = 0.0\n",
    "\t\tvalor_sorpresa = 0.0\n",
    "\t\tvalor_tristeza = 0.0\n",
    "\t\tif(type(cadena)!=type(\"h\")):\n",
    "\t\t\tcadena = \"\"\n",
    "\t\tcadena_palabras = re.split('\\s+', cadena)\n",
    "\t\tdic = {}\n",
    "\t\tfor palabra in cadena_palabras:\n",
    "\t\t\tif palabra in lexicon_sel:\n",
    "\t\t\t\tprint(\"p: \"+palabra)\n",
    "\n",
    "\t\t\t\tcaracteristicas = lexicon_sel[palabra]\n",
    "\t\t\t\tfor emocion, valor in caracteristicas:\n",
    "\t\t\t\t\tif emocion == 'Alegría':\n",
    "\t\t\t\t\t\tvalor_alegria = valor_alegria + float(valor)\n",
    "\t\t\t\t\telif emocion == 'Tristeza':\n",
    "\t\t\t\t\t\tvalor_tristeza = valor_tristeza + float(valor)\n",
    "\t\t\t\t\telif emocion == 'Enojo':\n",
    "\t\t\t\t\t\tvalor_enojo = valor_enojo + float(valor)\n",
    "\t\t\t\t\telif emocion == 'Repulsión':\n",
    "\t\t\t\t\t\tvalor_repulsion = valor_repulsion + float(valor)\n",
    "\t\t\t\t\telif emocion == 'Miedo':\n",
    "\t\t\t\t\t\tvalor_miedo = valor_miedo + float(valor)\n",
    "\t\t\t\t\telif emocion == 'Sorpresa':\n",
    "\t\t\t\t\t\tvalor_sorpresa = valor_sorpresa + float(valor)\n",
    "\t\tdic['__txt__'] = cadena_palabras\n",
    "\t\tdic['__alegria__'] = valor_alegria\n",
    "\t\tdic['__tristeza__'] = valor_tristeza\n",
    "\t\tdic['__enojo__'] = valor_enojo\n",
    "\t\tdic['__repulsion__'] = valor_repulsion\n",
    "\t\tdic['__miedo__'] = valor_miedo\n",
    "\t\tdic['__sorpresa__'] = valor_sorpresa\n",
    "\t\t\n",
    "\t\t#Esto es para los valores acumulados del mapeo a positivo (alegría + sorpresa) y negativo (enojo + miedo + repulsión + tristeza)\n",
    "\t\tdic['acumuladopositivo'] = dic['__alegria__'] + dic['__sorpresa__']\n",
    "\t\tdic['acumuladonegative'] = dic['__enojo__'] + dic['__miedo__'] + dic['__repulsion__'] + dic['__tristeza__']\n",
    "\t\t\n",
    "\t\tfeatures.append (dic)\n",
    "\t\n",
    "\t\n",
    "\treturn features"
   ]
  },
  {
   "cell_type": "code",
   "execution_count": 70,
   "metadata": {},
   "outputs": [
    {
     "data": {
      "text/html": [
       "<div>\n",
       "<style scoped>\n",
       "    .dataframe tbody tr th:only-of-type {\n",
       "        vertical-align: middle;\n",
       "    }\n",
       "\n",
       "    .dataframe tbody tr th {\n",
       "        vertical-align: top;\n",
       "    }\n",
       "\n",
       "    .dataframe thead th {\n",
       "        text-align: right;\n",
       "    }\n",
       "</style>\n",
       "<table border=\"1\" class=\"dataframe\">\n",
       "  <thead>\n",
       "    <tr style=\"text-align: right;\">\n",
       "      <th></th>\n",
       "      <th>Title</th>\n",
       "      <th>Opinion</th>\n",
       "      <th>Polarity</th>\n",
       "      <th>Attraction</th>\n",
       "    </tr>\n",
       "  </thead>\n",
       "  <tbody>\n",
       "    <tr>\n",
       "      <th>0</th>\n",
       "      <td>Pésimo lugar</td>\n",
       "      <td>piensir hotel , molestar , hijo año traer infl...</td>\n",
       "      <td>1</td>\n",
       "      <td>Hotel</td>\n",
       "    </tr>\n",
       "    <tr>\n",
       "      <th>1</th>\n",
       "      <td>No vayas a lugar de Eddie</td>\n",
       "      <td>recientemente Eddie's Place . servicio terribl...</td>\n",
       "      <td>1</td>\n",
       "      <td>Restaurant</td>\n",
       "    </tr>\n",
       "    <tr>\n",
       "      <th>2</th>\n",
       "      <td>Mala relación calidad-precio</td>\n",
       "      <td>seguir corto simple : limpieza \\n - bad . insi...</td>\n",
       "      <td>1</td>\n",
       "      <td>Hotel</td>\n",
       "    </tr>\n",
       "    <tr>\n",
       "      <th>3</th>\n",
       "      <td>Minusválido? ¡No te alojes aquí!</td>\n",
       "      <td>reservar hotel multipropiedad Mayan grupo deci...</td>\n",
       "      <td>1</td>\n",
       "      <td>Hotel</td>\n",
       "    </tr>\n",
       "    <tr>\n",
       "      <th>4</th>\n",
       "      <td>Es una porqueria no pierdan su tiempo</td>\n",
       "      <td>perder tiempo dinero , venir tener boda , comp...</td>\n",
       "      <td>1</td>\n",
       "      <td>Hotel</td>\n",
       "    </tr>\n",
       "    <tr>\n",
       "      <th>...</th>\n",
       "      <td>...</td>\n",
       "      <td>...</td>\n",
       "      <td>...</td>\n",
       "      <td>...</td>\n",
       "    </tr>\n",
       "    <tr>\n",
       "      <th>9995</th>\n",
       "      <td>Vacacion</td>\n",
       "      <td>excelente lugar vacacionar , servicio calidad ...</td>\n",
       "      <td>5</td>\n",
       "      <td>Hotel</td>\n",
       "    </tr>\n",
       "    <tr>\n",
       "      <th>9996</th>\n",
       "      <td>Excelente y muy barato</td>\n",
       "      <td>carne , tortilla recién hecho , queso fundido ...</td>\n",
       "      <td>5</td>\n",
       "      <td>Restaurant</td>\n",
       "    </tr>\n",
       "    <tr>\n",
       "      <th>9997</th>\n",
       "      <td>Mi lugar favorito</td>\n",
       "      <td>, seguido , comer delicioso atender maravilla ...</td>\n",
       "      <td>5</td>\n",
       "      <td>Restaurant</td>\n",
       "    </tr>\n",
       "    <tr>\n",
       "      <th>9998</th>\n",
       "      <td>Joysquad excelente</td>\n",
       "      <td>Lisbhet Torre Punta excelente servicio amable ...</td>\n",
       "      <td>5</td>\n",
       "      <td>Hotel</td>\n",
       "    </tr>\n",
       "    <tr>\n",
       "      <th>9999</th>\n",
       "      <td>El hotel y sus empleados</td>\n",
       "      <td>hotel samba clase hotel mejor samba hogar ubic...</td>\n",
       "      <td>5</td>\n",
       "      <td>Hotel</td>\n",
       "    </tr>\n",
       "  </tbody>\n",
       "</table>\n",
       "<p>10000 rows × 4 columns</p>\n",
       "</div>"
      ],
      "text/plain": [
       "                                      Title  \\\n",
       "0                              Pésimo lugar   \n",
       "1                 No vayas a lugar de Eddie   \n",
       "2              Mala relación calidad-precio   \n",
       "3          Minusválido? ¡No te alojes aquí!   \n",
       "4     Es una porqueria no pierdan su tiempo   \n",
       "...                                     ...   \n",
       "9995                               Vacacion   \n",
       "9996                 Excelente y muy barato   \n",
       "9997                      Mi lugar favorito   \n",
       "9998                     Joysquad excelente   \n",
       "9999               El hotel y sus empleados   \n",
       "\n",
       "                                                Opinion  Polarity  Attraction  \n",
       "0     piensir hotel , molestar , hijo año traer infl...         1       Hotel  \n",
       "1     recientemente Eddie's Place . servicio terribl...         1  Restaurant  \n",
       "2     seguir corto simple : limpieza \\n - bad . insi...         1       Hotel  \n",
       "3     reservar hotel multipropiedad Mayan grupo deci...         1       Hotel  \n",
       "4     perder tiempo dinero , venir tener boda , comp...         1       Hotel  \n",
       "...                                                 ...       ...         ...  \n",
       "9995  excelente lugar vacacionar , servicio calidad ...         5       Hotel  \n",
       "9996  carne , tortilla recién hecho , queso fundido ...         5  Restaurant  \n",
       "9997  , seguido , comer delicioso atender maravilla ...         5  Restaurant  \n",
       "9998  Lisbhet Torre Punta excelente servicio amable ...         5       Hotel  \n",
       "9999  hotel samba clase hotel mejor samba hogar ubic...         5       Hotel  \n",
       "\n",
       "[10000 rows x 4 columns]"
      ]
     },
     "execution_count": 70,
     "metadata": {},
     "output_type": "execute_result"
    }
   ],
   "source": [
    "myTest"
   ]
  },
  {
   "cell_type": "code",
   "execution_count": 71,
   "metadata": {},
   "outputs": [
    {
     "name": "stdout",
     "output_type": "stream",
     "text": [
      "Polaridades:\n",
      "POLARIDADES CADENAS:\n",
      "[[0.    2.521]\n",
      " [0.    2.02 ]\n",
      " [0.    0.   ]\n",
      " ...\n",
      " [1.528 0.   ]\n",
      " [2.986 0.   ]\n",
      " [3.49  0.099]]\n",
      " len: \n",
      "10000\n",
      "Vectorizado + polaridad:\n"
     ]
    }
   ],
   "source": [
    "polaridades = getSELFeatures(myTest['Opinion'], lexicon_sel)\n",
    "\n",
    "polaridades_cadenas = []\n",
    "\n",
    "# Bucle para procesar cada cadena\n",
    "for i in range(len(polaridades)):\n",
    "    polaridad_pos = np.array([polaridades[i]['acumuladopositivo']])\n",
    "    polaridad_neg = np.array([polaridades[i]['acumuladonegative']])\n",
    "    polaridad_cadena = np.concatenate((polaridad_pos, polaridad_neg), axis=0)\n",
    "    polaridades_cadenas.append(polaridad_cadena)\n",
    "    \n",
    "    # print(f\"POLARIDAD CADENA {i + 1}:\")\n",
    "    # print(polaridad_cadena)\n",
    "\n",
    "# Convertir la lista de polaridades de cadenas a un array\n",
    "polaridades_cadenas = np.stack(polaridades_cadenas)\n",
    "\n",
    "print('Polaridades:')\n",
    "print(\"POLARIDADES CADENAS:\")\n",
    "print(polaridades_cadenas)\n",
    "print(\" len: \")\n",
    "print(len(polaridades_cadenas))\n",
    "# Concatenar las polaridades con el array X\n",
    "# test_con_lexicon = hstack([myTest, polaridades_cadenas]).toarray()\n",
    "polaridades_df = pd.DataFrame(polaridades_cadenas, columns=['polaridad_positiva', 'polaridad_negativa'])\n",
    "test_con_lexicon = pd.concat([myTest, polaridades_df],axis=1)\n",
    "\n",
    "print('Vectorizado + polaridad:')\n"
   ]
  },
  {
   "cell_type": "code",
   "execution_count": 72,
   "metadata": {},
   "outputs": [
    {
     "data": {
      "text/html": [
       "<div>\n",
       "<style scoped>\n",
       "    .dataframe tbody tr th:only-of-type {\n",
       "        vertical-align: middle;\n",
       "    }\n",
       "\n",
       "    .dataframe tbody tr th {\n",
       "        vertical-align: top;\n",
       "    }\n",
       "\n",
       "    .dataframe thead th {\n",
       "        text-align: right;\n",
       "    }\n",
       "</style>\n",
       "<table border=\"1\" class=\"dataframe\">\n",
       "  <thead>\n",
       "    <tr style=\"text-align: right;\">\n",
       "      <th></th>\n",
       "      <th>Title</th>\n",
       "      <th>Opinion</th>\n",
       "      <th>Polarity</th>\n",
       "      <th>Attraction</th>\n",
       "      <th>polaridad_positiva</th>\n",
       "      <th>polaridad_negativa</th>\n",
       "    </tr>\n",
       "  </thead>\n",
       "  <tbody>\n",
       "    <tr>\n",
       "      <th>0</th>\n",
       "      <td>Pésimo lugar</td>\n",
       "      <td>piensir hotel , molestar , hijo año traer infl...</td>\n",
       "      <td>1</td>\n",
       "      <td>Hotel</td>\n",
       "      <td>0.000</td>\n",
       "      <td>2.521</td>\n",
       "    </tr>\n",
       "    <tr>\n",
       "      <th>1</th>\n",
       "      <td>No vayas a lugar de Eddie</td>\n",
       "      <td>recientemente Eddie's Place . servicio terribl...</td>\n",
       "      <td>1</td>\n",
       "      <td>Restaurant</td>\n",
       "      <td>0.000</td>\n",
       "      <td>2.020</td>\n",
       "    </tr>\n",
       "    <tr>\n",
       "      <th>2</th>\n",
       "      <td>Mala relación calidad-precio</td>\n",
       "      <td>seguir corto simple : limpieza \\n - bad . insi...</td>\n",
       "      <td>1</td>\n",
       "      <td>Hotel</td>\n",
       "      <td>0.000</td>\n",
       "      <td>0.000</td>\n",
       "    </tr>\n",
       "    <tr>\n",
       "      <th>3</th>\n",
       "      <td>Minusválido? ¡No te alojes aquí!</td>\n",
       "      <td>reservar hotel multipropiedad Mayan grupo deci...</td>\n",
       "      <td>1</td>\n",
       "      <td>Hotel</td>\n",
       "      <td>2.354</td>\n",
       "      <td>0.561</td>\n",
       "    </tr>\n",
       "    <tr>\n",
       "      <th>4</th>\n",
       "      <td>Es una porqueria no pierdan su tiempo</td>\n",
       "      <td>perder tiempo dinero , venir tener boda , comp...</td>\n",
       "      <td>1</td>\n",
       "      <td>Hotel</td>\n",
       "      <td>0.795</td>\n",
       "      <td>2.751</td>\n",
       "    </tr>\n",
       "    <tr>\n",
       "      <th>...</th>\n",
       "      <td>...</td>\n",
       "      <td>...</td>\n",
       "      <td>...</td>\n",
       "      <td>...</td>\n",
       "      <td>...</td>\n",
       "      <td>...</td>\n",
       "    </tr>\n",
       "    <tr>\n",
       "      <th>9995</th>\n",
       "      <td>Vacacion</td>\n",
       "      <td>excelente lugar vacacionar , servicio calidad ...</td>\n",
       "      <td>5</td>\n",
       "      <td>Hotel</td>\n",
       "      <td>1.525</td>\n",
       "      <td>0.000</td>\n",
       "    </tr>\n",
       "    <tr>\n",
       "      <th>9996</th>\n",
       "      <td>Excelente y muy barato</td>\n",
       "      <td>carne , tortilla recién hecho , queso fundido ...</td>\n",
       "      <td>5</td>\n",
       "      <td>Restaurant</td>\n",
       "      <td>0.330</td>\n",
       "      <td>0.000</td>\n",
       "    </tr>\n",
       "    <tr>\n",
       "      <th>9997</th>\n",
       "      <td>Mi lugar favorito</td>\n",
       "      <td>, seguido , comer delicioso atender maravilla ...</td>\n",
       "      <td>5</td>\n",
       "      <td>Restaurant</td>\n",
       "      <td>1.528</td>\n",
       "      <td>0.000</td>\n",
       "    </tr>\n",
       "    <tr>\n",
       "      <th>9998</th>\n",
       "      <td>Joysquad excelente</td>\n",
       "      <td>Lisbhet Torre Punta excelente servicio amable ...</td>\n",
       "      <td>5</td>\n",
       "      <td>Hotel</td>\n",
       "      <td>2.986</td>\n",
       "      <td>0.000</td>\n",
       "    </tr>\n",
       "    <tr>\n",
       "      <th>9999</th>\n",
       "      <td>El hotel y sus empleados</td>\n",
       "      <td>hotel samba clase hotel mejor samba hogar ubic...</td>\n",
       "      <td>5</td>\n",
       "      <td>Hotel</td>\n",
       "      <td>3.490</td>\n",
       "      <td>0.099</td>\n",
       "    </tr>\n",
       "  </tbody>\n",
       "</table>\n",
       "<p>10000 rows × 6 columns</p>\n",
       "</div>"
      ],
      "text/plain": [
       "                                      Title  \\\n",
       "0                              Pésimo lugar   \n",
       "1                 No vayas a lugar de Eddie   \n",
       "2              Mala relación calidad-precio   \n",
       "3          Minusválido? ¡No te alojes aquí!   \n",
       "4     Es una porqueria no pierdan su tiempo   \n",
       "...                                     ...   \n",
       "9995                               Vacacion   \n",
       "9996                 Excelente y muy barato   \n",
       "9997                      Mi lugar favorito   \n",
       "9998                     Joysquad excelente   \n",
       "9999               El hotel y sus empleados   \n",
       "\n",
       "                                                Opinion  Polarity  Attraction  \\\n",
       "0     piensir hotel , molestar , hijo año traer infl...         1       Hotel   \n",
       "1     recientemente Eddie's Place . servicio terribl...         1  Restaurant   \n",
       "2     seguir corto simple : limpieza \\n - bad . insi...         1       Hotel   \n",
       "3     reservar hotel multipropiedad Mayan grupo deci...         1       Hotel   \n",
       "4     perder tiempo dinero , venir tener boda , comp...         1       Hotel   \n",
       "...                                                 ...       ...         ...   \n",
       "9995  excelente lugar vacacionar , servicio calidad ...         5       Hotel   \n",
       "9996  carne , tortilla recién hecho , queso fundido ...         5  Restaurant   \n",
       "9997  , seguido , comer delicioso atender maravilla ...         5  Restaurant   \n",
       "9998  Lisbhet Torre Punta excelente servicio amable ...         5       Hotel   \n",
       "9999  hotel samba clase hotel mejor samba hogar ubic...         5       Hotel   \n",
       "\n",
       "      polaridad_positiva  polaridad_negativa  \n",
       "0                  0.000               2.521  \n",
       "1                  0.000               2.020  \n",
       "2                  0.000               0.000  \n",
       "3                  2.354               0.561  \n",
       "4                  0.795               2.751  \n",
       "...                  ...                 ...  \n",
       "9995               1.525               0.000  \n",
       "9996               0.330               0.000  \n",
       "9997               1.528               0.000  \n",
       "9998               2.986               0.000  \n",
       "9999               3.490               0.099  \n",
       "\n",
       "[10000 rows x 6 columns]"
      ]
     },
     "execution_count": 72,
     "metadata": {},
     "output_type": "execute_result"
    }
   ],
   "source": [
    "test_con_lexicon"
   ]
  },
  {
   "cell_type": "code",
   "execution_count": 74,
   "metadata": {},
   "outputs": [
    {
     "name": "stdout",
     "output_type": "stream",
     "text": [
      "p: molestar\n",
      "p: llorar\n",
      "p: molestar\n"
     ]
    },
    {
     "data": {
      "text/plain": [
       "[{'__txt__': ['piensir',\n",
       "   'hotel',\n",
       "   ',',\n",
       "   'molestar',\n",
       "   ',',\n",
       "   'hijo',\n",
       "   'año',\n",
       "   'traer',\n",
       "   'inflable',\n",
       "   'tamaño',\n",
       "   'pequeño',\n",
       "   'decir',\n",
       "   'ver',\n",
       "   'llorar',\n",
       "   'seguir',\n",
       "   'molestar',\n",
       "   ',',\n",
       "   'traíir',\n",
       "   'hielera',\n",
       "   'bolso',\n",
       "   'rueda',\n",
       "   'estilo',\n",
       "   'Tmb',\n",
       "   'molestándono',\n",
       "   'bebida',\n",
       "   'carísimo',\n",
       "   'agua',\n",
       "   'dejar',\n",
       "   'alberca',\n",
       "   'huésped',\n",
       "   'hotel',\n",
       "   'mayan',\n",
       "   'palace',\n",
       "   'grand',\n",
       "   'mayan',\n",
       "   'poder',\n",
       "   'jamás',\n",
       "   'volver',\n",
       "   'venir',\n",
       "   'lugar',\n",
       "   ',',\n",
       "   'invitar',\n",
       "   'cena',\n",
       "   'show',\n",
       "   'mil',\n",
       "   'pesos',\n",
       "   'persona',\n",
       "   'cena',\n",
       "   'dogs',\n",
       "   ',',\n",
       "   'habitación',\n",
       "   'normal',\n",
       "   ''],\n",
       "  '__alegria__': 0.0,\n",
       "  '__tristeza__': 1.129,\n",
       "  '__enojo__': 1.392,\n",
       "  '__repulsion__': 0.0,\n",
       "  '__miedo__': 0.0,\n",
       "  '__sorpresa__': 0.0,\n",
       "  'acumuladopositivo': 0.0,\n",
       "  'acumuladonegative': 2.521}]"
      ]
     },
     "execution_count": 74,
     "metadata": {},
     "output_type": "execute_result"
    }
   ],
   "source": [
    "getSELFeatures([test_con_lexicon['Opinion'][0]],lexicon_sel)"
   ]
  },
  {
   "cell_type": "code",
   "execution_count": 75,
   "metadata": {},
   "outputs": [
    {
     "data": {
      "text/html": [
       "<div>\n",
       "<style scoped>\n",
       "    .dataframe tbody tr th:only-of-type {\n",
       "        vertical-align: middle;\n",
       "    }\n",
       "\n",
       "    .dataframe tbody tr th {\n",
       "        vertical-align: top;\n",
       "    }\n",
       "\n",
       "    .dataframe thead th {\n",
       "        text-align: right;\n",
       "    }\n",
       "</style>\n",
       "<table border=\"1\" class=\"dataframe\">\n",
       "  <thead>\n",
       "    <tr style=\"text-align: right;\">\n",
       "      <th></th>\n",
       "      <th>Title</th>\n",
       "      <th>Opinion</th>\n",
       "      <th>Polarity</th>\n",
       "      <th>Attraction</th>\n",
       "      <th>polaridad_positiva</th>\n",
       "      <th>polaridad_negativa</th>\n",
       "    </tr>\n",
       "  </thead>\n",
       "  <tbody>\n",
       "    <tr>\n",
       "      <th>0</th>\n",
       "      <td>Pésimo lugar</td>\n",
       "      <td>piensir hotel , molestar , hijo año traer infl...</td>\n",
       "      <td>1</td>\n",
       "      <td>Hotel</td>\n",
       "      <td>0.0</td>\n",
       "      <td>2.521</td>\n",
       "    </tr>\n",
       "  </tbody>\n",
       "</table>\n",
       "</div>"
      ],
      "text/plain": [
       "          Title                                            Opinion  Polarity  \\\n",
       "0  Pésimo lugar  piensir hotel , molestar , hijo año traer infl...         1   \n",
       "\n",
       "  Attraction  polaridad_positiva  polaridad_negativa  \n",
       "0      Hotel                 0.0               2.521  "
      ]
     },
     "execution_count": 75,
     "metadata": {},
     "output_type": "execute_result"
    }
   ],
   "source": [
    "test_con_lexicon.head(1)"
   ]
  },
  {
   "cell_type": "markdown",
   "metadata": {},
   "source": [
    "# Normalizacion"
   ]
  },
  {
   "cell_type": "code",
   "execution_count": 63,
   "metadata": {},
   "outputs": [],
   "source": [
    "nlp = spacy.load(\"es_core_news_sm\")"
   ]
  },
  {
   "cell_type": "code",
   "execution_count": 64,
   "metadata": {},
   "outputs": [
    {
     "name": "stderr",
     "output_type": "stream",
     "text": [
      "[nltk_data] Downloading package stopwords to\n",
      "[nltk_data]     C:\\Users\\sergi\\AppData\\Roaming\\nltk_data...\n",
      "[nltk_data]   Package stopwords is already up-to-date!\n",
      "[nltk_data] Downloading package punkt to\n",
      "[nltk_data]     C:\\Users\\sergi\\AppData\\Roaming\\nltk_data...\n",
      "[nltk_data]   Package punkt is already up-to-date!\n",
      "[nltk_data] Downloading package wordnet to\n",
      "[nltk_data]     C:\\Users\\sergi\\AppData\\Roaming\\nltk_data...\n",
      "[nltk_data]   Package wordnet is already up-to-date!\n"
     ]
    }
   ],
   "source": [
    "nltk.download('stopwords')\n",
    "nltk.download('punkt')\n",
    "nltk.download('wordnet')\n",
    "\n",
    "def lemmatize_token(token):\n",
    "    lemmatizer = WordNetLemmatizer()\n",
    "    return lemmatizer.lemmatize(token)\n",
    "\n",
    "# nltk:\n",
    "def tokenizarNLTK(doc):\n",
    "    if type(doc) != type(\"\"):\n",
    "        print(doc)\n",
    "        return \"\"\n",
    "\n",
    "    # Tokenize the document\n",
    "    tokens = word_tokenize(doc, language='spanish')\n",
    "\n",
    "    # Remove stop words and lemmatize\n",
    "    stop_words = set(stopwords.words('spanish'))\n",
    "    filtered_tokens = [lemmatize_token(token) for token in tokens if token.lower() not in stop_words]\n",
    "\n",
    "    # Join the filtered tokens into a string\n",
    "    res = \" \".join(filtered_tokens)\n",
    "\n",
    "    return res\n",
    "\n",
    "# spacy: \n",
    "def tokenizarSpacy(doc): \n",
    "    if(type(doc) != type(\"\")):\n",
    "         print(doc)\n",
    "         return \"\"\n",
    "    # nlp = spacy.load(\"es_core_news_sm\") # español\n",
    "    \n",
    "    tkDoc = nlp(doc)\n",
    "    res = \"\"\n",
    "    for token in tkDoc:\n",
    "        if(not(token.is_stop)): # quitando stop words\n",
    "                res+=token.lemma_\n",
    "                res+=\" \"\n",
    "\n",
    "    return res"
   ]
  },
  {
   "cell_type": "code",
   "execution_count": 65,
   "metadata": {},
   "outputs": [
    {
     "name": "stdout",
     "output_type": "stream",
     "text": [
      "nan\n"
     ]
    },
    {
     "name": "stderr",
     "output_type": "stream",
     "text": [
      "C:\\Users\\sergi\\AppData\\Local\\Temp\\ipykernel_2896\\3556711929.py:1: SettingWithCopyWarning: \n",
      "A value is trying to be set on a copy of a slice from a DataFrame.\n",
      "Try using .loc[row_indexer,col_indexer] = value instead\n",
      "\n",
      "See the caveats in the documentation: https://pandas.pydata.org/pandas-docs/stable/user_guide/indexing.html#returning-a-view-versus-a-copy\n",
      "  myTest['Opinion'] = myTest['Opinion'].apply(tokenizarSpacy)\n"
     ]
    }
   ],
   "source": [
    "myTest['Opinion'] = myTest['Opinion'].apply(tokenizarSpacy)"
   ]
  },
  {
   "cell_type": "code",
   "execution_count": 56,
   "metadata": {},
   "outputs": [
    {
     "data": {
      "text/html": [
       "<div>\n",
       "<style scoped>\n",
       "    .dataframe tbody tr th:only-of-type {\n",
       "        vertical-align: middle;\n",
       "    }\n",
       "\n",
       "    .dataframe tbody tr th {\n",
       "        vertical-align: top;\n",
       "    }\n",
       "\n",
       "    .dataframe thead th {\n",
       "        text-align: right;\n",
       "    }\n",
       "</style>\n",
       "<table border=\"1\" class=\"dataframe\">\n",
       "  <thead>\n",
       "    <tr style=\"text-align: right;\">\n",
       "      <th></th>\n",
       "      <th>Title</th>\n",
       "      <th>Opinion</th>\n",
       "      <th>Polarity</th>\n",
       "      <th>Attraction</th>\n",
       "    </tr>\n",
       "  </thead>\n",
       "  <tbody>\n",
       "    <tr>\n",
       "      <th>0</th>\n",
       "      <td>Pésimo lugar</td>\n",
       "      <td>Piensen do veces ir hotel , molestan , hijo se...</td>\n",
       "      <td>1</td>\n",
       "      <td>Hotel</td>\n",
       "    </tr>\n",
       "    <tr>\n",
       "      <th>1</th>\n",
       "      <td>No vayas a lugar de Eddie</td>\n",
       "      <td>Cuatro recientemente Eddie 's Place . servicio...</td>\n",
       "      <td>1</td>\n",
       "      <td>Restaurant</td>\n",
       "    </tr>\n",
       "    <tr>\n",
       "      <th>2</th>\n",
       "      <td>Mala relación calidad-precio</td>\n",
       "      <td>seguiré corta simple : limpieza - bad . insist...</td>\n",
       "      <td>1</td>\n",
       "      <td>Hotel</td>\n",
       "    </tr>\n",
       "    <tr>\n",
       "      <th>3</th>\n",
       "      <td>Minusválido? ¡No te alojes aquí!</td>\n",
       "      <td>reservar hotel multipropiedad Mayan grupo dije...</td>\n",
       "      <td>1</td>\n",
       "      <td>Hotel</td>\n",
       "    </tr>\n",
       "    <tr>\n",
       "      <th>4</th>\n",
       "      <td>Es una porqueria no pierdan su tiempo</td>\n",
       "      <td>pierdan tiempo dinero , venimos boda aquí mism...</td>\n",
       "      <td>1</td>\n",
       "      <td>Hotel</td>\n",
       "    </tr>\n",
       "    <tr>\n",
       "      <th>...</th>\n",
       "      <td>...</td>\n",
       "      <td>...</td>\n",
       "      <td>...</td>\n",
       "      <td>...</td>\n",
       "    </tr>\n",
       "    <tr>\n",
       "      <th>9995</th>\n",
       "      <td>Vacacion</td>\n",
       "      <td>excelente lugar vacacionar , servicio primera ...</td>\n",
       "      <td>5</td>\n",
       "      <td>Hotel</td>\n",
       "    </tr>\n",
       "    <tr>\n",
       "      <th>9996</th>\n",
       "      <td>Excelente y muy barato</td>\n",
       "      <td>Buena carne , tortilla recién hechas , queso f...</td>\n",
       "      <td>5</td>\n",
       "      <td>Restaurant</td>\n",
       "    </tr>\n",
       "    <tr>\n",
       "      <th>9997</th>\n",
       "      <td>Mi lugar favorito</td>\n",
       "      <td>Siempre vamos , vamos seguido , comemos delici...</td>\n",
       "      <td>5</td>\n",
       "      <td>Restaurant</td>\n",
       "    </tr>\n",
       "    <tr>\n",
       "      <th>9998</th>\n",
       "      <td>Joysquad excelente</td>\n",
       "      <td>Lisbhet Torre Punta excelente servicio amable ...</td>\n",
       "      <td>5</td>\n",
       "      <td>Hotel</td>\n",
       "    </tr>\n",
       "    <tr>\n",
       "      <th>9999</th>\n",
       "      <td>El hotel y sus empleados</td>\n",
       "      <td>hotel samba mejor clase podrá ver hoteles mejo...</td>\n",
       "      <td>5</td>\n",
       "      <td>Hotel</td>\n",
       "    </tr>\n",
       "  </tbody>\n",
       "</table>\n",
       "<p>10000 rows × 4 columns</p>\n",
       "</div>"
      ],
      "text/plain": [
       "                                      Title  \\\n",
       "0                              Pésimo lugar   \n",
       "1                 No vayas a lugar de Eddie   \n",
       "2              Mala relación calidad-precio   \n",
       "3          Minusválido? ¡No te alojes aquí!   \n",
       "4     Es una porqueria no pierdan su tiempo   \n",
       "...                                     ...   \n",
       "9995                               Vacacion   \n",
       "9996                 Excelente y muy barato   \n",
       "9997                      Mi lugar favorito   \n",
       "9998                     Joysquad excelente   \n",
       "9999               El hotel y sus empleados   \n",
       "\n",
       "                                                Opinion  Polarity  Attraction  \n",
       "0     Piensen do veces ir hotel , molestan , hijo se...         1       Hotel  \n",
       "1     Cuatro recientemente Eddie 's Place . servicio...         1  Restaurant  \n",
       "2     seguiré corta simple : limpieza - bad . insist...         1       Hotel  \n",
       "3     reservar hotel multipropiedad Mayan grupo dije...         1       Hotel  \n",
       "4     pierdan tiempo dinero , venimos boda aquí mism...         1       Hotel  \n",
       "...                                                 ...       ...         ...  \n",
       "9995  excelente lugar vacacionar , servicio primera ...         5       Hotel  \n",
       "9996  Buena carne , tortilla recién hechas , queso f...         5  Restaurant  \n",
       "9997  Siempre vamos , vamos seguido , comemos delici...         5  Restaurant  \n",
       "9998  Lisbhet Torre Punta excelente servicio amable ...         5       Hotel  \n",
       "9999  hotel samba mejor clase podrá ver hoteles mejo...         5       Hotel  \n",
       "\n",
       "[10000 rows x 4 columns]"
      ]
     },
     "execution_count": 56,
     "metadata": {},
     "output_type": "execute_result"
    }
   ],
   "source": [
    "myTest"
   ]
  },
  {
   "cell_type": "code",
   "execution_count": 9,
   "metadata": {},
   "outputs": [
    {
     "data": {
      "text/plain": [
       "Polarity\n",
       "4    5878\n",
       "3    2121\n",
       "2     730\n",
       "5     724\n",
       "1     547\n",
       "Name: count, dtype: int64"
      ]
     },
     "execution_count": 9,
     "metadata": {},
     "output_type": "execute_result"
    }
   ],
   "source": [
    "myTest['Polarity'].value_counts()"
   ]
  },
  {
   "cell_type": "code",
   "execution_count": 25,
   "metadata": {},
   "outputs": [],
   "source": [
    "result = myTest[myTest['Opinion']==\"error\"]"
   ]
  },
  {
   "cell_type": "code",
   "execution_count": 26,
   "metadata": {},
   "outputs": [
    {
     "data": {
      "text/html": [
       "<div>\n",
       "<style scoped>\n",
       "    .dataframe tbody tr th:only-of-type {\n",
       "        vertical-align: middle;\n",
       "    }\n",
       "\n",
       "    .dataframe tbody tr th {\n",
       "        vertical-align: top;\n",
       "    }\n",
       "\n",
       "    .dataframe thead th {\n",
       "        text-align: right;\n",
       "    }\n",
       "</style>\n",
       "<table border=\"1\" class=\"dataframe\">\n",
       "  <thead>\n",
       "    <tr style=\"text-align: right;\">\n",
       "      <th></th>\n",
       "      <th>Title</th>\n",
       "      <th>Opinion</th>\n",
       "      <th>Polarity</th>\n",
       "      <th>Attraction</th>\n",
       "    </tr>\n",
       "  </thead>\n",
       "  <tbody>\n",
       "  </tbody>\n",
       "</table>\n",
       "</div>"
      ],
      "text/plain": [
       "Empty DataFrame\n",
       "Columns: [Title, Opinion, Polarity, Attraction]\n",
       "Index: []"
      ]
     },
     "execution_count": 26,
     "metadata": {},
     "output_type": "execute_result"
    }
   ],
   "source": [
    "result"
   ]
  },
  {
   "cell_type": "code",
   "execution_count": 27,
   "metadata": {},
   "outputs": [
    {
     "name": "stdout",
     "output_type": "stream",
     "text": [
      "2016-12-01 00:00:00\n",
      "2015-05-01 00:00:00\n"
     ]
    },
    {
     "name": "stderr",
     "output_type": "stream",
     "text": [
      "C:\\Users\\sergi\\AppData\\Local\\Temp\\ipykernel_21960\\745785095.py:1: SettingWithCopyWarning: \n",
      "A value is trying to be set on a copy of a slice from a DataFrame.\n",
      "Try using .loc[row_indexer,col_indexer] = value instead\n",
      "\n",
      "See the caveats in the documentation: https://pandas.pydata.org/pandas-docs/stable/user_guide/indexing.html#returning-a-view-versus-a-copy\n",
      "  myTest['Title'] = myTest['Title'].apply(tokenizar)\n"
     ]
    }
   ],
   "source": [
    "myTest['Title'] = myTest['Title'].apply(tokenizar)"
   ]
  },
  {
   "cell_type": "code",
   "execution_count": 76,
   "metadata": {},
   "outputs": [
    {
     "data": {
      "text/html": [
       "<div>\n",
       "<style scoped>\n",
       "    .dataframe tbody tr th:only-of-type {\n",
       "        vertical-align: middle;\n",
       "    }\n",
       "\n",
       "    .dataframe tbody tr th {\n",
       "        vertical-align: top;\n",
       "    }\n",
       "\n",
       "    .dataframe thead th {\n",
       "        text-align: right;\n",
       "    }\n",
       "</style>\n",
       "<table border=\"1\" class=\"dataframe\">\n",
       "  <thead>\n",
       "    <tr style=\"text-align: right;\">\n",
       "      <th></th>\n",
       "      <th>Title</th>\n",
       "      <th>Opinion</th>\n",
       "      <th>Polarity</th>\n",
       "      <th>Attraction</th>\n",
       "    </tr>\n",
       "  </thead>\n",
       "  <tbody>\n",
       "    <tr>\n",
       "      <th>0</th>\n",
       "      <td>Pésimo lugar</td>\n",
       "      <td>piensir hotel , molestar , hijo año traer infl...</td>\n",
       "      <td>1</td>\n",
       "      <td>Hotel</td>\n",
       "    </tr>\n",
       "    <tr>\n",
       "      <th>1</th>\n",
       "      <td>No vayas a lugar de Eddie</td>\n",
       "      <td>recientemente Eddie's Place . servicio terribl...</td>\n",
       "      <td>1</td>\n",
       "      <td>Restaurant</td>\n",
       "    </tr>\n",
       "    <tr>\n",
       "      <th>2</th>\n",
       "      <td>Mala relación calidad-precio</td>\n",
       "      <td>seguir corto simple : limpieza \\n - bad . insi...</td>\n",
       "      <td>1</td>\n",
       "      <td>Hotel</td>\n",
       "    </tr>\n",
       "    <tr>\n",
       "      <th>3</th>\n",
       "      <td>Minusválido? ¡No te alojes aquí!</td>\n",
       "      <td>reservar hotel multipropiedad Mayan grupo deci...</td>\n",
       "      <td>1</td>\n",
       "      <td>Hotel</td>\n",
       "    </tr>\n",
       "    <tr>\n",
       "      <th>4</th>\n",
       "      <td>Es una porqueria no pierdan su tiempo</td>\n",
       "      <td>perder tiempo dinero , venir tener boda , comp...</td>\n",
       "      <td>1</td>\n",
       "      <td>Hotel</td>\n",
       "    </tr>\n",
       "    <tr>\n",
       "      <th>...</th>\n",
       "      <td>...</td>\n",
       "      <td>...</td>\n",
       "      <td>...</td>\n",
       "      <td>...</td>\n",
       "    </tr>\n",
       "    <tr>\n",
       "      <th>9995</th>\n",
       "      <td>Vacacion</td>\n",
       "      <td>excelente lugar vacacionar , servicio calidad ...</td>\n",
       "      <td>5</td>\n",
       "      <td>Hotel</td>\n",
       "    </tr>\n",
       "    <tr>\n",
       "      <th>9996</th>\n",
       "      <td>Excelente y muy barato</td>\n",
       "      <td>carne , tortilla recién hecho , queso fundido ...</td>\n",
       "      <td>5</td>\n",
       "      <td>Restaurant</td>\n",
       "    </tr>\n",
       "    <tr>\n",
       "      <th>9997</th>\n",
       "      <td>Mi lugar favorito</td>\n",
       "      <td>, seguido , comer delicioso atender maravilla ...</td>\n",
       "      <td>5</td>\n",
       "      <td>Restaurant</td>\n",
       "    </tr>\n",
       "    <tr>\n",
       "      <th>9998</th>\n",
       "      <td>Joysquad excelente</td>\n",
       "      <td>Lisbhet Torre Punta excelente servicio amable ...</td>\n",
       "      <td>5</td>\n",
       "      <td>Hotel</td>\n",
       "    </tr>\n",
       "    <tr>\n",
       "      <th>9999</th>\n",
       "      <td>El hotel y sus empleados</td>\n",
       "      <td>hotel samba clase hotel mejor samba hogar ubic...</td>\n",
       "      <td>5</td>\n",
       "      <td>Hotel</td>\n",
       "    </tr>\n",
       "  </tbody>\n",
       "</table>\n",
       "<p>10000 rows × 4 columns</p>\n",
       "</div>"
      ],
      "text/plain": [
       "                                      Title  \\\n",
       "0                              Pésimo lugar   \n",
       "1                 No vayas a lugar de Eddie   \n",
       "2              Mala relación calidad-precio   \n",
       "3          Minusválido? ¡No te alojes aquí!   \n",
       "4     Es una porqueria no pierdan su tiempo   \n",
       "...                                     ...   \n",
       "9995                               Vacacion   \n",
       "9996                 Excelente y muy barato   \n",
       "9997                      Mi lugar favorito   \n",
       "9998                     Joysquad excelente   \n",
       "9999               El hotel y sus empleados   \n",
       "\n",
       "                                                Opinion  Polarity  Attraction  \n",
       "0     piensir hotel , molestar , hijo año traer infl...         1       Hotel  \n",
       "1     recientemente Eddie's Place . servicio terribl...         1  Restaurant  \n",
       "2     seguir corto simple : limpieza \\n - bad . insi...         1       Hotel  \n",
       "3     reservar hotel multipropiedad Mayan grupo deci...         1       Hotel  \n",
       "4     perder tiempo dinero , venir tener boda , comp...         1       Hotel  \n",
       "...                                                 ...       ...         ...  \n",
       "9995  excelente lugar vacacionar , servicio calidad ...         5       Hotel  \n",
       "9996  carne , tortilla recién hecho , queso fundido ...         5  Restaurant  \n",
       "9997  , seguido , comer delicioso atender maravilla ...         5  Restaurant  \n",
       "9998  Lisbhet Torre Punta excelente servicio amable ...         5       Hotel  \n",
       "9999  hotel samba clase hotel mejor samba hogar ubic...         5       Hotel  \n",
       "\n",
       "[10000 rows x 4 columns]"
      ]
     },
     "execution_count": 76,
     "metadata": {},
     "output_type": "execute_result"
    }
   ],
   "source": [
    "myTest"
   ]
  },
  {
   "cell_type": "markdown",
   "metadata": {},
   "source": [
    "# Splitting"
   ]
  },
  {
   "cell_type": "code",
   "execution_count": 77,
   "metadata": {},
   "outputs": [],
   "source": [
    "train, test = train_test_split(test_con_lexicon, test_size=0.2)"
   ]
  },
  {
   "cell_type": "code",
   "execution_count": 78,
   "metadata": {},
   "outputs": [
    {
     "data": {
      "text/html": [
       "<div>\n",
       "<style scoped>\n",
       "    .dataframe tbody tr th:only-of-type {\n",
       "        vertical-align: middle;\n",
       "    }\n",
       "\n",
       "    .dataframe tbody tr th {\n",
       "        vertical-align: top;\n",
       "    }\n",
       "\n",
       "    .dataframe thead th {\n",
       "        text-align: right;\n",
       "    }\n",
       "</style>\n",
       "<table border=\"1\" class=\"dataframe\">\n",
       "  <thead>\n",
       "    <tr style=\"text-align: right;\">\n",
       "      <th></th>\n",
       "      <th>Title</th>\n",
       "      <th>Opinion</th>\n",
       "      <th>Polarity</th>\n",
       "      <th>Attraction</th>\n",
       "      <th>polaridad_positiva</th>\n",
       "      <th>polaridad_negativa</th>\n",
       "    </tr>\n",
       "  </thead>\n",
       "  <tbody>\n",
       "    <tr>\n",
       "      <th>5585</th>\n",
       "      <td>Ame Samba Vallarta</td>\n",
       "      <td>recordar amable segmentado edificio dar privac...</td>\n",
       "      <td>4</td>\n",
       "      <td>Hotel</td>\n",
       "      <td>4.010</td>\n",
       "      <td>0.000</td>\n",
       "    </tr>\n",
       "    <tr>\n",
       "      <th>5780</th>\n",
       "      <td>Hard Rock luna</td>\n",
       "      <td>marido celebrar luna miel Hard Rock Vallarta r...</td>\n",
       "      <td>4</td>\n",
       "      <td>Hotel</td>\n",
       "      <td>7.010</td>\n",
       "      <td>2.413</td>\n",
       "    </tr>\n",
       "    <tr>\n",
       "      <th>4506</th>\n",
       "      <td>Fin de semana de Memorial</td>\n",
       "      <td>alojar 4 pasar . conserje Laticia ! servicio g...</td>\n",
       "      <td>4</td>\n",
       "      <td>Hotel</td>\n",
       "      <td>2.060</td>\n",
       "      <td>1.025</td>\n",
       "    </tr>\n",
       "    <tr>\n",
       "      <th>8402</th>\n",
       "      <td>Las Momias de Guanajuato</td>\n",
       "      <td>sala , poder apreciar número momia , pequeño e...</td>\n",
       "      <td>4</td>\n",
       "      <td>Attractive</td>\n",
       "      <td>0.629</td>\n",
       "      <td>0.000</td>\n",
       "    </tr>\n",
       "    <tr>\n",
       "      <th>1052</th>\n",
       "      <td>» Wannabe de comida mejicana »!!</td>\n",
       "      <td>decepcionante refugié altamente lugar . peor c...</td>\n",
       "      <td>2</td>\n",
       "      <td>Restaurant</td>\n",
       "      <td>1.791</td>\n",
       "      <td>2.978</td>\n",
       "    </tr>\n",
       "    <tr>\n",
       "      <th>...</th>\n",
       "      <td>...</td>\n",
       "      <td>...</td>\n",
       "      <td>...</td>\n",
       "      <td>...</td>\n",
       "      <td>...</td>\n",
       "      <td>...</td>\n",
       "    </tr>\n",
       "    <tr>\n",
       "      <th>6827</th>\n",
       "      <td>Festejo familiar</td>\n",
       "      <td>excelente hotel familiar . servicio personal e...</td>\n",
       "      <td>4</td>\n",
       "      <td>Hotel</td>\n",
       "      <td>4.311</td>\n",
       "      <td>0.000</td>\n",
       "    </tr>\n",
       "    <tr>\n",
       "      <th>6712</th>\n",
       "      <td>Buena comida</td>\n",
       "      <td>fiable fiable . comida servicio . pasta pizza ...</td>\n",
       "      <td>4</td>\n",
       "      <td>Restaurant</td>\n",
       "      <td>0.864</td>\n",
       "      <td>0.000</td>\n",
       "    </tr>\n",
       "    <tr>\n",
       "      <th>5991</th>\n",
       "      <td>Restaurantes asiáticos</td>\n",
       "      <td>precioso entorno estanque espejo estanque natu...</td>\n",
       "      <td>4</td>\n",
       "      <td>Restaurant</td>\n",
       "      <td>2.192</td>\n",
       "      <td>1.588</td>\n",
       "    </tr>\n",
       "    <tr>\n",
       "      <th>7537</th>\n",
       "      <td>Muy buen hotel, para regresar a él.</td>\n",
       "      <td>excelente hotel ; instalación limpio ; mayoría...</td>\n",
       "      <td>4</td>\n",
       "      <td>Hotel</td>\n",
       "      <td>3.753</td>\n",
       "      <td>0.000</td>\n",
       "    </tr>\n",
       "    <tr>\n",
       "      <th>6066</th>\n",
       "      <td>Plátanos Flambeados delicioso!</td>\n",
       "      <td>comer , viaje par año . comida malo , carne am...</td>\n",
       "      <td>4</td>\n",
       "      <td>Restaurant</td>\n",
       "      <td>4.822</td>\n",
       "      <td>1.588</td>\n",
       "    </tr>\n",
       "  </tbody>\n",
       "</table>\n",
       "<p>8000 rows × 6 columns</p>\n",
       "</div>"
      ],
      "text/plain": [
       "                                    Title  \\\n",
       "5585                   Ame Samba Vallarta   \n",
       "5780                       Hard Rock luna   \n",
       "4506            Fin de semana de Memorial   \n",
       "8402             Las Momias de Guanajuato   \n",
       "1052     » Wannabe de comida mejicana »!!   \n",
       "...                                   ...   \n",
       "6827                     Festejo familiar   \n",
       "6712                         Buena comida   \n",
       "5991               Restaurantes asiáticos   \n",
       "7537  Muy buen hotel, para regresar a él.   \n",
       "6066       Plátanos Flambeados delicioso!   \n",
       "\n",
       "                                                Opinion  Polarity  Attraction  \\\n",
       "5585  recordar amable segmentado edificio dar privac...         4       Hotel   \n",
       "5780  marido celebrar luna miel Hard Rock Vallarta r...         4       Hotel   \n",
       "4506  alojar 4 pasar . conserje Laticia ! servicio g...         4       Hotel   \n",
       "8402  sala , poder apreciar número momia , pequeño e...         4  Attractive   \n",
       "1052  decepcionante refugié altamente lugar . peor c...         2  Restaurant   \n",
       "...                                                 ...       ...         ...   \n",
       "6827  excelente hotel familiar . servicio personal e...         4       Hotel   \n",
       "6712  fiable fiable . comida servicio . pasta pizza ...         4  Restaurant   \n",
       "5991  precioso entorno estanque espejo estanque natu...         4  Restaurant   \n",
       "7537  excelente hotel ; instalación limpio ; mayoría...         4       Hotel   \n",
       "6066  comer , viaje par año . comida malo , carne am...         4  Restaurant   \n",
       "\n",
       "      polaridad_positiva  polaridad_negativa  \n",
       "5585               4.010               0.000  \n",
       "5780               7.010               2.413  \n",
       "4506               2.060               1.025  \n",
       "8402               0.629               0.000  \n",
       "1052               1.791               2.978  \n",
       "...                  ...                 ...  \n",
       "6827               4.311               0.000  \n",
       "6712               0.864               0.000  \n",
       "5991               2.192               1.588  \n",
       "7537               3.753               0.000  \n",
       "6066               4.822               1.588  \n",
       "\n",
       "[8000 rows x 6 columns]"
      ]
     },
     "execution_count": 78,
     "metadata": {},
     "output_type": "execute_result"
    }
   ],
   "source": [
    "train"
   ]
  },
  {
   "cell_type": "code",
   "execution_count": 79,
   "metadata": {},
   "outputs": [
    {
     "data": {
      "text/html": [
       "<div>\n",
       "<style scoped>\n",
       "    .dataframe tbody tr th:only-of-type {\n",
       "        vertical-align: middle;\n",
       "    }\n",
       "\n",
       "    .dataframe tbody tr th {\n",
       "        vertical-align: top;\n",
       "    }\n",
       "\n",
       "    .dataframe thead th {\n",
       "        text-align: right;\n",
       "    }\n",
       "</style>\n",
       "<table border=\"1\" class=\"dataframe\">\n",
       "  <thead>\n",
       "    <tr style=\"text-align: right;\">\n",
       "      <th></th>\n",
       "      <th>Title</th>\n",
       "      <th>Opinion</th>\n",
       "      <th>Polarity</th>\n",
       "      <th>Attraction</th>\n",
       "      <th>polaridad_positiva</th>\n",
       "      <th>polaridad_negativa</th>\n",
       "    </tr>\n",
       "  </thead>\n",
       "  <tbody>\n",
       "    <tr>\n",
       "      <th>8560</th>\n",
       "      <td>Hermosa vista</td>\n",
       "      <td>monumento llegar carro funicular . enorme esta...</td>\n",
       "      <td>4</td>\n",
       "      <td>Attractive</td>\n",
       "      <td>1.131</td>\n",
       "      <td>0.000</td>\n",
       "    </tr>\n",
       "    <tr>\n",
       "      <th>115</th>\n",
       "      <td>decepcionado</td>\n",
       "      <td>noviembre , Lalaguna , práctico hotel agradabl...</td>\n",
       "      <td>1</td>\n",
       "      <td>Restaurant</td>\n",
       "      <td>1.097</td>\n",
       "      <td>0.000</td>\n",
       "    </tr>\n",
       "    <tr>\n",
       "      <th>2302</th>\n",
       "      <td>No tan luxxe</td>\n",
       "      <td>estar verano viaje Puerto Vallarta . estábamos...</td>\n",
       "      <td>3</td>\n",
       "      <td>Hotel</td>\n",
       "      <td>1.493</td>\n",
       "      <td>0.000</td>\n",
       "    </tr>\n",
       "    <tr>\n",
       "      <th>6030</th>\n",
       "      <td>Buena relación calidad-precio.</td>\n",
       "      <td>playa agradable . comida excelente . bebida . ...</td>\n",
       "      <td>4</td>\n",
       "      <td>Hotel</td>\n",
       "      <td>4.381</td>\n",
       "      <td>0.000</td>\n",
       "    </tr>\n",
       "    <tr>\n",
       "      <th>362</th>\n",
       "      <td>El Hotel En Mantenimiento y Musica hasta las 1...</td>\n",
       "      <td>Acabo pasar semana suite hotel , visitado gene...</td>\n",
       "      <td>1</td>\n",
       "      <td>Hotel</td>\n",
       "      <td>3.977</td>\n",
       "      <td>0.994</td>\n",
       "    </tr>\n",
       "    <tr>\n",
       "      <th>...</th>\n",
       "      <td>...</td>\n",
       "      <td>...</td>\n",
       "      <td>...</td>\n",
       "      <td>...</td>\n",
       "      <td>...</td>\n",
       "      <td>...</td>\n",
       "    </tr>\n",
       "    <tr>\n",
       "      <th>5294</th>\n",
       "      <td>Gran lugar; ruido terrible</td>\n",
       "      <td>hotel año seguido , ambos ocasión alogir apart...</td>\n",
       "      <td>4</td>\n",
       "      <td>Hotel</td>\n",
       "      <td>5.011</td>\n",
       "      <td>0.796</td>\n",
       "    </tr>\n",
       "    <tr>\n",
       "      <th>6758</th>\n",
       "      <td>Muy bonito complejo</td>\n",
       "      <td>marido alogir Villa Palmar 1 Flamingos complej...</td>\n",
       "      <td>4</td>\n",
       "      <td>Hotel</td>\n",
       "      <td>11.542</td>\n",
       "      <td>4.943</td>\n",
       "    </tr>\n",
       "    <tr>\n",
       "      <th>2912</th>\n",
       "      <td>Tradicional</td>\n",
       "      <td>lugar bonito , cubrir expectativa generado . f...</td>\n",
       "      <td>3</td>\n",
       "      <td>Attractive</td>\n",
       "      <td>0.297</td>\n",
       "      <td>0.000</td>\n",
       "    </tr>\n",
       "    <tr>\n",
       "      <th>9769</th>\n",
       "      <td>En familia en la playa</td>\n",
       "      <td>limpieza impecable , tamaño habitación cómodo ...</td>\n",
       "      <td>5</td>\n",
       "      <td>Hotel</td>\n",
       "      <td>1.292</td>\n",
       "      <td>0.099</td>\n",
       "    </tr>\n",
       "    <tr>\n",
       "      <th>1606</th>\n",
       "      <td>No vale ser el numero 3</td>\n",
       "      <td>dejar desear poder probar menú degustación val...</td>\n",
       "      <td>3</td>\n",
       "      <td>Restaurant</td>\n",
       "      <td>0.594</td>\n",
       "      <td>0.033</td>\n",
       "    </tr>\n",
       "  </tbody>\n",
       "</table>\n",
       "<p>2000 rows × 6 columns</p>\n",
       "</div>"
      ],
      "text/plain": [
       "                                                  Title  \\\n",
       "8560                                      Hermosa vista   \n",
       "115                                        decepcionado   \n",
       "2302                                       No tan luxxe   \n",
       "6030                     Buena relación calidad-precio.   \n",
       "362   El Hotel En Mantenimiento y Musica hasta las 1...   \n",
       "...                                                 ...   \n",
       "5294                         Gran lugar; ruido terrible   \n",
       "6758                                Muy bonito complejo   \n",
       "2912                                        Tradicional   \n",
       "9769                             En familia en la playa   \n",
       "1606                            No vale ser el numero 3   \n",
       "\n",
       "                                                Opinion  Polarity  Attraction  \\\n",
       "8560  monumento llegar carro funicular . enorme esta...         4  Attractive   \n",
       "115   noviembre , Lalaguna , práctico hotel agradabl...         1  Restaurant   \n",
       "2302  estar verano viaje Puerto Vallarta . estábamos...         3       Hotel   \n",
       "6030  playa agradable . comida excelente . bebida . ...         4       Hotel   \n",
       "362   Acabo pasar semana suite hotel , visitado gene...         1       Hotel   \n",
       "...                                                 ...       ...         ...   \n",
       "5294  hotel año seguido , ambos ocasión alogir apart...         4       Hotel   \n",
       "6758  marido alogir Villa Palmar 1 Flamingos complej...         4       Hotel   \n",
       "2912  lugar bonito , cubrir expectativa generado . f...         3  Attractive   \n",
       "9769  limpieza impecable , tamaño habitación cómodo ...         5       Hotel   \n",
       "1606  dejar desear poder probar menú degustación val...         3  Restaurant   \n",
       "\n",
       "      polaridad_positiva  polaridad_negativa  \n",
       "8560               1.131               0.000  \n",
       "115                1.097               0.000  \n",
       "2302               1.493               0.000  \n",
       "6030               4.381               0.000  \n",
       "362                3.977               0.994  \n",
       "...                  ...                 ...  \n",
       "5294               5.011               0.796  \n",
       "6758              11.542               4.943  \n",
       "2912               0.297               0.000  \n",
       "9769               1.292               0.099  \n",
       "1606               0.594               0.033  \n",
       "\n",
       "[2000 rows x 6 columns]"
      ]
     },
     "execution_count": 79,
     "metadata": {},
     "output_type": "execute_result"
    }
   ],
   "source": [
    "test"
   ]
  },
  {
   "cell_type": "markdown",
   "metadata": {},
   "source": [
    "# Text Representations"
   ]
  },
  {
   "cell_type": "code",
   "execution_count": 80,
   "metadata": {},
   "outputs": [],
   "source": [
    "vectorizador_binario = CountVectorizer(binary=True, token_pattern= r'(?u)\\w\\w+|\\w\\w+\\n|\\.')\n",
    "vectorizador_frecuencia = CountVectorizer(token_pattern= r'(?u)\\w\\w+|\\w\\w+\\n|\\.')\n",
    "vectorizador_tfidf = TfidfVectorizer()"
   ]
  },
  {
   "cell_type": "code",
   "execution_count": 81,
   "metadata": {},
   "outputs": [],
   "source": [
    "train_vectorizado = vectorizador_tfidf.fit_transform(train['Opinion'])"
   ]
  },
  {
   "cell_type": "code",
   "execution_count": 83,
   "metadata": {},
   "outputs": [
    {
     "data": {
      "text/plain": [
       "<8000x23452 sparse matrix of type '<class 'numpy.float64'>'\n",
       "\twith 352771 stored elements in Compressed Sparse Row format>"
      ]
     },
     "execution_count": 83,
     "metadata": {},
     "output_type": "execute_result"
    }
   ],
   "source": [
    "train_vectorizado"
   ]
  },
  {
   "cell_type": "code",
   "execution_count": 84,
   "metadata": {},
   "outputs": [],
   "source": [
    "test_vectorizado = vectorizador_tfidf.transform(test['Opinion'])"
   ]
  },
  {
   "cell_type": "code",
   "execution_count": 85,
   "metadata": {},
   "outputs": [
    {
     "name": "stdout",
     "output_type": "stream",
     "text": [
      "['00' '000' '00am' ... 'útil' 'útlimo' 'ĺlegar']\n",
      "[[0. 0. 0. ... 0. 0. 0.]\n",
      " [0. 0. 0. ... 0. 0. 0.]\n",
      " [0. 0. 0. ... 0. 0. 0.]\n",
      " ...\n",
      " [0. 0. 0. ... 0. 0. 0.]\n",
      " [0. 0. 0. ... 0. 0. 0.]\n",
      " [0. 0. 0. ... 0. 0. 0.]]\n",
      "23452\n",
      "23452\n"
     ]
    }
   ],
   "source": [
    "print(vectorizador_tfidf.get_feature_names_out())\n",
    "print(train_vectorizado.toarray())\n",
    "print(len(train_vectorizado.toarray()[0]))\n",
    "print(len(vectorizador_tfidf.get_feature_names_out()))"
   ]
  },
  {
   "cell_type": "markdown",
   "metadata": {},
   "source": [
    "# Training ML models"
   ]
  },
  {
   "cell_type": "markdown",
   "metadata": {},
   "source": [
    "## Without NLTK"
   ]
  },
  {
   "cell_type": "code",
   "execution_count": 90,
   "metadata": {},
   "outputs": [],
   "source": [
    "x_train = train_vectorizado.toarray()\n",
    "y_train = train['Polarity']\n",
    "x_test = test_vectorizado\n",
    "y_test = test['Polarity']\n"
   ]
  },
  {
   "cell_type": "code",
   "execution_count": 124,
   "metadata": {},
   "outputs": [
    {
     "name": "stdout",
     "output_type": "stream",
     "text": [
      "[[0. 0. 0. ... 0. 0. 0.]\n",
      " [0. 0. 0. ... 0. 0. 0.]\n",
      " [0. 0. 0. ... 0. 0. 0.]\n",
      " ...\n",
      " [0. 0. 0. ... 0. 0. 0.]\n",
      " [0. 0. 0. ... 0. 0. 0.]\n",
      " [0. 0. 0. ... 0. 0. 0.]]\n"
     ]
    }
   ],
   "source": [
    "print(x_train)"
   ]
  },
  {
   "cell_type": "code",
   "execution_count": 122,
   "metadata": {},
   "outputs": [
    {
     "name": "stdout",
     "output_type": "stream",
     "text": [
      "<class 'numpy.ndarray'>\n"
     ]
    }
   ],
   "source": [
    "print(type(train[['polaridad_positiva','polaridad_negativa']].values))"
   ]
  },
  {
   "cell_type": "code",
   "execution_count": 123,
   "metadata": {},
   "outputs": [
    {
     "name": "stdout",
     "output_type": "stream",
     "text": [
      "[[4.01  0.   ]\n",
      " [7.01  2.413]\n",
      " [2.06  1.025]\n",
      " ...\n",
      " [2.192 1.588]\n",
      " [3.753 0.   ]\n",
      " [4.822 1.588]]\n"
     ]
    }
   ],
   "source": [
    "print(train[['polaridad_positiva','polaridad_negativa']].values)"
   ]
  },
  {
   "cell_type": "code",
   "execution_count": 134,
   "metadata": {},
   "outputs": [
    {
     "name": "stdout",
     "output_type": "stream",
     "text": [
      "Shape of x_train: (8000, 23452)\n",
      "Shape of polaridad: (8000, 2)\n",
      "[[0.    0.    0.    ... 0.    4.01  0.   ]\n",
      " [0.    0.    0.    ... 0.    7.01  2.413]\n",
      " [0.    0.    0.    ... 0.    2.06  1.025]\n",
      " ...\n",
      " [0.    0.    0.    ... 0.    2.192 1.588]\n",
      " [0.    0.    0.    ... 0.    3.753 0.   ]\n",
      " [0.    0.    0.    ... 0.    4.822 1.588]]\n"
     ]
    }
   ],
   "source": [
    "\n",
    "polaridad = train[['polaridad_positiva','polaridad_negativa']].values\n",
    "\n",
    "print(\"Shape of x_train:\", x_train.shape)\n",
    "print(\"Shape of polaridad:\", polaridad.shape)\n",
    "\n",
    "from scipy.sparse import csr_matrix\n",
    "\n",
    "x_train_sparse = csr_matrix(x_train)\n",
    "polaridad_sparse = csr_matrix(polaridad)\n",
    "\n",
    "x_train_lexicon = hstack((x_train_sparse, polaridad_sparse)).toarray()\n",
    "print(x_train_lexicon)"
   ]
  },
  {
   "cell_type": "code",
   "execution_count": 135,
   "metadata": {},
   "outputs": [
    {
     "name": "stdout",
     "output_type": "stream",
     "text": [
      "Shape of x_test: (2000, 23452)\n",
      "Shape of polaridad_test: (2000, 2)\n",
      "[[0.    0.    0.    ... 0.    1.131 0.   ]\n",
      " [0.    0.    0.    ... 0.    1.097 0.   ]\n",
      " [0.    0.    0.    ... 0.    1.493 0.   ]\n",
      " ...\n",
      " [0.    0.    0.    ... 0.    0.297 0.   ]\n",
      " [0.    0.    0.    ... 0.    1.292 0.099]\n",
      " [0.    0.    0.    ... 0.    0.594 0.033]]\n"
     ]
    }
   ],
   "source": [
    "polaridad_test = test[['polaridad_positiva','polaridad_negativa']].values\n",
    "\n",
    "print(\"Shape of x_test:\", x_test.shape)\n",
    "print(\"Shape of polaridad_test:\", polaridad_test.shape)\n",
    "\n",
    "x_test_sparse = csr_matrix(x_test)\n",
    "polaridad_test_sparse = csr_matrix(polaridad_test)\n",
    "\n",
    "x_test_lexicon = hstack((x_test_sparse, polaridad_test_sparse)).toarray()\n",
    "print(x_test_lexicon)"
   ]
  },
  {
   "cell_type": "code",
   "execution_count": 137,
   "metadata": {},
   "outputs": [],
   "source": [
    "clf_polarity = LogisticRegression(max_iter=10000)\n",
    "clf_polarity.fit(x_train_lexicon,y_train)\n",
    "y_pred = clf_polarity.predict(x_test_lexicon)"
   ]
  },
  {
   "cell_type": "code",
   "execution_count": 17,
   "metadata": {},
   "outputs": [],
   "source": [
    "clf_bayes = MultinomialNB()\n",
    "clf_bayes.fit(x_train, y_train)\n",
    "y_pred = clf_bayes.predict(x_test)"
   ]
  },
  {
   "cell_type": "markdown",
   "metadata": {},
   "source": [
    "### Lematizacion, stop words. Binarizado. Logistic Regression:"
   ]
  },
  {
   "cell_type": "code",
   "execution_count": 44,
   "metadata": {},
   "outputs": [
    {
     "name": "stdout",
     "output_type": "stream",
     "text": [
      "              precision    recall  f1-score   support\n",
      "\n",
      "           1       0.00      0.00      0.00       110\n",
      "           2       0.00      0.00      0.00       136\n",
      "           3       0.00      0.00      0.00       446\n",
      "           4       0.58      1.00      0.73      1154\n",
      "           5       0.00      0.00      0.00       154\n",
      "\n",
      "    accuracy                           0.58      2000\n",
      "   macro avg       0.12      0.20      0.15      2000\n",
      "weighted avg       0.33      0.58      0.42      2000\n",
      "\n"
     ]
    },
    {
     "name": "stderr",
     "output_type": "stream",
     "text": [
      "c:\\Users\\sergi\\miniconda3\\envs\\cursoNLP\\Lib\\site-packages\\sklearn\\metrics\\_classification.py:1469: UndefinedMetricWarning: Precision and F-score are ill-defined and being set to 0.0 in labels with no predicted samples. Use `zero_division` parameter to control this behavior.\n",
      "  _warn_prf(average, modifier, msg_start, len(result))\n",
      "c:\\Users\\sergi\\miniconda3\\envs\\cursoNLP\\Lib\\site-packages\\sklearn\\metrics\\_classification.py:1469: UndefinedMetricWarning: Precision and F-score are ill-defined and being set to 0.0 in labels with no predicted samples. Use `zero_division` parameter to control this behavior.\n",
      "  _warn_prf(average, modifier, msg_start, len(result))\n",
      "c:\\Users\\sergi\\miniconda3\\envs\\cursoNLP\\Lib\\site-packages\\sklearn\\metrics\\_classification.py:1469: UndefinedMetricWarning: Precision and F-score are ill-defined and being set to 0.0 in labels with no predicted samples. Use `zero_division` parameter to control this behavior.\n",
      "  _warn_prf(average, modifier, msg_start, len(result))\n"
     ]
    }
   ],
   "source": [
    "print(classification_report(y_test,y_pred))"
   ]
  },
  {
   "cell_type": "code",
   "execution_count": null,
   "metadata": {},
   "outputs": [],
   "source": []
  },
  {
   "cell_type": "markdown",
   "metadata": {},
   "source": [
    "### Lematizacion, stop words. Frecuencia. Logistic Regression:"
   ]
  },
  {
   "cell_type": "code",
   "execution_count": 45,
   "metadata": {},
   "outputs": [
    {
     "name": "stdout",
     "output_type": "stream",
     "text": [
      "              precision    recall  f1-score   support\n",
      "\n",
      "           1       0.00      0.00      0.00       110\n",
      "           2       0.00      0.00      0.00       136\n",
      "           3       0.00      0.00      0.00       446\n",
      "           4       0.58      1.00      0.73      1154\n",
      "           5       0.00      0.00      0.00       154\n",
      "\n",
      "    accuracy                           0.58      2000\n",
      "   macro avg       0.12      0.20      0.15      2000\n",
      "weighted avg       0.33      0.58      0.42      2000\n",
      "\n"
     ]
    },
    {
     "name": "stderr",
     "output_type": "stream",
     "text": [
      "c:\\Users\\sergi\\miniconda3\\envs\\cursoNLP\\Lib\\site-packages\\sklearn\\metrics\\_classification.py:1469: UndefinedMetricWarning: Precision and F-score are ill-defined and being set to 0.0 in labels with no predicted samples. Use `zero_division` parameter to control this behavior.\n",
      "  _warn_prf(average, modifier, msg_start, len(result))\n",
      "c:\\Users\\sergi\\miniconda3\\envs\\cursoNLP\\Lib\\site-packages\\sklearn\\metrics\\_classification.py:1469: UndefinedMetricWarning: Precision and F-score are ill-defined and being set to 0.0 in labels with no predicted samples. Use `zero_division` parameter to control this behavior.\n",
      "  _warn_prf(average, modifier, msg_start, len(result))\n",
      "c:\\Users\\sergi\\miniconda3\\envs\\cursoNLP\\Lib\\site-packages\\sklearn\\metrics\\_classification.py:1469: UndefinedMetricWarning: Precision and F-score are ill-defined and being set to 0.0 in labels with no predicted samples. Use `zero_division` parameter to control this behavior.\n",
      "  _warn_prf(average, modifier, msg_start, len(result))\n"
     ]
    }
   ],
   "source": [
    "print(classification_report(y_test,y_pred))"
   ]
  },
  {
   "cell_type": "markdown",
   "metadata": {},
   "source": [
    "### Lematizacion, stop words. Tf-idf. Logistic Regression:"
   ]
  },
  {
   "cell_type": "code",
   "execution_count": 46,
   "metadata": {},
   "outputs": [
    {
     "name": "stdout",
     "output_type": "stream",
     "text": [
      "              precision    recall  f1-score   support\n",
      "\n",
      "           1       0.00      0.00      0.00       110\n",
      "           2       0.00      0.00      0.00       136\n",
      "           3       0.00      0.00      0.00       446\n",
      "           4       0.58      1.00      0.73      1154\n",
      "           5       0.00      0.00      0.00       154\n",
      "\n",
      "    accuracy                           0.58      2000\n",
      "   macro avg       0.12      0.20      0.15      2000\n",
      "weighted avg       0.33      0.58      0.42      2000\n",
      "\n"
     ]
    },
    {
     "name": "stderr",
     "output_type": "stream",
     "text": [
      "c:\\Users\\sergi\\miniconda3\\envs\\cursoNLP\\Lib\\site-packages\\sklearn\\metrics\\_classification.py:1469: UndefinedMetricWarning: Precision and F-score are ill-defined and being set to 0.0 in labels with no predicted samples. Use `zero_division` parameter to control this behavior.\n",
      "  _warn_prf(average, modifier, msg_start, len(result))\n",
      "c:\\Users\\sergi\\miniconda3\\envs\\cursoNLP\\Lib\\site-packages\\sklearn\\metrics\\_classification.py:1469: UndefinedMetricWarning: Precision and F-score are ill-defined and being set to 0.0 in labels with no predicted samples. Use `zero_division` parameter to control this behavior.\n",
      "  _warn_prf(average, modifier, msg_start, len(result))\n",
      "c:\\Users\\sergi\\miniconda3\\envs\\cursoNLP\\Lib\\site-packages\\sklearn\\metrics\\_classification.py:1469: UndefinedMetricWarning: Precision and F-score are ill-defined and being set to 0.0 in labels with no predicted samples. Use `zero_division` parameter to control this behavior.\n",
      "  _warn_prf(average, modifier, msg_start, len(result))\n"
     ]
    }
   ],
   "source": [
    "print(classification_report(y_test,y_pred))"
   ]
  },
  {
   "cell_type": "markdown",
   "metadata": {},
   "source": [
    "### Lematizacion, stop words. Tf-idf. Multinomial Naive Bayes"
   ]
  },
  {
   "cell_type": "code",
   "execution_count": 47,
   "metadata": {},
   "outputs": [
    {
     "name": "stdout",
     "output_type": "stream",
     "text": [
      "              precision    recall  f1-score   support\n",
      "\n",
      "           1       0.00      0.00      0.00       110\n",
      "           2       0.00      0.00      0.00       136\n",
      "           3       0.00      0.00      0.00       446\n",
      "           4       0.58      1.00      0.73      1154\n",
      "           5       0.00      0.00      0.00       154\n",
      "\n",
      "    accuracy                           0.58      2000\n",
      "   macro avg       0.12      0.20      0.15      2000\n",
      "weighted avg       0.33      0.58      0.42      2000\n",
      "\n"
     ]
    },
    {
     "name": "stderr",
     "output_type": "stream",
     "text": [
      "c:\\Users\\sergi\\miniconda3\\envs\\cursoNLP\\Lib\\site-packages\\sklearn\\metrics\\_classification.py:1469: UndefinedMetricWarning: Precision and F-score are ill-defined and being set to 0.0 in labels with no predicted samples. Use `zero_division` parameter to control this behavior.\n",
      "  _warn_prf(average, modifier, msg_start, len(result))\n",
      "c:\\Users\\sergi\\miniconda3\\envs\\cursoNLP\\Lib\\site-packages\\sklearn\\metrics\\_classification.py:1469: UndefinedMetricWarning: Precision and F-score are ill-defined and being set to 0.0 in labels with no predicted samples. Use `zero_division` parameter to control this behavior.\n",
      "  _warn_prf(average, modifier, msg_start, len(result))\n",
      "c:\\Users\\sergi\\miniconda3\\envs\\cursoNLP\\Lib\\site-packages\\sklearn\\metrics\\_classification.py:1469: UndefinedMetricWarning: Precision and F-score are ill-defined and being set to 0.0 in labels with no predicted samples. Use `zero_division` parameter to control this behavior.\n",
      "  _warn_prf(average, modifier, msg_start, len(result))\n"
     ]
    }
   ],
   "source": [
    "print(classification_report(y_test, y_pred))"
   ]
  },
  {
   "cell_type": "markdown",
   "metadata": {},
   "source": [
    "## With NLTK"
   ]
  },
  {
   "cell_type": "markdown",
   "metadata": {},
   "source": [
    "### Lematizacion, stop words. Binarizado. Logistic Regression:"
   ]
  },
  {
   "cell_type": "code",
   "execution_count": 24,
   "metadata": {},
   "outputs": [
    {
     "name": "stdout",
     "output_type": "stream",
     "text": [
      "              precision    recall  f1-score   support\n",
      "\n",
      "           1       0.68      0.21      0.32       109\n",
      "           2       0.44      0.05      0.09       143\n",
      "           3       0.43      0.27      0.33       409\n",
      "           4       0.69      0.95      0.80      1201\n",
      "           5       0.74      0.10      0.18       138\n",
      "\n",
      "    accuracy                           0.65      2000\n",
      "   macro avg       0.59      0.32      0.34      2000\n",
      "weighted avg       0.62      0.65      0.58      2000\n",
      "\n"
     ]
    }
   ],
   "source": [
    "print(classification_report(y_test,y_pred))"
   ]
  },
  {
   "cell_type": "markdown",
   "metadata": {},
   "source": [
    "### Lematizacion, stop words. Frecuencia. Logistic Regression:"
   ]
  },
  {
   "cell_type": "code",
   "execution_count": 138,
   "metadata": {},
   "outputs": [
    {
     "name": "stdout",
     "output_type": "stream",
     "text": [
      "              precision    recall  f1-score   support\n",
      "\n",
      "           1       0.48      0.19      0.28       113\n",
      "           2       0.33      0.06      0.11       144\n",
      "           3       0.40      0.27      0.32       400\n",
      "           4       0.68      0.94      0.79      1187\n",
      "           5       0.77      0.13      0.22       156\n",
      "\n",
      "    accuracy                           0.63      2000\n",
      "   macro avg       0.53      0.32      0.34      2000\n",
      "weighted avg       0.59      0.63      0.57      2000\n",
      "\n"
     ]
    }
   ],
   "source": [
    "print(classification_report(y_test,y_pred))"
   ]
  },
  {
   "cell_type": "code",
   "execution_count": 139,
   "metadata": {},
   "outputs": [
    {
     "name": "stderr",
     "output_type": "stream",
     "text": [
      "[Parallel(n_jobs=-1)]: Using backend LokyBackend with 8 concurrent workers.\n"
     ]
    },
    {
     "ename": "KeyboardInterrupt",
     "evalue": "",
     "output_type": "error",
     "traceback": [
      "\u001b[1;31m---------------------------------------------------------------------------\u001b[0m",
      "\u001b[1;31mKeyboardInterrupt\u001b[0m                         Traceback (most recent call last)",
      "\u001b[1;32mc:\\Users\\sergi\\Desktop\\escom\\septimo\\practica5\\practice5_2.ipynb Cell 59\u001b[0m line \u001b[0;36m1\n\u001b[1;32m----> <a href='vscode-notebook-cell:/c%3A/Users/sergi/Desktop/escom/septimo/practica5/practice5_2.ipynb#Y101sZmlsZQ%3D%3D?line=0'>1</a>\u001b[0m cv_results \u001b[39m=\u001b[39m cross_validate(clf_polarity, x_train,y_train, cv\u001b[39m=\u001b[39;49m\u001b[39m5\u001b[39;49m, scoring\u001b[39m=\u001b[39;49m\u001b[39m'\u001b[39;49m\u001b[39mf1_macro\u001b[39;49m\u001b[39m'\u001b[39;49m, verbose \u001b[39m=\u001b[39;49m \u001b[39m3\u001b[39;49m, n_jobs \u001b[39m=\u001b[39;49m \u001b[39m-\u001b[39;49m\u001b[39m1\u001b[39;49m)\n",
      "File \u001b[1;32mc:\\Users\\sergi\\miniconda3\\envs\\cursoNLP\\Lib\\site-packages\\sklearn\\utils\\_param_validation.py:211\u001b[0m, in \u001b[0;36mvalidate_params.<locals>.decorator.<locals>.wrapper\u001b[1;34m(*args, **kwargs)\u001b[0m\n\u001b[0;32m    205\u001b[0m \u001b[39mtry\u001b[39;00m:\n\u001b[0;32m    206\u001b[0m     \u001b[39mwith\u001b[39;00m config_context(\n\u001b[0;32m    207\u001b[0m         skip_parameter_validation\u001b[39m=\u001b[39m(\n\u001b[0;32m    208\u001b[0m             prefer_skip_nested_validation \u001b[39mor\u001b[39;00m global_skip_validation\n\u001b[0;32m    209\u001b[0m         )\n\u001b[0;32m    210\u001b[0m     ):\n\u001b[1;32m--> 211\u001b[0m         \u001b[39mreturn\u001b[39;00m func(\u001b[39m*\u001b[39;49margs, \u001b[39m*\u001b[39;49m\u001b[39m*\u001b[39;49mkwargs)\n\u001b[0;32m    212\u001b[0m \u001b[39mexcept\u001b[39;00m InvalidParameterError \u001b[39mas\u001b[39;00m e:\n\u001b[0;32m    213\u001b[0m     \u001b[39m# When the function is just a wrapper around an estimator, we allow\u001b[39;00m\n\u001b[0;32m    214\u001b[0m     \u001b[39m# the function to delegate validation to the estimator, but we replace\u001b[39;00m\n\u001b[0;32m    215\u001b[0m     \u001b[39m# the name of the estimator by the name of the function in the error\u001b[39;00m\n\u001b[0;32m    216\u001b[0m     \u001b[39m# message to avoid confusion.\u001b[39;00m\n\u001b[0;32m    217\u001b[0m     msg \u001b[39m=\u001b[39m re\u001b[39m.\u001b[39msub(\n\u001b[0;32m    218\u001b[0m         \u001b[39mr\u001b[39m\u001b[39m\"\u001b[39m\u001b[39mparameter of \u001b[39m\u001b[39m\\\u001b[39m\u001b[39mw+ must be\u001b[39m\u001b[39m\"\u001b[39m,\n\u001b[0;32m    219\u001b[0m         \u001b[39mf\u001b[39m\u001b[39m\"\u001b[39m\u001b[39mparameter of \u001b[39m\u001b[39m{\u001b[39;00mfunc\u001b[39m.\u001b[39m\u001b[39m__qualname__\u001b[39m\u001b[39m}\u001b[39;00m\u001b[39m must be\u001b[39m\u001b[39m\"\u001b[39m,\n\u001b[0;32m    220\u001b[0m         \u001b[39mstr\u001b[39m(e),\n\u001b[0;32m    221\u001b[0m     )\n",
      "File \u001b[1;32mc:\\Users\\sergi\\miniconda3\\envs\\cursoNLP\\Lib\\site-packages\\sklearn\\model_selection\\_validation.py:309\u001b[0m, in \u001b[0;36mcross_validate\u001b[1;34m(estimator, X, y, groups, scoring, cv, n_jobs, verbose, fit_params, pre_dispatch, return_train_score, return_estimator, return_indices, error_score)\u001b[0m\n\u001b[0;32m    306\u001b[0m \u001b[39m# We clone the estimator to make sure that all the folds are\u001b[39;00m\n\u001b[0;32m    307\u001b[0m \u001b[39m# independent, and that it is pickle-able.\u001b[39;00m\n\u001b[0;32m    308\u001b[0m parallel \u001b[39m=\u001b[39m Parallel(n_jobs\u001b[39m=\u001b[39mn_jobs, verbose\u001b[39m=\u001b[39mverbose, pre_dispatch\u001b[39m=\u001b[39mpre_dispatch)\n\u001b[1;32m--> 309\u001b[0m results \u001b[39m=\u001b[39m parallel(\n\u001b[0;32m    310\u001b[0m     delayed(_fit_and_score)(\n\u001b[0;32m    311\u001b[0m         clone(estimator),\n\u001b[0;32m    312\u001b[0m         X,\n\u001b[0;32m    313\u001b[0m         y,\n\u001b[0;32m    314\u001b[0m         scorers,\n\u001b[0;32m    315\u001b[0m         train,\n\u001b[0;32m    316\u001b[0m         test,\n\u001b[0;32m    317\u001b[0m         verbose,\n\u001b[0;32m    318\u001b[0m         \u001b[39mNone\u001b[39;49;00m,\n\u001b[0;32m    319\u001b[0m         fit_params,\n\u001b[0;32m    320\u001b[0m         return_train_score\u001b[39m=\u001b[39;49mreturn_train_score,\n\u001b[0;32m    321\u001b[0m         return_times\u001b[39m=\u001b[39;49m\u001b[39mTrue\u001b[39;49;00m,\n\u001b[0;32m    322\u001b[0m         return_estimator\u001b[39m=\u001b[39;49mreturn_estimator,\n\u001b[0;32m    323\u001b[0m         error_score\u001b[39m=\u001b[39;49merror_score,\n\u001b[0;32m    324\u001b[0m     )\n\u001b[0;32m    325\u001b[0m     \u001b[39mfor\u001b[39;49;00m train, test \u001b[39min\u001b[39;49;00m indices\n\u001b[0;32m    326\u001b[0m )\n\u001b[0;32m    328\u001b[0m _warn_or_raise_about_fit_failures(results, error_score)\n\u001b[0;32m    330\u001b[0m \u001b[39m# For callable scoring, the return type is only know after calling. If the\u001b[39;00m\n\u001b[0;32m    331\u001b[0m \u001b[39m# return type is a dictionary, the error scores can now be inserted with\u001b[39;00m\n\u001b[0;32m    332\u001b[0m \u001b[39m# the correct key.\u001b[39;00m\n",
      "File \u001b[1;32mc:\\Users\\sergi\\miniconda3\\envs\\cursoNLP\\Lib\\site-packages\\sklearn\\utils\\parallel.py:65\u001b[0m, in \u001b[0;36mParallel.__call__\u001b[1;34m(self, iterable)\u001b[0m\n\u001b[0;32m     60\u001b[0m config \u001b[39m=\u001b[39m get_config()\n\u001b[0;32m     61\u001b[0m iterable_with_config \u001b[39m=\u001b[39m (\n\u001b[0;32m     62\u001b[0m     (_with_config(delayed_func, config), args, kwargs)\n\u001b[0;32m     63\u001b[0m     \u001b[39mfor\u001b[39;00m delayed_func, args, kwargs \u001b[39min\u001b[39;00m iterable\n\u001b[0;32m     64\u001b[0m )\n\u001b[1;32m---> 65\u001b[0m \u001b[39mreturn\u001b[39;00m \u001b[39msuper\u001b[39;49m()\u001b[39m.\u001b[39;49m\u001b[39m__call__\u001b[39;49m(iterable_with_config)\n",
      "File \u001b[1;32mc:\\Users\\sergi\\miniconda3\\envs\\cursoNLP\\Lib\\site-packages\\joblib\\parallel.py:1952\u001b[0m, in \u001b[0;36mParallel.__call__\u001b[1;34m(self, iterable)\u001b[0m\n\u001b[0;32m   1946\u001b[0m \u001b[39m# The first item from the output is blank, but it makes the interpreter\u001b[39;00m\n\u001b[0;32m   1947\u001b[0m \u001b[39m# progress until it enters the Try/Except block of the generator and\u001b[39;00m\n\u001b[0;32m   1948\u001b[0m \u001b[39m# reach the first `yield` statement. This starts the aynchronous\u001b[39;00m\n\u001b[0;32m   1949\u001b[0m \u001b[39m# dispatch of the tasks to the workers.\u001b[39;00m\n\u001b[0;32m   1950\u001b[0m \u001b[39mnext\u001b[39m(output)\n\u001b[1;32m-> 1952\u001b[0m \u001b[39mreturn\u001b[39;00m output \u001b[39mif\u001b[39;00m \u001b[39mself\u001b[39m\u001b[39m.\u001b[39mreturn_generator \u001b[39melse\u001b[39;00m \u001b[39mlist\u001b[39;49m(output)\n",
      "File \u001b[1;32mc:\\Users\\sergi\\miniconda3\\envs\\cursoNLP\\Lib\\site-packages\\joblib\\parallel.py:1595\u001b[0m, in \u001b[0;36mParallel._get_outputs\u001b[1;34m(self, iterator, pre_dispatch)\u001b[0m\n\u001b[0;32m   1592\u001b[0m     \u001b[39myield\u001b[39;00m\n\u001b[0;32m   1594\u001b[0m     \u001b[39mwith\u001b[39;00m \u001b[39mself\u001b[39m\u001b[39m.\u001b[39m_backend\u001b[39m.\u001b[39mretrieval_context():\n\u001b[1;32m-> 1595\u001b[0m         \u001b[39myield from\u001b[39;00m \u001b[39mself\u001b[39m\u001b[39m.\u001b[39m_retrieve()\n\u001b[0;32m   1597\u001b[0m \u001b[39mexcept\u001b[39;00m \u001b[39mGeneratorExit\u001b[39;00m:\n\u001b[0;32m   1598\u001b[0m     \u001b[39m# The generator has been garbage collected before being fully\u001b[39;00m\n\u001b[0;32m   1599\u001b[0m     \u001b[39m# consumed. This aborts the remaining tasks if possible and warn\u001b[39;00m\n\u001b[0;32m   1600\u001b[0m     \u001b[39m# the user if necessary.\u001b[39;00m\n\u001b[0;32m   1601\u001b[0m     \u001b[39mself\u001b[39m\u001b[39m.\u001b[39m_exception \u001b[39m=\u001b[39m \u001b[39mTrue\u001b[39;00m\n",
      "File \u001b[1;32mc:\\Users\\sergi\\miniconda3\\envs\\cursoNLP\\Lib\\site-packages\\joblib\\parallel.py:1707\u001b[0m, in \u001b[0;36mParallel._retrieve\u001b[1;34m(self)\u001b[0m\n\u001b[0;32m   1702\u001b[0m \u001b[39m# If the next job is not ready for retrieval yet, we just wait for\u001b[39;00m\n\u001b[0;32m   1703\u001b[0m \u001b[39m# async callbacks to progress.\u001b[39;00m\n\u001b[0;32m   1704\u001b[0m \u001b[39mif\u001b[39;00m ((\u001b[39mlen\u001b[39m(\u001b[39mself\u001b[39m\u001b[39m.\u001b[39m_jobs) \u001b[39m==\u001b[39m \u001b[39m0\u001b[39m) \u001b[39mor\u001b[39;00m\n\u001b[0;32m   1705\u001b[0m     (\u001b[39mself\u001b[39m\u001b[39m.\u001b[39m_jobs[\u001b[39m0\u001b[39m]\u001b[39m.\u001b[39mget_status(\n\u001b[0;32m   1706\u001b[0m         timeout\u001b[39m=\u001b[39m\u001b[39mself\u001b[39m\u001b[39m.\u001b[39mtimeout) \u001b[39m==\u001b[39m TASK_PENDING)):\n\u001b[1;32m-> 1707\u001b[0m     time\u001b[39m.\u001b[39msleep(\u001b[39m0.01\u001b[39m)\n\u001b[0;32m   1708\u001b[0m     \u001b[39mcontinue\u001b[39;00m\n\u001b[0;32m   1710\u001b[0m \u001b[39m# We need to be careful: the job list can be filling up as\u001b[39;00m\n\u001b[0;32m   1711\u001b[0m \u001b[39m# we empty it and Python list are not thread-safe by\u001b[39;00m\n\u001b[0;32m   1712\u001b[0m \u001b[39m# default hence the use of the lock\u001b[39;00m\n",
      "\u001b[1;31mKeyboardInterrupt\u001b[0m: "
     ]
    }
   ],
   "source": [
    "cv_results = cross_validate(clf_polarity, x_train,y_train, cv=5, scoring='f1_macro', verbose = 3, n_jobs = -1)"
   ]
  },
  {
   "cell_type": "code",
   "execution_count": null,
   "metadata": {},
   "outputs": [
    {
     "data": {
      "text/plain": [
       "0.27621456039405234"
      ]
     },
     "execution_count": 38,
     "metadata": {},
     "output_type": "execute_result"
    }
   ],
   "source": [
    "cv_results['test_score'].mean()"
   ]
  }
 ],
 "metadata": {
  "kernelspec": {
   "display_name": "Python 3 (ipykernel)",
   "language": "python",
   "name": "python3"
  },
  "language_info": {
   "codemirror_mode": {
    "name": "ipython",
    "version": 3
   },
   "file_extension": ".py",
   "mimetype": "text/x-python",
   "name": "python",
   "nbconvert_exporter": "python",
   "pygments_lexer": "ipython3",
   "version": "3.11.5"
  }
 },
 "nbformat": 4,
 "nbformat_minor": 5
}
