{
 "cells": [
  {
   "cell_type": "code",
   "execution_count": 3,
   "id": "f27a1ea6-4cc1-4f5f-8d4c-0517ef83f9a8",
   "metadata": {},
   "outputs": [],
   "source": [
    "import csv\n",
    "import pandas as pd\n",
    "import pickle\n",
    "import re\n",
    "from sklearn.model_selection import train_test_split\n",
    "import spacy\n",
    "from sklearn.feature_extraction.text import TfidfVectorizer\n",
    "from sklearn.feature_extraction.text import CountVectorizer\n",
    "from sklearn.linear_model import LogisticRegression\n",
    "from sklearn.naive_bayes import MultinomialNB\n",
    "from sklearn.metrics import classification_report\n",
    "import numpy as np\n",
    "import os.path\n",
    "import nltk\n",
    "from nltk.corpus import stopwords\n",
    "from nltk.tokenize import word_tokenize\n",
    "from nltk.stem import WordNetLemmatizer\n",
    "from sklearn.model_selection import cross_validate"
   ]
  },
  {
   "cell_type": "code",
   "execution_count": 4,
   "id": "9e41db94-749d-4516-bb5b-1d69c8cd354d",
   "metadata": {},
   "outputs": [
    {
     "data": {
      "text/html": [
       "<div>\n",
       "<style scoped>\n",
       "    .dataframe tbody tr th:only-of-type {\n",
       "        vertical-align: middle;\n",
       "    }\n",
       "\n",
       "    .dataframe tbody tr th {\n",
       "        vertical-align: top;\n",
       "    }\n",
       "\n",
       "    .dataframe thead th {\n",
       "        text-align: right;\n",
       "    }\n",
       "</style>\n",
       "<table border=\"1\" class=\"dataframe\">\n",
       "  <thead>\n",
       "    <tr style=\"text-align: right;\">\n",
       "      <th></th>\n",
       "      <th>Title</th>\n",
       "      <th>Opinion</th>\n",
       "      <th>Polarity</th>\n",
       "      <th>Attraction</th>\n",
       "    </tr>\n",
       "  </thead>\n",
       "  <tbody>\n",
       "    <tr>\n",
       "      <th>0</th>\n",
       "      <td>Pésimo lugar</td>\n",
       "      <td>Piensen dos veces antes de ir a este hotel, te...</td>\n",
       "      <td>1</td>\n",
       "      <td>Hotel</td>\n",
       "    </tr>\n",
       "    <tr>\n",
       "      <th>1</th>\n",
       "      <td>No vayas a lugar de Eddie</td>\n",
       "      <td>Cuatro de nosotros fuimos recientemente a Eddi...</td>\n",
       "      <td>1</td>\n",
       "      <td>Restaurant</td>\n",
       "    </tr>\n",
       "    <tr>\n",
       "      <th>2</th>\n",
       "      <td>Mala relación calidad-precio</td>\n",
       "      <td>seguiré corta y simple: limpieza\\n- bad. Tengo...</td>\n",
       "      <td>1</td>\n",
       "      <td>Hotel</td>\n",
       "    </tr>\n",
       "    <tr>\n",
       "      <th>3</th>\n",
       "      <td>Minusválido? ¡No te alojes aquí!</td>\n",
       "      <td>Al reservar un hotel con multipropiedad Mayan ...</td>\n",
       "      <td>1</td>\n",
       "      <td>Hotel</td>\n",
       "    </tr>\n",
       "    <tr>\n",
       "      <th>4</th>\n",
       "      <td>Es una porqueria no pierdan su tiempo</td>\n",
       "      <td>No pierdan su tiempo ni dinero, venimos porque...</td>\n",
       "      <td>1</td>\n",
       "      <td>Hotel</td>\n",
       "    </tr>\n",
       "    <tr>\n",
       "      <th>5</th>\n",
       "      <td>El peor huevos Benedict jamás</td>\n",
       "      <td>Hoy teníamos el desayuno por segunda vez en po...</td>\n",
       "      <td>1</td>\n",
       "      <td>Restaurant</td>\n",
       "    </tr>\n",
       "    <tr>\n",
       "      <th>6</th>\n",
       "      <td>Definitivamente no volvería a hospedarme en Sa...</td>\n",
       "      <td>El hotel en si no es malo, pero mi experiencia...</td>\n",
       "      <td>1</td>\n",
       "      <td>Hotel</td>\n",
       "    </tr>\n",
       "    <tr>\n",
       "      <th>7</th>\n",
       "      <td>Terrible</td>\n",
       "      <td>No estoy seguro de por qué este restaurante ti...</td>\n",
       "      <td>1</td>\n",
       "      <td>Restaurant</td>\n",
       "    </tr>\n",
       "    <tr>\n",
       "      <th>8</th>\n",
       "      <td>Bebidas ADULTERADAS, FATAL mi experiencia!!!</td>\n",
       "      <td>Llegué a este hotel “por desgracia” mi reserva...</td>\n",
       "      <td>1</td>\n",
       "      <td>Hotel</td>\n",
       "    </tr>\n",
       "    <tr>\n",
       "      <th>9</th>\n",
       "      <td>Hotel ha ido cuesta abajo</td>\n",
       "      <td>Hemos estado viniendo a Villa la Estancia dura...</td>\n",
       "      <td>1</td>\n",
       "      <td>Hotel</td>\n",
       "    </tr>\n",
       "  </tbody>\n",
       "</table>\n",
       "</div>"
      ],
      "text/plain": [
       "                                               Title  \\\n",
       "0                                       Pésimo lugar   \n",
       "1                          No vayas a lugar de Eddie   \n",
       "2                       Mala relación calidad-precio   \n",
       "3                   Minusválido? ¡No te alojes aquí!   \n",
       "4              Es una porqueria no pierdan su tiempo   \n",
       "5                      El peor huevos Benedict jamás   \n",
       "6  Definitivamente no volvería a hospedarme en Sa...   \n",
       "7                                           Terrible   \n",
       "8       Bebidas ADULTERADAS, FATAL mi experiencia!!!   \n",
       "9                          Hotel ha ido cuesta abajo   \n",
       "\n",
       "                                             Opinion  Polarity  Attraction  \n",
       "0  Piensen dos veces antes de ir a este hotel, te...         1       Hotel  \n",
       "1  Cuatro de nosotros fuimos recientemente a Eddi...         1  Restaurant  \n",
       "2  seguiré corta y simple: limpieza\\n- bad. Tengo...         1       Hotel  \n",
       "3  Al reservar un hotel con multipropiedad Mayan ...         1       Hotel  \n",
       "4  No pierdan su tiempo ni dinero, venimos porque...         1       Hotel  \n",
       "5  Hoy teníamos el desayuno por segunda vez en po...         1  Restaurant  \n",
       "6  El hotel en si no es malo, pero mi experiencia...         1       Hotel  \n",
       "7  No estoy seguro de por qué este restaurante ti...         1  Restaurant  \n",
       "8  Llegué a este hotel “por desgracia” mi reserva...         1       Hotel  \n",
       "9  Hemos estado viniendo a Villa la Estancia dura...         1       Hotel  "
      ]
     },
     "execution_count": 4,
     "metadata": {},
     "output_type": "execute_result"
    }
   ],
   "source": [
    "data = pd.read_excel(\"Rest_Mex_2022.xlsx\")\n",
    "data.head(10)"
   ]
  },
  {
   "cell_type": "code",
   "execution_count": 18,
   "metadata": {},
   "outputs": [
    {
     "data": {
      "text/plain": [
       "'Aunque me parece algo hipócrita el arte de Rivera (todo lo ve desde fuera desde una zona segura), debo reconocer que tiene algunas obras que me agradan. Este museo es interesante por el simple hecho de conocer el primer hogar que fuera de Rivera. Bastante fancy. Está chido si te gusta ver cosas antiguas.'"
      ]
     },
     "execution_count": 18,
     "metadata": {},
     "output_type": "execute_result"
    }
   ],
   "source": [
    "data['Opinion'][7693]"
   ]
  },
  {
   "cell_type": "code",
   "execution_count": 5,
   "id": "454c3bb9-6cee-406c-93ad-d5bbf44016ee",
   "metadata": {},
   "outputs": [
    {
     "name": "stdout",
     "output_type": "stream",
     "text": [
      "                                      Title  \\\n",
      "0                              Pésimo lugar   \n",
      "1                 No vayas a lugar de Eddie   \n",
      "2              Mala relación calidad-precio   \n",
      "3          Minusválido? ¡No te alojes aquí!   \n",
      "4     Es una porqueria no pierdan su tiempo   \n",
      "...                                     ...   \n",
      "9995                               Vacacion   \n",
      "9996                 Excelente y muy barato   \n",
      "9997                      Mi lugar favorito   \n",
      "9998                     Joysquad excelente   \n",
      "9999               El hotel y sus empleados   \n",
      "\n",
      "                                                Opinion  Polarity  Attraction  \n",
      "0     Piensen dos veces antes de ir a este hotel, te...         1       Hotel  \n",
      "1     Cuatro de nosotros fuimos recientemente a Eddi...         1  Restaurant  \n",
      "2     seguiré corta y simple: limpieza\\n- bad. Tengo...         1       Hotel  \n",
      "3     Al reservar un hotel con multipropiedad Mayan ...         1       Hotel  \n",
      "4     No pierdan su tiempo ni dinero, venimos porque...         1       Hotel  \n",
      "...                                                 ...       ...         ...  \n",
      "9995  Un excelente lugar para vacacionar, servicio d...         5       Hotel  \n",
      "9996  Buena carne, tortillas recién hechas, queso fu...         5  Restaurant  \n",
      "9997  Siempre que vamos, y vamos muy seguido, comemo...         5  Restaurant  \n",
      "9998  Lisbhet de Torre Punta excelente servicio muy ...         5       Hotel  \n",
      "9999  El hotel samba es el mejor en su clase podrá v...         5       Hotel  \n",
      "\n",
      "[10000 rows x 4 columns]\n"
     ]
    }
   ],
   "source": [
    "myTest = data.head(10000)\n",
    "print(myTest)"
   ]
  },
  {
   "cell_type": "markdown",
   "metadata": {},
   "source": [
    "# Normalizacion"
   ]
  },
  {
   "cell_type": "code",
   "execution_count": 20,
   "metadata": {},
   "outputs": [],
   "source": [
    "# nlp = spacy.load(\"es_core_news_sm\")"
   ]
  },
  {
   "cell_type": "code",
   "execution_count": 6,
   "metadata": {},
   "outputs": [
    {
     "name": "stderr",
     "output_type": "stream",
     "text": [
      "[nltk_data] Downloading package stopwords to\n",
      "[nltk_data]     C:\\Users\\sergi\\AppData\\Roaming\\nltk_data...\n",
      "[nltk_data]   Package stopwords is already up-to-date!\n",
      "[nltk_data] Downloading package punkt to\n",
      "[nltk_data]     C:\\Users\\sergi\\AppData\\Roaming\\nltk_data...\n",
      "[nltk_data]   Package punkt is already up-to-date!\n",
      "[nltk_data] Downloading package wordnet to\n",
      "[nltk_data]     C:\\Users\\sergi\\AppData\\Roaming\\nltk_data...\n",
      "[nltk_data]   Package wordnet is already up-to-date!\n"
     ]
    }
   ],
   "source": [
    "nltk.download('stopwords')\n",
    "nltk.download('punkt')\n",
    "nltk.download('wordnet')\n",
    "\n",
    "def lemmatize_token(token):\n",
    "    lemmatizer = WordNetLemmatizer()\n",
    "    return lemmatizer.lemmatize(token)\n",
    "\n",
    "def tokenizar(doc):\n",
    "    if type(doc) != type(\"\"):\n",
    "        print(doc)\n",
    "        return \"\"\n",
    "\n",
    "    # Tokenize the document\n",
    "    tokens = word_tokenize(doc, language='spanish')\n",
    "\n",
    "    # Remove stop words and lemmatize\n",
    "    stop_words = set(stopwords.words('spanish'))\n",
    "    filtered_tokens = [lemmatize_token(token) for token in tokens if token.lower() not in stop_words]\n",
    "\n",
    "    # Join the filtered tokens into a string\n",
    "    res = \" \".join(filtered_tokens)\n",
    "\n",
    "    return res"
   ]
  },
  {
   "cell_type": "code",
   "execution_count": 7,
   "metadata": {},
   "outputs": [
    {
     "name": "stdout",
     "output_type": "stream",
     "text": [
      "nan\n"
     ]
    },
    {
     "name": "stderr",
     "output_type": "stream",
     "text": [
      "C:\\Users\\sergi\\AppData\\Local\\Temp\\ipykernel_2964\\77379802.py:1: SettingWithCopyWarning: \n",
      "A value is trying to be set on a copy of a slice from a DataFrame.\n",
      "Try using .loc[row_indexer,col_indexer] = value instead\n",
      "\n",
      "See the caveats in the documentation: https://pandas.pydata.org/pandas-docs/stable/user_guide/indexing.html#returning-a-view-versus-a-copy\n",
      "  myTest['Opinion'] = myTest['Opinion'].apply(tokenizar)\n"
     ]
    }
   ],
   "source": [
    "myTest['Opinion'] = myTest['Opinion'].apply(tokenizar)"
   ]
  },
  {
   "cell_type": "code",
   "execution_count": 8,
   "metadata": {},
   "outputs": [
    {
     "data": {
      "text/html": [
       "<div>\n",
       "<style scoped>\n",
       "    .dataframe tbody tr th:only-of-type {\n",
       "        vertical-align: middle;\n",
       "    }\n",
       "\n",
       "    .dataframe tbody tr th {\n",
       "        vertical-align: top;\n",
       "    }\n",
       "\n",
       "    .dataframe thead th {\n",
       "        text-align: right;\n",
       "    }\n",
       "</style>\n",
       "<table border=\"1\" class=\"dataframe\">\n",
       "  <thead>\n",
       "    <tr style=\"text-align: right;\">\n",
       "      <th></th>\n",
       "      <th>Title</th>\n",
       "      <th>Opinion</th>\n",
       "      <th>Polarity</th>\n",
       "      <th>Attraction</th>\n",
       "    </tr>\n",
       "  </thead>\n",
       "  <tbody>\n",
       "    <tr>\n",
       "      <th>0</th>\n",
       "      <td>Pésimo lugar</td>\n",
       "      <td>Piensen do veces ir hotel , molestan , hijo se...</td>\n",
       "      <td>1</td>\n",
       "      <td>Hotel</td>\n",
       "    </tr>\n",
       "    <tr>\n",
       "      <th>1</th>\n",
       "      <td>No vayas a lugar de Eddie</td>\n",
       "      <td>Cuatro recientemente Eddie 's Place . servicio...</td>\n",
       "      <td>1</td>\n",
       "      <td>Restaurant</td>\n",
       "    </tr>\n",
       "    <tr>\n",
       "      <th>2</th>\n",
       "      <td>Mala relación calidad-precio</td>\n",
       "      <td>seguiré corta simple : limpieza - bad . insist...</td>\n",
       "      <td>1</td>\n",
       "      <td>Hotel</td>\n",
       "    </tr>\n",
       "    <tr>\n",
       "      <th>3</th>\n",
       "      <td>Minusválido? ¡No te alojes aquí!</td>\n",
       "      <td>reservar hotel multipropiedad Mayan grupo dije...</td>\n",
       "      <td>1</td>\n",
       "      <td>Hotel</td>\n",
       "    </tr>\n",
       "    <tr>\n",
       "      <th>4</th>\n",
       "      <td>Es una porqueria no pierdan su tiempo</td>\n",
       "      <td>pierdan tiempo dinero , venimos boda aquí mism...</td>\n",
       "      <td>1</td>\n",
       "      <td>Hotel</td>\n",
       "    </tr>\n",
       "    <tr>\n",
       "      <th>...</th>\n",
       "      <td>...</td>\n",
       "      <td>...</td>\n",
       "      <td>...</td>\n",
       "      <td>...</td>\n",
       "    </tr>\n",
       "    <tr>\n",
       "      <th>9995</th>\n",
       "      <td>Vacacion</td>\n",
       "      <td>excelente lugar vacacionar , servicio primera ...</td>\n",
       "      <td>5</td>\n",
       "      <td>Hotel</td>\n",
       "    </tr>\n",
       "    <tr>\n",
       "      <th>9996</th>\n",
       "      <td>Excelente y muy barato</td>\n",
       "      <td>Buena carne , tortilla recién hechas , queso f...</td>\n",
       "      <td>5</td>\n",
       "      <td>Restaurant</td>\n",
       "    </tr>\n",
       "    <tr>\n",
       "      <th>9997</th>\n",
       "      <td>Mi lugar favorito</td>\n",
       "      <td>Siempre vamos , vamos seguido , comemos delici...</td>\n",
       "      <td>5</td>\n",
       "      <td>Restaurant</td>\n",
       "    </tr>\n",
       "    <tr>\n",
       "      <th>9998</th>\n",
       "      <td>Joysquad excelente</td>\n",
       "      <td>Lisbhet Torre Punta excelente servicio amable ...</td>\n",
       "      <td>5</td>\n",
       "      <td>Hotel</td>\n",
       "    </tr>\n",
       "    <tr>\n",
       "      <th>9999</th>\n",
       "      <td>El hotel y sus empleados</td>\n",
       "      <td>hotel samba mejor clase podrá ver hoteles mejo...</td>\n",
       "      <td>5</td>\n",
       "      <td>Hotel</td>\n",
       "    </tr>\n",
       "  </tbody>\n",
       "</table>\n",
       "<p>10000 rows × 4 columns</p>\n",
       "</div>"
      ],
      "text/plain": [
       "                                      Title  \\\n",
       "0                              Pésimo lugar   \n",
       "1                 No vayas a lugar de Eddie   \n",
       "2              Mala relación calidad-precio   \n",
       "3          Minusválido? ¡No te alojes aquí!   \n",
       "4     Es una porqueria no pierdan su tiempo   \n",
       "...                                     ...   \n",
       "9995                               Vacacion   \n",
       "9996                 Excelente y muy barato   \n",
       "9997                      Mi lugar favorito   \n",
       "9998                     Joysquad excelente   \n",
       "9999               El hotel y sus empleados   \n",
       "\n",
       "                                                Opinion  Polarity  Attraction  \n",
       "0     Piensen do veces ir hotel , molestan , hijo se...         1       Hotel  \n",
       "1     Cuatro recientemente Eddie 's Place . servicio...         1  Restaurant  \n",
       "2     seguiré corta simple : limpieza - bad . insist...         1       Hotel  \n",
       "3     reservar hotel multipropiedad Mayan grupo dije...         1       Hotel  \n",
       "4     pierdan tiempo dinero , venimos boda aquí mism...         1       Hotel  \n",
       "...                                                 ...       ...         ...  \n",
       "9995  excelente lugar vacacionar , servicio primera ...         5       Hotel  \n",
       "9996  Buena carne , tortilla recién hechas , queso f...         5  Restaurant  \n",
       "9997  Siempre vamos , vamos seguido , comemos delici...         5  Restaurant  \n",
       "9998  Lisbhet Torre Punta excelente servicio amable ...         5       Hotel  \n",
       "9999  hotel samba mejor clase podrá ver hoteles mejo...         5       Hotel  \n",
       "\n",
       "[10000 rows x 4 columns]"
      ]
     },
     "execution_count": 8,
     "metadata": {},
     "output_type": "execute_result"
    }
   ],
   "source": [
    "myTest"
   ]
  },
  {
   "cell_type": "code",
   "execution_count": 9,
   "metadata": {},
   "outputs": [
    {
     "data": {
      "text/plain": [
       "Polarity\n",
       "4    5878\n",
       "3    2121\n",
       "2     730\n",
       "5     724\n",
       "1     547\n",
       "Name: count, dtype: int64"
      ]
     },
     "execution_count": 9,
     "metadata": {},
     "output_type": "execute_result"
    }
   ],
   "source": [
    "myTest['Polarity'].value_counts()"
   ]
  },
  {
   "cell_type": "code",
   "execution_count": 25,
   "metadata": {},
   "outputs": [],
   "source": [
    "result = myTest[myTest['Opinion']==\"error\"]"
   ]
  },
  {
   "cell_type": "code",
   "execution_count": 26,
   "metadata": {},
   "outputs": [
    {
     "data": {
      "text/html": [
       "<div>\n",
       "<style scoped>\n",
       "    .dataframe tbody tr th:only-of-type {\n",
       "        vertical-align: middle;\n",
       "    }\n",
       "\n",
       "    .dataframe tbody tr th {\n",
       "        vertical-align: top;\n",
       "    }\n",
       "\n",
       "    .dataframe thead th {\n",
       "        text-align: right;\n",
       "    }\n",
       "</style>\n",
       "<table border=\"1\" class=\"dataframe\">\n",
       "  <thead>\n",
       "    <tr style=\"text-align: right;\">\n",
       "      <th></th>\n",
       "      <th>Title</th>\n",
       "      <th>Opinion</th>\n",
       "      <th>Polarity</th>\n",
       "      <th>Attraction</th>\n",
       "    </tr>\n",
       "  </thead>\n",
       "  <tbody>\n",
       "  </tbody>\n",
       "</table>\n",
       "</div>"
      ],
      "text/plain": [
       "Empty DataFrame\n",
       "Columns: [Title, Opinion, Polarity, Attraction]\n",
       "Index: []"
      ]
     },
     "execution_count": 26,
     "metadata": {},
     "output_type": "execute_result"
    }
   ],
   "source": [
    "result"
   ]
  },
  {
   "cell_type": "code",
   "execution_count": 27,
   "metadata": {},
   "outputs": [
    {
     "name": "stdout",
     "output_type": "stream",
     "text": [
      "2016-12-01 00:00:00\n",
      "2015-05-01 00:00:00\n"
     ]
    },
    {
     "name": "stderr",
     "output_type": "stream",
     "text": [
      "C:\\Users\\sergi\\AppData\\Local\\Temp\\ipykernel_21960\\745785095.py:1: SettingWithCopyWarning: \n",
      "A value is trying to be set on a copy of a slice from a DataFrame.\n",
      "Try using .loc[row_indexer,col_indexer] = value instead\n",
      "\n",
      "See the caveats in the documentation: https://pandas.pydata.org/pandas-docs/stable/user_guide/indexing.html#returning-a-view-versus-a-copy\n",
      "  myTest['Title'] = myTest['Title'].apply(tokenizar)\n"
     ]
    }
   ],
   "source": [
    "myTest['Title'] = myTest['Title'].apply(tokenizar)"
   ]
  },
  {
   "cell_type": "code",
   "execution_count": 10,
   "metadata": {},
   "outputs": [
    {
     "data": {
      "text/html": [
       "<div>\n",
       "<style scoped>\n",
       "    .dataframe tbody tr th:only-of-type {\n",
       "        vertical-align: middle;\n",
       "    }\n",
       "\n",
       "    .dataframe tbody tr th {\n",
       "        vertical-align: top;\n",
       "    }\n",
       "\n",
       "    .dataframe thead th {\n",
       "        text-align: right;\n",
       "    }\n",
       "</style>\n",
       "<table border=\"1\" class=\"dataframe\">\n",
       "  <thead>\n",
       "    <tr style=\"text-align: right;\">\n",
       "      <th></th>\n",
       "      <th>Title</th>\n",
       "      <th>Opinion</th>\n",
       "      <th>Polarity</th>\n",
       "      <th>Attraction</th>\n",
       "    </tr>\n",
       "  </thead>\n",
       "  <tbody>\n",
       "    <tr>\n",
       "      <th>0</th>\n",
       "      <td>Pésimo lugar</td>\n",
       "      <td>Piensen do veces ir hotel , molestan , hijo se...</td>\n",
       "      <td>1</td>\n",
       "      <td>Hotel</td>\n",
       "    </tr>\n",
       "    <tr>\n",
       "      <th>1</th>\n",
       "      <td>No vayas a lugar de Eddie</td>\n",
       "      <td>Cuatro recientemente Eddie 's Place . servicio...</td>\n",
       "      <td>1</td>\n",
       "      <td>Restaurant</td>\n",
       "    </tr>\n",
       "    <tr>\n",
       "      <th>2</th>\n",
       "      <td>Mala relación calidad-precio</td>\n",
       "      <td>seguiré corta simple : limpieza - bad . insist...</td>\n",
       "      <td>1</td>\n",
       "      <td>Hotel</td>\n",
       "    </tr>\n",
       "    <tr>\n",
       "      <th>3</th>\n",
       "      <td>Minusválido? ¡No te alojes aquí!</td>\n",
       "      <td>reservar hotel multipropiedad Mayan grupo dije...</td>\n",
       "      <td>1</td>\n",
       "      <td>Hotel</td>\n",
       "    </tr>\n",
       "    <tr>\n",
       "      <th>4</th>\n",
       "      <td>Es una porqueria no pierdan su tiempo</td>\n",
       "      <td>pierdan tiempo dinero , venimos boda aquí mism...</td>\n",
       "      <td>1</td>\n",
       "      <td>Hotel</td>\n",
       "    </tr>\n",
       "    <tr>\n",
       "      <th>...</th>\n",
       "      <td>...</td>\n",
       "      <td>...</td>\n",
       "      <td>...</td>\n",
       "      <td>...</td>\n",
       "    </tr>\n",
       "    <tr>\n",
       "      <th>9995</th>\n",
       "      <td>Vacacion</td>\n",
       "      <td>excelente lugar vacacionar , servicio primera ...</td>\n",
       "      <td>5</td>\n",
       "      <td>Hotel</td>\n",
       "    </tr>\n",
       "    <tr>\n",
       "      <th>9996</th>\n",
       "      <td>Excelente y muy barato</td>\n",
       "      <td>Buena carne , tortilla recién hechas , queso f...</td>\n",
       "      <td>5</td>\n",
       "      <td>Restaurant</td>\n",
       "    </tr>\n",
       "    <tr>\n",
       "      <th>9997</th>\n",
       "      <td>Mi lugar favorito</td>\n",
       "      <td>Siempre vamos , vamos seguido , comemos delici...</td>\n",
       "      <td>5</td>\n",
       "      <td>Restaurant</td>\n",
       "    </tr>\n",
       "    <tr>\n",
       "      <th>9998</th>\n",
       "      <td>Joysquad excelente</td>\n",
       "      <td>Lisbhet Torre Punta excelente servicio amable ...</td>\n",
       "      <td>5</td>\n",
       "      <td>Hotel</td>\n",
       "    </tr>\n",
       "    <tr>\n",
       "      <th>9999</th>\n",
       "      <td>El hotel y sus empleados</td>\n",
       "      <td>hotel samba mejor clase podrá ver hoteles mejo...</td>\n",
       "      <td>5</td>\n",
       "      <td>Hotel</td>\n",
       "    </tr>\n",
       "  </tbody>\n",
       "</table>\n",
       "<p>10000 rows × 4 columns</p>\n",
       "</div>"
      ],
      "text/plain": [
       "                                      Title  \\\n",
       "0                              Pésimo lugar   \n",
       "1                 No vayas a lugar de Eddie   \n",
       "2              Mala relación calidad-precio   \n",
       "3          Minusválido? ¡No te alojes aquí!   \n",
       "4     Es una porqueria no pierdan su tiempo   \n",
       "...                                     ...   \n",
       "9995                               Vacacion   \n",
       "9996                 Excelente y muy barato   \n",
       "9997                      Mi lugar favorito   \n",
       "9998                     Joysquad excelente   \n",
       "9999               El hotel y sus empleados   \n",
       "\n",
       "                                                Opinion  Polarity  Attraction  \n",
       "0     Piensen do veces ir hotel , molestan , hijo se...         1       Hotel  \n",
       "1     Cuatro recientemente Eddie 's Place . servicio...         1  Restaurant  \n",
       "2     seguiré corta simple : limpieza - bad . insist...         1       Hotel  \n",
       "3     reservar hotel multipropiedad Mayan grupo dije...         1       Hotel  \n",
       "4     pierdan tiempo dinero , venimos boda aquí mism...         1       Hotel  \n",
       "...                                                 ...       ...         ...  \n",
       "9995  excelente lugar vacacionar , servicio primera ...         5       Hotel  \n",
       "9996  Buena carne , tortilla recién hechas , queso f...         5  Restaurant  \n",
       "9997  Siempre vamos , vamos seguido , comemos delici...         5  Restaurant  \n",
       "9998  Lisbhet Torre Punta excelente servicio amable ...         5       Hotel  \n",
       "9999  hotel samba mejor clase podrá ver hoteles mejo...         5       Hotel  \n",
       "\n",
       "[10000 rows x 4 columns]"
      ]
     },
     "execution_count": 10,
     "metadata": {},
     "output_type": "execute_result"
    }
   ],
   "source": [
    "myTest"
   ]
  },
  {
   "cell_type": "markdown",
   "metadata": {},
   "source": [
    "# Splitting"
   ]
  },
  {
   "cell_type": "code",
   "execution_count": 11,
   "metadata": {},
   "outputs": [],
   "source": [
    "train, test = train_test_split(myTest, test_size=0.2)"
   ]
  },
  {
   "cell_type": "code",
   "execution_count": 12,
   "metadata": {},
   "outputs": [
    {
     "data": {
      "text/html": [
       "<div>\n",
       "<style scoped>\n",
       "    .dataframe tbody tr th:only-of-type {\n",
       "        vertical-align: middle;\n",
       "    }\n",
       "\n",
       "    .dataframe tbody tr th {\n",
       "        vertical-align: top;\n",
       "    }\n",
       "\n",
       "    .dataframe thead th {\n",
       "        text-align: right;\n",
       "    }\n",
       "</style>\n",
       "<table border=\"1\" class=\"dataframe\">\n",
       "  <thead>\n",
       "    <tr style=\"text-align: right;\">\n",
       "      <th></th>\n",
       "      <th>Title</th>\n",
       "      <th>Opinion</th>\n",
       "      <th>Polarity</th>\n",
       "      <th>Attraction</th>\n",
       "    </tr>\n",
       "  </thead>\n",
       "  <tbody>\n",
       "    <tr>\n",
       "      <th>4097</th>\n",
       "      <td>Holidays</td>\n",
       "      <td>Lugar acogedor bueno vacacionar . Solo servici...</td>\n",
       "      <td>4</td>\n",
       "      <td>Hotel</td>\n",
       "    </tr>\n",
       "    <tr>\n",
       "      <th>2228</th>\n",
       "      <td>Hermosa propiedad ... servicio peor que la media</td>\n",
       "      <td>: Acabo volver PVR después estancia 5 noches 3...</td>\n",
       "      <td>3</td>\n",
       "      <td>Hotel</td>\n",
       "    </tr>\n",
       "    <tr>\n",
       "      <th>4732</th>\n",
       "      <td>Ruidosa, pero bueno</td>\n",
       "      <td>Grand Velas mejor sopa tortilla probado . inte...</td>\n",
       "      <td>4</td>\n",
       "      <td>Restaurant</td>\n",
       "    </tr>\n",
       "    <tr>\n",
       "      <th>2532</th>\n",
       "      <td>Demasiados saltamontes y camarones w/Head</td>\n",
       "      <td>bistec Mole saltamontes , gustaría alguien dic...</td>\n",
       "      <td>3</td>\n",
       "      <td>Restaurant</td>\n",
       "    </tr>\n",
       "    <tr>\n",
       "      <th>4397</th>\n",
       "      <td>sabor local</td>\n",
       "      <td>pequeño gran restaurante local simpáticos cama...</td>\n",
       "      <td>4</td>\n",
       "      <td>Restaurant</td>\n",
       "    </tr>\n",
       "    <tr>\n",
       "      <th>...</th>\n",
       "      <td>...</td>\n",
       "      <td>...</td>\n",
       "      <td>...</td>\n",
       "      <td>...</td>\n",
       "    </tr>\n",
       "    <tr>\n",
       "      <th>9830</th>\n",
       "      <td>Vistas increíbles!</td>\n",
       "      <td>Vimos atardecer vista increíble ! comida bebid...</td>\n",
       "      <td>5</td>\n",
       "      <td>Restaurant</td>\n",
       "    </tr>\n",
       "    <tr>\n",
       "      <th>3899</th>\n",
       "      <td>Esperaba un poco más</td>\n",
       "      <td>hospedado Resort 19 22 septiembre 2014 aunque ...</td>\n",
       "      <td>4</td>\n",
       "      <td>Hotel</td>\n",
       "    </tr>\n",
       "    <tr>\n",
       "      <th>757</th>\n",
       "      <td>Muy baja calidad por lo que se paga</td>\n",
       "      <td>tanta variedad alimentos . calidad alimentos d...</td>\n",
       "      <td>2</td>\n",
       "      <td>Hotel</td>\n",
       "    </tr>\n",
       "    <tr>\n",
       "      <th>7833</th>\n",
       "      <td>Mercado de Guanajuato</td>\n",
       "      <td>sitio bueno comer gorditas comida callejera , ...</td>\n",
       "      <td>4</td>\n",
       "      <td>Attractive</td>\n",
       "    </tr>\n",
       "    <tr>\n",
       "      <th>1791</th>\n",
       "      <td>Decepcionante.</td>\n",
       "      <td>dijeron Riviera Grill buen lugar comida mexica...</td>\n",
       "      <td>3</td>\n",
       "      <td>Restaurant</td>\n",
       "    </tr>\n",
       "  </tbody>\n",
       "</table>\n",
       "<p>8000 rows × 4 columns</p>\n",
       "</div>"
      ],
      "text/plain": [
       "                                                 Title  \\\n",
       "4097                                          Holidays   \n",
       "2228  Hermosa propiedad ... servicio peor que la media   \n",
       "4732                               Ruidosa, pero bueno   \n",
       "2532         Demasiados saltamontes y camarones w/Head   \n",
       "4397                                       sabor local   \n",
       "...                                                ...   \n",
       "9830                                Vistas increíbles!   \n",
       "3899                              Esperaba un poco más   \n",
       "757                Muy baja calidad por lo que se paga   \n",
       "7833                             Mercado de Guanajuato   \n",
       "1791                                    Decepcionante.   \n",
       "\n",
       "                                                Opinion  Polarity  Attraction  \n",
       "4097  Lugar acogedor bueno vacacionar . Solo servici...         4       Hotel  \n",
       "2228  : Acabo volver PVR después estancia 5 noches 3...         3       Hotel  \n",
       "4732  Grand Velas mejor sopa tortilla probado . inte...         4  Restaurant  \n",
       "2532  bistec Mole saltamontes , gustaría alguien dic...         3  Restaurant  \n",
       "4397  pequeño gran restaurante local simpáticos cama...         4  Restaurant  \n",
       "...                                                 ...       ...         ...  \n",
       "9830  Vimos atardecer vista increíble ! comida bebid...         5  Restaurant  \n",
       "3899  hospedado Resort 19 22 septiembre 2014 aunque ...         4       Hotel  \n",
       "757   tanta variedad alimentos . calidad alimentos d...         2       Hotel  \n",
       "7833  sitio bueno comer gorditas comida callejera , ...         4  Attractive  \n",
       "1791  dijeron Riviera Grill buen lugar comida mexica...         3  Restaurant  \n",
       "\n",
       "[8000 rows x 4 columns]"
      ]
     },
     "execution_count": 12,
     "metadata": {},
     "output_type": "execute_result"
    }
   ],
   "source": [
    "train"
   ]
  },
  {
   "cell_type": "code",
   "execution_count": 13,
   "metadata": {},
   "outputs": [
    {
     "data": {
      "text/html": [
       "<div>\n",
       "<style scoped>\n",
       "    .dataframe tbody tr th:only-of-type {\n",
       "        vertical-align: middle;\n",
       "    }\n",
       "\n",
       "    .dataframe tbody tr th {\n",
       "        vertical-align: top;\n",
       "    }\n",
       "\n",
       "    .dataframe thead th {\n",
       "        text-align: right;\n",
       "    }\n",
       "</style>\n",
       "<table border=\"1\" class=\"dataframe\">\n",
       "  <thead>\n",
       "    <tr style=\"text-align: right;\">\n",
       "      <th></th>\n",
       "      <th>Title</th>\n",
       "      <th>Opinion</th>\n",
       "      <th>Polarity</th>\n",
       "      <th>Attraction</th>\n",
       "    </tr>\n",
       "  </thead>\n",
       "  <tbody>\n",
       "    <tr>\n",
       "      <th>2660</th>\n",
       "      <td>Limitada</td>\n",
       "      <td>mejor servicio , inspiración menú == buena ubi...</td>\n",
       "      <td>3</td>\n",
       "      <td>Restaurant</td>\n",
       "    </tr>\n",
       "    <tr>\n",
       "      <th>2012</th>\n",
       "      <td>Bonito hotel con una playa marginal</td>\n",
       "      <td>hotel personal excepcionales . ubicación limit...</td>\n",
       "      <td>3</td>\n",
       "      <td>Hotel</td>\n",
       "    </tr>\n",
       "    <tr>\n",
       "      <th>6424</th>\n",
       "      <td>Vacaciones en familia</td>\n",
       "      <td>hotel súper bien , atencion instalaciones padr...</td>\n",
       "      <td>4</td>\n",
       "      <td>Hotel</td>\n",
       "    </tr>\n",
       "    <tr>\n",
       "      <th>9125</th>\n",
       "      <td>Mirador inmejorable de la ciudad</td>\n",
       "      <td>vista vale pena , además chiste subir pie hace...</td>\n",
       "      <td>4</td>\n",
       "      <td>Attractive</td>\n",
       "    </tr>\n",
       "    <tr>\n",
       "      <th>6801</th>\n",
       "      <td>Un placer inesperado</td>\n",
       "      <td>yendo mismos lugares años ... Bien esposa . gu...</td>\n",
       "      <td>4</td>\n",
       "      <td>Restaurant</td>\n",
       "    </tr>\n",
       "    <tr>\n",
       "      <th>...</th>\n",
       "      <td>...</td>\n",
       "      <td>...</td>\n",
       "      <td>...</td>\n",
       "      <td>...</td>\n",
       "    </tr>\n",
       "    <tr>\n",
       "      <th>4646</th>\n",
       "      <td>Hermoso complejo, pero las habitaciones son un...</td>\n",
       "      <td>esposa visitamos Hard Rock Nuevo Vallarta viaj...</td>\n",
       "      <td>4</td>\n",
       "      <td>Hotel</td>\n",
       "    </tr>\n",
       "    <tr>\n",
       "      <th>1838</th>\n",
       "      <td>Bueno pero detalles que mejorar</td>\n",
       "      <td>Empezemos recepción , llegas personal amable ,...</td>\n",
       "      <td>3</td>\n",
       "      <td>Hotel</td>\n",
       "    </tr>\n",
       "    <tr>\n",
       "      <th>6761</th>\n",
       "      <td>Señal de wi fi</td>\n",
       "      <td>general hotel lindo , solo deben considerar am...</td>\n",
       "      <td>4</td>\n",
       "      <td>Hotel</td>\n",
       "    </tr>\n",
       "    <tr>\n",
       "      <th>3055</th>\n",
       "      <td>Mixed feelings</td>\n",
       "      <td>I went there early in the morning , so there w...</td>\n",
       "      <td>3</td>\n",
       "      <td>Attractive</td>\n",
       "    </tr>\n",
       "    <tr>\n",
       "      <th>3243</th>\n",
       "      <td>Muy pocas momias</td>\n",
       "      <td>hicieron pocas pues entretiene rato si va ve c...</td>\n",
       "      <td>3</td>\n",
       "      <td>Attractive</td>\n",
       "    </tr>\n",
       "  </tbody>\n",
       "</table>\n",
       "<p>2000 rows × 4 columns</p>\n",
       "</div>"
      ],
      "text/plain": [
       "                                                  Title  \\\n",
       "2660                                           Limitada   \n",
       "2012                Bonito hotel con una playa marginal   \n",
       "6424                              Vacaciones en familia   \n",
       "9125                   Mirador inmejorable de la ciudad   \n",
       "6801                               Un placer inesperado   \n",
       "...                                                 ...   \n",
       "4646  Hermoso complejo, pero las habitaciones son un...   \n",
       "1838                    Bueno pero detalles que mejorar   \n",
       "6761                                     Señal de wi fi   \n",
       "3055                                     Mixed feelings   \n",
       "3243                                   Muy pocas momias   \n",
       "\n",
       "                                                Opinion  Polarity  Attraction  \n",
       "2660  mejor servicio , inspiración menú == buena ubi...         3  Restaurant  \n",
       "2012  hotel personal excepcionales . ubicación limit...         3       Hotel  \n",
       "6424  hotel súper bien , atencion instalaciones padr...         4       Hotel  \n",
       "9125  vista vale pena , además chiste subir pie hace...         4  Attractive  \n",
       "6801  yendo mismos lugares años ... Bien esposa . gu...         4  Restaurant  \n",
       "...                                                 ...       ...         ...  \n",
       "4646  esposa visitamos Hard Rock Nuevo Vallarta viaj...         4       Hotel  \n",
       "1838  Empezemos recepción , llegas personal amable ,...         3       Hotel  \n",
       "6761  general hotel lindo , solo deben considerar am...         4       Hotel  \n",
       "3055  I went there early in the morning , so there w...         3  Attractive  \n",
       "3243  hicieron pocas pues entretiene rato si va ve c...         3  Attractive  \n",
       "\n",
       "[2000 rows x 4 columns]"
      ]
     },
     "execution_count": 13,
     "metadata": {},
     "output_type": "execute_result"
    }
   ],
   "source": [
    "test"
   ]
  },
  {
   "cell_type": "markdown",
   "metadata": {},
   "source": [
    "# Text Representations"
   ]
  },
  {
   "cell_type": "code",
   "execution_count": 43,
   "metadata": {},
   "outputs": [],
   "source": [
    "vectorizador_binario = CountVectorizer(binary=True, token_pattern= r'(?u)\\w\\w+|\\w\\w+\\n|\\.')\n",
    "vectorizador_frecuencia = CountVectorizer(token_pattern= r'(?u)\\w\\w+|\\w\\w+\\n|\\.')\n",
    "vectorizador_tfidf = TfidfVectorizer()"
   ]
  },
  {
   "cell_type": "code",
   "execution_count": 44,
   "metadata": {},
   "outputs": [],
   "source": [
    "train_vectorizado = vectorizador_tfidf.fit_transform(train['Opinion'])"
   ]
  },
  {
   "cell_type": "code",
   "execution_count": 45,
   "metadata": {},
   "outputs": [],
   "source": [
    "test_vectorizado = vectorizador_tfidf.transform(test['Opinion'])"
   ]
  },
  {
   "cell_type": "code",
   "execution_count": 46,
   "metadata": {},
   "outputs": [
    {
     "name": "stdout",
     "output_type": "stream",
     "text": [
      "['00' '000' '00am' ... 'útiles' 'útlimo' 'ĺlegaron']\n",
      "[[0. 0. 0. ... 0. 0. 0.]\n",
      " [0. 0. 0. ... 0. 0. 0.]\n",
      " [0. 0. 0. ... 0. 0. 0.]\n",
      " ...\n",
      " [0. 0. 0. ... 0. 0. 0.]\n",
      " [0. 0. 0. ... 0. 0. 0.]\n",
      " [0. 0. 0. ... 0. 0. 0.]]\n",
      "29552\n",
      "29552\n"
     ]
    }
   ],
   "source": [
    "print(vectorizador_tfidf.get_feature_names_out())\n",
    "print(train_vectorizado.toarray())\n",
    "print(len(train_vectorizado.toarray()[0]))\n",
    "print(len(vectorizador_tfidf.get_feature_names_out()))"
   ]
  },
  {
   "cell_type": "markdown",
   "metadata": {},
   "source": [
    "# Using Sentiment lexicons"
   ]
  },
  {
   "cell_type": "code",
   "execution_count": 18,
   "metadata": {},
   "outputs": [],
   "source": [
    "def load_sel():\n",
    "\t#~ global lexicon_sel\n",
    "\tlexicon_sel = {}\n",
    "\tinput_file = open('SEL_full.txt', 'r', encoding=\"utf-8\")\n",
    "\tfor line in input_file:\n",
    "\t\t#Las líneas del lexicon tienen el siguiente formato:\n",
    "\t\t#abundancia\t0\t0\t50\t50\t0.83\tAlegría\n",
    "\t\t\n",
    "\t\tpalabras = line.split(\"\\t\")\n",
    "\t\tpalabras[6]= re.sub('\\n', '', palabras[6])\n",
    "\t\tpair = (palabras[6], palabras[5])\n",
    "\t\tif lexicon_sel:\n",
    "\t\t\tif palabras[0] not in lexicon_sel:\n",
    "\t\t\t\tlista = [pair]\n",
    "\t\t\t\tlexicon_sel[palabras[0]] = lista\n",
    "\t\t\telse:\n",
    "\t\t\t\tlexicon_sel[palabras[0]].append (pair)\n",
    "\t\telse:\n",
    "\t\t\tlista = [pair]\n",
    "\t\t\tlexicon_sel[palabras[0]] = lista\n",
    "\tinput_file.close()\n",
    "\tdel lexicon_sel['Palabra']; #Esta llave se inserta porque es parte del encabezado del diccionario, por lo que se requiere eliminar\n",
    "\t#Estructura resultante\n",
    "\t\t#'hastiar': [('Enojo\\n', '0.629'), ('Repulsi\\xf3n\\n', '0.596')]\n",
    "\treturn lexicon_sel"
   ]
  },
  {
   "cell_type": "code",
   "execution_count": 19,
   "metadata": {},
   "outputs": [],
   "source": [
    "if (os.path.exists('lexicon_sel.pkl')):\n",
    "    lexicon_sel_file = open ('lexicon_sel.pkl','rb')\n",
    "    lexicon_sel = pickle.load(lexicon_sel_file)\n",
    "else:\n",
    "    lexicon_sel = load_sel()\n",
    "    lexicon_sel_file = open ('lexicon_sel.pkl','wb')\n",
    "    pickle.dump(lexicon_sel, lexicon_sel_file)\n",
    "    lexicon_sel_file.close()"
   ]
  },
  {
   "cell_type": "code",
   "execution_count": 47,
   "metadata": {},
   "outputs": [
    {
     "name": "stdout",
     "output_type": "stream",
     "text": [
      "[('Alegría', '0.596')]\n"
     ]
    }
   ],
   "source": [
    "print(lexicon_sel['gustar'])"
   ]
  },
  {
   "cell_type": "code",
   "execution_count": 48,
   "metadata": {},
   "outputs": [],
   "source": [
    "def getSELFeatures(cadenas, lexicon_sel):\n",
    "\t#'hastiar': [('Enojo\\n', '0.629'), ('Repulsi\\xf3n\\n', '0.596')]\n",
    "\tfeatures = []\n",
    "\tfor cadena in cadenas:\n",
    "\t\tvalor_alegria = 0.0\n",
    "\t\tvalor_enojo = 0.0\n",
    "\t\tvalor_miedo = 0.0\n",
    "\t\tvalor_repulsion = 0.0\n",
    "\t\tvalor_sorpresa = 0.0\n",
    "\t\tvalor_tristeza = 0.0\n",
    "\t\tcadena_palabras = re.split('\\s+', cadena)\n",
    "\t\tdic = {}\n",
    "\t\tfor palabra in cadena_palabras:\n",
    "\t\t\tif palabra in lexicon_sel:\n",
    "\t\t\t\tcaracteristicas = lexicon_sel[palabra]\n",
    "\t\t\t\tfor emocion, valor in caracteristicas:\n",
    "\t\t\t\t\tif emocion == 'Alegría':\n",
    "\t\t\t\t\t\tvalor_alegria = valor_alegria + float(valor)\n",
    "\t\t\t\t\telif emocion == 'Tristeza':\n",
    "\t\t\t\t\t\tvalor_tristeza = valor_tristeza + float(valor)\n",
    "\t\t\t\t\telif emocion == 'Enojo':\n",
    "\t\t\t\t\t\tvalor_enojo = valor_enojo + float(valor)\n",
    "\t\t\t\t\telif emocion == 'Repulsión':\n",
    "\t\t\t\t\t\tvalor_repulsion = valor_repulsion + float(valor)\n",
    "\t\t\t\t\telif emocion == 'Miedo':\n",
    "\t\t\t\t\t\tvalor_miedo = valor_miedo + float(valor)\n",
    "\t\t\t\t\telif emocion == 'Sorpresa':\n",
    "\t\t\t\t\t\tvalor_sorpresa = valor_sorpresa + float(valor)\n",
    "\t\tdic['__txt__'] = cadena_palabras\n",
    "\t\tdic['__alegria__'] = valor_alegria\n",
    "\t\tdic['__tristeza__'] = valor_tristeza\n",
    "\t\tdic['__enojo__'] = valor_enojo\n",
    "\t\tdic['__repulsion__'] = valor_repulsion\n",
    "\t\tdic['__miedo__'] = valor_miedo\n",
    "\t\tdic['__sorpresa__'] = valor_sorpresa\n",
    "\t\t\n",
    "\t\t#Esto es para los valores acumulados del mapeo a positivo (alegría + sorpresa) y negativo (enojo + miedo + repulsión + tristeza)\n",
    "\t\tdic['acumuladopositivo'] = dic['__alegria__'] + dic['__sorpresa__']\n",
    "\t\tdic['acumuladonegative'] = dic['__enojo__'] + dic['__miedo__'] + dic['__repulsion__'] + dic['__tristeza__']\n",
    "\t\t\n",
    "\t\tfeatures.append (dic)\n",
    "\t\n",
    "\t\n",
    "\treturn features"
   ]
  },
  {
   "cell_type": "code",
   "execution_count": 49,
   "metadata": {},
   "outputs": [
    {
     "name": "stdout",
     "output_type": "stream",
     "text": [
      "TEXTO\n",
      "Aunque parece hipócrita arte Rivera ( ve zona segura ) , debo reconocer obras agradan . museo interesante simple hecho conocer primer hogar Rivera . Bastante fancy . chido si gusta ver cosas antigua .\n",
      "POLARIDAD\n",
      "{'__txt__': ['Lugar', 'acogedor', 'bueno', 'vacacionar', '.', 'Solo', 'servicio', 'taxi', 'pésimo', 'general', 'gusto', 'pase', 'increíble', ',', 'ademas', 'buena', 'atención', 'personal', ',', 'cuidadosos', 'huéspedes'], '__alegria__': 2.357, '__tristeza__': 0.0, '__enojo__': 0.0, '__repulsion__': 0.63, '__miedo__': 0.0, '__sorpresa__': 0.0, 'acumuladopositivo': 2.357, 'acumuladonegative': 0.63}\n"
     ]
    }
   ],
   "source": [
    "polaridad = getSELFeatures(train['Opinion'], lexicon_sel)\n",
    "print(\"TEXTO\")\n",
    "print(train['Opinion'][7693])\n",
    "print(\"POLARIDAD\")\n",
    "print (polaridad[0])"
   ]
  },
  {
   "cell_type": "code",
   "execution_count": null,
   "metadata": {},
   "outputs": [],
   "source": [
    "polaridad_cadena_pos = np.array([polaridad[0]['acumuladopositivo']])\n",
    "polaridad_cadena_neg = np.array([polaridad[0]['acumuladonegative']])\n",
    "polaridad_cadena = np.concatenate((polaridad_cadena_pos, polaridad_cadena_neg), axis=0)"
   ]
  },
  {
   "cell_type": "markdown",
   "metadata": {},
   "source": [
    "# Training ML models"
   ]
  },
  {
   "cell_type": "markdown",
   "metadata": {},
   "source": [
    "## Without NLTK"
   ]
  },
  {
   "cell_type": "code",
   "execution_count": 40,
   "metadata": {},
   "outputs": [],
   "source": [
    "x_train = train_vectorizado\n",
    "y_train = train['Polarity']\n",
    "x_test = test_vectorizado\n",
    "y_test = test['Polarity']"
   ]
  },
  {
   "cell_type": "code",
   "execution_count": 42,
   "metadata": {},
   "outputs": [
    {
     "name": "stdout",
     "output_type": "stream",
     "text": [
      "  (0, 14655)\t0.21489746316734312\n",
      "  (0, 7944)\t0.471997395738744\n",
      "  (0, 21122)\t0.12006246219586392\n",
      "  (0, 3158)\t0.1833612387058041\n",
      "  (0, 4457)\t0.12337146589146565\n",
      "  (0, 1127)\t0.28279096649142316\n",
      "  (0, 15127)\t0.17597894759636737\n",
      "  (0, 20622)\t0.29679247422734784\n",
      "  (0, 13956)\t0.21073375479499623\n",
      "  (0, 13409)\t0.1616876357544541\n",
      "  (0, 22722)\t0.28158176130441925\n",
      "  (0, 26900)\t0.19231032064514206\n",
      "  (0, 25474)\t0.10502001810462905\n",
      "  (0, 25984)\t0.186939071252508\n",
      "  (0, 28322)\t0.3550624111534327\n",
      "  (0, 4464)\t0.14299134621099757\n",
      "  (0, 882)\t0.27811785862837407\n",
      "  (0, 17224)\t0.10996194124670956\n",
      "  (1, 16604)\t0.03337324003299682\n",
      "  (1, 3160)\t0.04261507365136779\n",
      "  (1, 16839)\t0.029917570321517924\n",
      "  (1, 22010)\t0.04715152987918691\n",
      "  (1, 28266)\t0.031329232263059996\n",
      "  (1, 6360)\t0.04363701517231048\n",
      "  (1, 6584)\t0.04153125683630938\n",
      "  :\t:\n",
      "  (7999, 17740)\t0.08456088603468845\n",
      "  (7999, 16980)\t0.1006780001891303\n",
      "  (7999, 18227)\t0.17679878263876778\n",
      "  (7999, 21529)\t0.15026410661354023\n",
      "  (7999, 18121)\t0.07766753391186947\n",
      "  (7999, 6340)\t0.06870359387892556\n",
      "  (7999, 4751)\t0.09075718887202103\n",
      "  (7999, 13759)\t0.1242545125045003\n",
      "  (7999, 19083)\t0.09143542110757993\n",
      "  (7999, 4008)\t0.047876678010999575\n",
      "  (7999, 3130)\t0.05433152641681304\n",
      "  (7999, 25614)\t0.13393832290132868\n",
      "  (7999, 12377)\t0.1172789135050061\n",
      "  (7999, 8247)\t0.09092462144335099\n",
      "  (7999, 25645)\t0.1163685857544588\n",
      "  (7999, 20343)\t0.10576788054695391\n",
      "  (7999, 5195)\t0.08331251826671895\n",
      "  (7999, 19509)\t0.06798982796620257\n",
      "  (7999, 24217)\t0.058136449270877376\n",
      "  (7999, 17897)\t0.09490797699977502\n",
      "  (7999, 6376)\t0.15195551878488947\n",
      "  (7999, 3869)\t0.06446029516786957\n",
      "  (7999, 28745)\t0.05857142734240416\n",
      "  (7999, 25474)\t0.12516677740507712\n",
      "  (7999, 17224)\t0.04368558195367008\n"
     ]
    }
   ],
   "source": [
    "print(x_train)"
   ]
  },
  {
   "cell_type": "code",
   "execution_count": 35,
   "metadata": {},
   "outputs": [],
   "source": [
    "clf_polarity = LogisticRegression(max_iter=10000)\n",
    "clf_polarity.fit(x_train,y_train)\n",
    "y_pred = clf_polarity.predict(x_test)"
   ]
  },
  {
   "cell_type": "code",
   "execution_count": 17,
   "metadata": {},
   "outputs": [],
   "source": [
    "clf_bayes = MultinomialNB()\n",
    "clf_bayes.fit(x_train, y_train)\n",
    "y_pred = clf_bayes.predict(x_test)"
   ]
  },
  {
   "cell_type": "markdown",
   "metadata": {},
   "source": [
    "### Lematizacion, stop words. Binarizado. Logistic Regression:"
   ]
  },
  {
   "cell_type": "code",
   "execution_count": 44,
   "metadata": {},
   "outputs": [
    {
     "name": "stdout",
     "output_type": "stream",
     "text": [
      "              precision    recall  f1-score   support\n",
      "\n",
      "           1       0.00      0.00      0.00       110\n",
      "           2       0.00      0.00      0.00       136\n",
      "           3       0.00      0.00      0.00       446\n",
      "           4       0.58      1.00      0.73      1154\n",
      "           5       0.00      0.00      0.00       154\n",
      "\n",
      "    accuracy                           0.58      2000\n",
      "   macro avg       0.12      0.20      0.15      2000\n",
      "weighted avg       0.33      0.58      0.42      2000\n",
      "\n"
     ]
    },
    {
     "name": "stderr",
     "output_type": "stream",
     "text": [
      "c:\\Users\\sergi\\miniconda3\\envs\\cursoNLP\\Lib\\site-packages\\sklearn\\metrics\\_classification.py:1469: UndefinedMetricWarning: Precision and F-score are ill-defined and being set to 0.0 in labels with no predicted samples. Use `zero_division` parameter to control this behavior.\n",
      "  _warn_prf(average, modifier, msg_start, len(result))\n",
      "c:\\Users\\sergi\\miniconda3\\envs\\cursoNLP\\Lib\\site-packages\\sklearn\\metrics\\_classification.py:1469: UndefinedMetricWarning: Precision and F-score are ill-defined and being set to 0.0 in labels with no predicted samples. Use `zero_division` parameter to control this behavior.\n",
      "  _warn_prf(average, modifier, msg_start, len(result))\n",
      "c:\\Users\\sergi\\miniconda3\\envs\\cursoNLP\\Lib\\site-packages\\sklearn\\metrics\\_classification.py:1469: UndefinedMetricWarning: Precision and F-score are ill-defined and being set to 0.0 in labels with no predicted samples. Use `zero_division` parameter to control this behavior.\n",
      "  _warn_prf(average, modifier, msg_start, len(result))\n"
     ]
    }
   ],
   "source": [
    "print(classification_report(y_test,y_pred))"
   ]
  },
  {
   "cell_type": "code",
   "execution_count": null,
   "metadata": {},
   "outputs": [],
   "source": []
  },
  {
   "cell_type": "markdown",
   "metadata": {},
   "source": [
    "### Lematizacion, stop words. Frecuencia. Logistic Regression:"
   ]
  },
  {
   "cell_type": "code",
   "execution_count": 45,
   "metadata": {},
   "outputs": [
    {
     "name": "stdout",
     "output_type": "stream",
     "text": [
      "              precision    recall  f1-score   support\n",
      "\n",
      "           1       0.00      0.00      0.00       110\n",
      "           2       0.00      0.00      0.00       136\n",
      "           3       0.00      0.00      0.00       446\n",
      "           4       0.58      1.00      0.73      1154\n",
      "           5       0.00      0.00      0.00       154\n",
      "\n",
      "    accuracy                           0.58      2000\n",
      "   macro avg       0.12      0.20      0.15      2000\n",
      "weighted avg       0.33      0.58      0.42      2000\n",
      "\n"
     ]
    },
    {
     "name": "stderr",
     "output_type": "stream",
     "text": [
      "c:\\Users\\sergi\\miniconda3\\envs\\cursoNLP\\Lib\\site-packages\\sklearn\\metrics\\_classification.py:1469: UndefinedMetricWarning: Precision and F-score are ill-defined and being set to 0.0 in labels with no predicted samples. Use `zero_division` parameter to control this behavior.\n",
      "  _warn_prf(average, modifier, msg_start, len(result))\n",
      "c:\\Users\\sergi\\miniconda3\\envs\\cursoNLP\\Lib\\site-packages\\sklearn\\metrics\\_classification.py:1469: UndefinedMetricWarning: Precision and F-score are ill-defined and being set to 0.0 in labels with no predicted samples. Use `zero_division` parameter to control this behavior.\n",
      "  _warn_prf(average, modifier, msg_start, len(result))\n",
      "c:\\Users\\sergi\\miniconda3\\envs\\cursoNLP\\Lib\\site-packages\\sklearn\\metrics\\_classification.py:1469: UndefinedMetricWarning: Precision and F-score are ill-defined and being set to 0.0 in labels with no predicted samples. Use `zero_division` parameter to control this behavior.\n",
      "  _warn_prf(average, modifier, msg_start, len(result))\n"
     ]
    }
   ],
   "source": [
    "print(classification_report(y_test,y_pred))"
   ]
  },
  {
   "cell_type": "markdown",
   "metadata": {},
   "source": [
    "### Lematizacion, stop words. Tf-idf. Logistic Regression:"
   ]
  },
  {
   "cell_type": "code",
   "execution_count": 46,
   "metadata": {},
   "outputs": [
    {
     "name": "stdout",
     "output_type": "stream",
     "text": [
      "              precision    recall  f1-score   support\n",
      "\n",
      "           1       0.00      0.00      0.00       110\n",
      "           2       0.00      0.00      0.00       136\n",
      "           3       0.00      0.00      0.00       446\n",
      "           4       0.58      1.00      0.73      1154\n",
      "           5       0.00      0.00      0.00       154\n",
      "\n",
      "    accuracy                           0.58      2000\n",
      "   macro avg       0.12      0.20      0.15      2000\n",
      "weighted avg       0.33      0.58      0.42      2000\n",
      "\n"
     ]
    },
    {
     "name": "stderr",
     "output_type": "stream",
     "text": [
      "c:\\Users\\sergi\\miniconda3\\envs\\cursoNLP\\Lib\\site-packages\\sklearn\\metrics\\_classification.py:1469: UndefinedMetricWarning: Precision and F-score are ill-defined and being set to 0.0 in labels with no predicted samples. Use `zero_division` parameter to control this behavior.\n",
      "  _warn_prf(average, modifier, msg_start, len(result))\n",
      "c:\\Users\\sergi\\miniconda3\\envs\\cursoNLP\\Lib\\site-packages\\sklearn\\metrics\\_classification.py:1469: UndefinedMetricWarning: Precision and F-score are ill-defined and being set to 0.0 in labels with no predicted samples. Use `zero_division` parameter to control this behavior.\n",
      "  _warn_prf(average, modifier, msg_start, len(result))\n",
      "c:\\Users\\sergi\\miniconda3\\envs\\cursoNLP\\Lib\\site-packages\\sklearn\\metrics\\_classification.py:1469: UndefinedMetricWarning: Precision and F-score are ill-defined and being set to 0.0 in labels with no predicted samples. Use `zero_division` parameter to control this behavior.\n",
      "  _warn_prf(average, modifier, msg_start, len(result))\n"
     ]
    }
   ],
   "source": [
    "print(classification_report(y_test,y_pred))"
   ]
  },
  {
   "cell_type": "markdown",
   "metadata": {},
   "source": [
    "### Lematizacion, stop words. Tf-idf. Multinomial Naive Bayes"
   ]
  },
  {
   "cell_type": "code",
   "execution_count": 47,
   "metadata": {},
   "outputs": [
    {
     "name": "stdout",
     "output_type": "stream",
     "text": [
      "              precision    recall  f1-score   support\n",
      "\n",
      "           1       0.00      0.00      0.00       110\n",
      "           2       0.00      0.00      0.00       136\n",
      "           3       0.00      0.00      0.00       446\n",
      "           4       0.58      1.00      0.73      1154\n",
      "           5       0.00      0.00      0.00       154\n",
      "\n",
      "    accuracy                           0.58      2000\n",
      "   macro avg       0.12      0.20      0.15      2000\n",
      "weighted avg       0.33      0.58      0.42      2000\n",
      "\n"
     ]
    },
    {
     "name": "stderr",
     "output_type": "stream",
     "text": [
      "c:\\Users\\sergi\\miniconda3\\envs\\cursoNLP\\Lib\\site-packages\\sklearn\\metrics\\_classification.py:1469: UndefinedMetricWarning: Precision and F-score are ill-defined and being set to 0.0 in labels with no predicted samples. Use `zero_division` parameter to control this behavior.\n",
      "  _warn_prf(average, modifier, msg_start, len(result))\n",
      "c:\\Users\\sergi\\miniconda3\\envs\\cursoNLP\\Lib\\site-packages\\sklearn\\metrics\\_classification.py:1469: UndefinedMetricWarning: Precision and F-score are ill-defined and being set to 0.0 in labels with no predicted samples. Use `zero_division` parameter to control this behavior.\n",
      "  _warn_prf(average, modifier, msg_start, len(result))\n",
      "c:\\Users\\sergi\\miniconda3\\envs\\cursoNLP\\Lib\\site-packages\\sklearn\\metrics\\_classification.py:1469: UndefinedMetricWarning: Precision and F-score are ill-defined and being set to 0.0 in labels with no predicted samples. Use `zero_division` parameter to control this behavior.\n",
      "  _warn_prf(average, modifier, msg_start, len(result))\n"
     ]
    }
   ],
   "source": [
    "print(classification_report(y_test, y_pred))"
   ]
  },
  {
   "cell_type": "markdown",
   "metadata": {},
   "source": [
    "## With NLTK"
   ]
  },
  {
   "cell_type": "markdown",
   "metadata": {},
   "source": [
    "### Lematizacion, stop words. Binarizado. Logistic Regression:"
   ]
  },
  {
   "cell_type": "code",
   "execution_count": 24,
   "metadata": {},
   "outputs": [
    {
     "name": "stdout",
     "output_type": "stream",
     "text": [
      "              precision    recall  f1-score   support\n",
      "\n",
      "           1       0.68      0.21      0.32       109\n",
      "           2       0.44      0.05      0.09       143\n",
      "           3       0.43      0.27      0.33       409\n",
      "           4       0.69      0.95      0.80      1201\n",
      "           5       0.74      0.10      0.18       138\n",
      "\n",
      "    accuracy                           0.65      2000\n",
      "   macro avg       0.59      0.32      0.34      2000\n",
      "weighted avg       0.62      0.65      0.58      2000\n",
      "\n"
     ]
    }
   ],
   "source": [
    "print(classification_report(y_test,y_pred))"
   ]
  },
  {
   "cell_type": "markdown",
   "metadata": {},
   "source": [
    "### Lematizacion, stop words. Frecuencia. Logistic Regression:"
   ]
  },
  {
   "cell_type": "code",
   "execution_count": 36,
   "metadata": {},
   "outputs": [
    {
     "name": "stdout",
     "output_type": "stream",
     "text": [
      "              precision    recall  f1-score   support\n",
      "\n",
      "           1       0.68      0.21      0.32       109\n",
      "           2       0.44      0.05      0.09       143\n",
      "           3       0.43      0.27      0.33       409\n",
      "           4       0.69      0.95      0.80      1201\n",
      "           5       0.74      0.10      0.18       138\n",
      "\n",
      "    accuracy                           0.65      2000\n",
      "   macro avg       0.59      0.32      0.34      2000\n",
      "weighted avg       0.62      0.65      0.58      2000\n",
      "\n"
     ]
    }
   ],
   "source": [
    "print(classification_report(y_test,y_pred))"
   ]
  },
  {
   "cell_type": "code",
   "execution_count": 37,
   "metadata": {},
   "outputs": [
    {
     "name": "stderr",
     "output_type": "stream",
     "text": [
      "[Parallel(n_jobs=-1)]: Using backend LokyBackend with 8 concurrent workers.\n",
      "[Parallel(n_jobs=-1)]: Done   2 out of   5 | elapsed:   20.7s remaining:   31.2s\n",
      "[Parallel(n_jobs=-1)]: Done   5 out of   5 | elapsed:   21.2s finished\n"
     ]
    }
   ],
   "source": [
    "cv_results = cross_validate(clf_polarity, x_train,y_train, cv=5, scoring='f1_macro', verbose = 3, n_jobs = -1)"
   ]
  },
  {
   "cell_type": "code",
   "execution_count": 38,
   "metadata": {},
   "outputs": [
    {
     "data": {
      "text/plain": [
       "0.27621456039405234"
      ]
     },
     "execution_count": 38,
     "metadata": {},
     "output_type": "execute_result"
    }
   ],
   "source": [
    "cv_results['test_score'].mean()"
   ]
  }
 ],
 "metadata": {
  "kernelspec": {
   "display_name": "Python 3 (ipykernel)",
   "language": "python",
   "name": "python3"
  },
  "language_info": {
   "codemirror_mode": {
    "name": "ipython",
    "version": 3
   },
   "file_extension": ".py",
   "mimetype": "text/x-python",
   "name": "python",
   "nbconvert_exporter": "python",
   "pygments_lexer": "ipython3",
   "version": "3.11.5"
  }
 },
 "nbformat": 4,
 "nbformat_minor": 5
}
